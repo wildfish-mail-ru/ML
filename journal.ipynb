{
  "nbformat": 4,
  "nbformat_minor": 0,
  "metadata": {
    "colab": {
      "name": "journal.ipynb",
      "version": "0.3.2",
      "provenance": [],
      "collapsed_sections": [
        "0or8EnKjJ5tW"
      ],
      "toc_visible": true,
      "include_colab_link": true
    },
    "kernelspec": {
      "name": "python3",
      "display_name": "Python 3"
    },
    "accelerator": "GPU"
  },
  "cells": [
    {
      "cell_type": "markdown",
      "metadata": {
        "id": "view-in-github",
        "colab_type": "text"
      },
      "source": [
        "<a href=\"https://colab.research.google.com/github/wildfish-mail-ru/ML/blob/master/journal.ipynb\" target=\"_parent\"><img src=\"https://colab.research.google.com/assets/colab-badge.svg\" alt=\"Open In Colab\"/></a>"
      ]
    },
    {
      "cell_type": "markdown",
      "metadata": {
        "id": "j2sPBWcnuuso",
        "colab_type": "text"
      },
      "source": [
        "# Классификация заявок в Журнале обходов"
      ]
    },
    {
      "cell_type": "markdown",
      "metadata": {
        "id": "LISycCn933Bx",
        "colab_type": "text"
      },
      "source": [
        "## 0. Подготовка блокнота Colab к работе"
      ]
    },
    {
      "cell_type": "markdown",
      "metadata": {
        "id": "KOon9ShTT5uN",
        "colab_type": "text"
      },
      "source": [
        "В начале работы не забудьте переключить мощности используемого блокнота Google Colaboratory на графический процессор, выбрав пункт меню *Runtime-Change Runtime type*. В появившемся окне, выберите в списке *Hardware accelerator* пункт *GPU*, нажмите ОК. Так вы получите бесплатную мощность одного GPU (NVidia Tesla K80). Но помните, что \"после 12 часов карета превратится в тыкву!\" и через 12 часов использования выданная виртуальная машина будет сброшена и все данные, сохранённые вами, будут удалены.\n",
        "\n",
        "Так же не забудьте загрузить файлы данных (*journals.txt* и *journals-lemma.txt*), запустив следующий код. После этого файлы станут нам доступны, в чём можно убедиться, увидев их на закладке *Files*."
      ]
    },
    {
      "cell_type": "code",
      "metadata": {
        "id": "vncGZJ3K75th",
        "colab_type": "code",
        "outputId": "a2df9fa7-9612-46be-d1c1-3948d1aba442",
        "colab": {
          "base_uri": "https://localhost:8080/",
          "height": 390
        }
      },
      "source": [
        "# скачаем файлы данных\n",
        "import urllib.request\n",
        "# скачаем архивы\n",
        "urllib.request.urlretrieve('https://drive.google.com/uc?id=13U0-73yp6vdG29OPpGUkKhjeGNWUQd5z&export=download', 'journals.zip')\n",
        "urllib.request.urlretrieve('https://drive.google.com/uc?id=1b1XniAQhXKfjQvB5XavPsX0SALqugWEQ&export=download', 'journals-lemma.zip')\n",
        "# распакуем архивы\n",
        "!unzip journals.zip\n",
        "!unzip journals-lemma.zip"
      ],
      "execution_count": 0,
      "outputs": [
        {
          "output_type": "error",
          "ename": "KeyboardInterrupt",
          "evalue": "ignored",
          "traceback": [
            "\u001b[0;31m---------------------------------------------------------------------------\u001b[0m",
            "\u001b[0;31mKeyboardInterrupt\u001b[0m                         Traceback (most recent call last)",
            "\u001b[0;32m<ipython-input-2-15f224eb5aaf>\u001b[0m in \u001b[0;36m<module>\u001b[0;34m()\u001b[0m\n\u001b[1;32m      2\u001b[0m \u001b[0;31m# скачаем архивы\u001b[0m\u001b[0;34m\u001b[0m\u001b[0;34m\u001b[0m\u001b[0;34m\u001b[0m\u001b[0m\n\u001b[1;32m      3\u001b[0m \u001b[0murllib\u001b[0m\u001b[0;34m.\u001b[0m\u001b[0mrequest\u001b[0m\u001b[0;34m.\u001b[0m\u001b[0murlretrieve\u001b[0m\u001b[0;34m(\u001b[0m\u001b[0;34m'https://drive.google.com/uc?id=13U0-73yp6vdG29OPpGUkKhjeGNWUQd5z&export=download'\u001b[0m\u001b[0;34m,\u001b[0m \u001b[0;34m'journals.zip'\u001b[0m\u001b[0;34m)\u001b[0m\u001b[0;34m\u001b[0m\u001b[0;34m\u001b[0m\u001b[0m\n\u001b[0;32m----> 4\u001b[0;31m \u001b[0murllib\u001b[0m\u001b[0;34m.\u001b[0m\u001b[0mrequest\u001b[0m\u001b[0;34m.\u001b[0m\u001b[0murlretrieve\u001b[0m\u001b[0;34m(\u001b[0m\u001b[0;34m'https://drive.google.com/uc?id=1b1XniAQhXKfjQvB5XavPsX0SALqugWEQ&export=download'\u001b[0m\u001b[0;34m,\u001b[0m \u001b[0;34m'journals-lemma.zip'\u001b[0m\u001b[0;34m)\u001b[0m\u001b[0;34m\u001b[0m\u001b[0;34m\u001b[0m\u001b[0m\n\u001b[0m\u001b[1;32m      5\u001b[0m \u001b[0;31m# распакуем архивы\u001b[0m\u001b[0;34m\u001b[0m\u001b[0;34m\u001b[0m\u001b[0;34m\u001b[0m\u001b[0m\n\u001b[1;32m      6\u001b[0m \u001b[0mget_ipython\u001b[0m\u001b[0;34m(\u001b[0m\u001b[0;34m)\u001b[0m\u001b[0;34m.\u001b[0m\u001b[0msystem\u001b[0m\u001b[0;34m(\u001b[0m\u001b[0;34m'unzip journals.zip'\u001b[0m\u001b[0;34m)\u001b[0m\u001b[0;34m\u001b[0m\u001b[0;34m\u001b[0m\u001b[0m\n",
            "\u001b[0;32m/usr/lib/python3.6/urllib/request.py\u001b[0m in \u001b[0;36murlretrieve\u001b[0;34m(url, filename, reporthook, data)\u001b[0m\n\u001b[1;32m    246\u001b[0m     \u001b[0murl_type\u001b[0m\u001b[0;34m,\u001b[0m \u001b[0mpath\u001b[0m \u001b[0;34m=\u001b[0m \u001b[0msplittype\u001b[0m\u001b[0;34m(\u001b[0m\u001b[0murl\u001b[0m\u001b[0;34m)\u001b[0m\u001b[0;34m\u001b[0m\u001b[0;34m\u001b[0m\u001b[0m\n\u001b[1;32m    247\u001b[0m \u001b[0;34m\u001b[0m\u001b[0m\n\u001b[0;32m--> 248\u001b[0;31m     \u001b[0;32mwith\u001b[0m \u001b[0mcontextlib\u001b[0m\u001b[0;34m.\u001b[0m\u001b[0mclosing\u001b[0m\u001b[0;34m(\u001b[0m\u001b[0murlopen\u001b[0m\u001b[0;34m(\u001b[0m\u001b[0murl\u001b[0m\u001b[0;34m,\u001b[0m \u001b[0mdata\u001b[0m\u001b[0;34m)\u001b[0m\u001b[0;34m)\u001b[0m \u001b[0;32mas\u001b[0m \u001b[0mfp\u001b[0m\u001b[0;34m:\u001b[0m\u001b[0;34m\u001b[0m\u001b[0;34m\u001b[0m\u001b[0m\n\u001b[0m\u001b[1;32m    249\u001b[0m         \u001b[0mheaders\u001b[0m \u001b[0;34m=\u001b[0m \u001b[0mfp\u001b[0m\u001b[0;34m.\u001b[0m\u001b[0minfo\u001b[0m\u001b[0;34m(\u001b[0m\u001b[0;34m)\u001b[0m\u001b[0;34m\u001b[0m\u001b[0;34m\u001b[0m\u001b[0m\n\u001b[1;32m    250\u001b[0m \u001b[0;34m\u001b[0m\u001b[0m\n",
            "\u001b[0;32m/usr/lib/python3.6/urllib/request.py\u001b[0m in \u001b[0;36murlopen\u001b[0;34m(url, data, timeout, cafile, capath, cadefault, context)\u001b[0m\n\u001b[1;32m    221\u001b[0m     \u001b[0;32melse\u001b[0m\u001b[0;34m:\u001b[0m\u001b[0;34m\u001b[0m\u001b[0;34m\u001b[0m\u001b[0m\n\u001b[1;32m    222\u001b[0m         \u001b[0mopener\u001b[0m \u001b[0;34m=\u001b[0m \u001b[0m_opener\u001b[0m\u001b[0;34m\u001b[0m\u001b[0;34m\u001b[0m\u001b[0m\n\u001b[0;32m--> 223\u001b[0;31m     \u001b[0;32mreturn\u001b[0m \u001b[0mopener\u001b[0m\u001b[0;34m.\u001b[0m\u001b[0mopen\u001b[0m\u001b[0;34m(\u001b[0m\u001b[0murl\u001b[0m\u001b[0;34m,\u001b[0m \u001b[0mdata\u001b[0m\u001b[0;34m,\u001b[0m \u001b[0mtimeout\u001b[0m\u001b[0;34m)\u001b[0m\u001b[0;34m\u001b[0m\u001b[0;34m\u001b[0m\u001b[0m\n\u001b[0m\u001b[1;32m    224\u001b[0m \u001b[0;34m\u001b[0m\u001b[0m\n\u001b[1;32m    225\u001b[0m \u001b[0;32mdef\u001b[0m \u001b[0minstall_opener\u001b[0m\u001b[0;34m(\u001b[0m\u001b[0mopener\u001b[0m\u001b[0;34m)\u001b[0m\u001b[0;34m:\u001b[0m\u001b[0;34m\u001b[0m\u001b[0;34m\u001b[0m\u001b[0m\n",
            "\u001b[0;32m/usr/lib/python3.6/urllib/request.py\u001b[0m in \u001b[0;36mopen\u001b[0;34m(self, fullurl, data, timeout)\u001b[0m\n\u001b[1;32m    524\u001b[0m             \u001b[0mreq\u001b[0m \u001b[0;34m=\u001b[0m \u001b[0mmeth\u001b[0m\u001b[0;34m(\u001b[0m\u001b[0mreq\u001b[0m\u001b[0;34m)\u001b[0m\u001b[0;34m\u001b[0m\u001b[0;34m\u001b[0m\u001b[0m\n\u001b[1;32m    525\u001b[0m \u001b[0;34m\u001b[0m\u001b[0m\n\u001b[0;32m--> 526\u001b[0;31m         \u001b[0mresponse\u001b[0m \u001b[0;34m=\u001b[0m \u001b[0mself\u001b[0m\u001b[0;34m.\u001b[0m\u001b[0m_open\u001b[0m\u001b[0;34m(\u001b[0m\u001b[0mreq\u001b[0m\u001b[0;34m,\u001b[0m \u001b[0mdata\u001b[0m\u001b[0;34m)\u001b[0m\u001b[0;34m\u001b[0m\u001b[0;34m\u001b[0m\u001b[0m\n\u001b[0m\u001b[1;32m    527\u001b[0m \u001b[0;34m\u001b[0m\u001b[0m\n\u001b[1;32m    528\u001b[0m         \u001b[0;31m# post-process response\u001b[0m\u001b[0;34m\u001b[0m\u001b[0;34m\u001b[0m\u001b[0;34m\u001b[0m\u001b[0m\n",
            "\u001b[0;32m/usr/lib/python3.6/urllib/request.py\u001b[0m in \u001b[0;36m_open\u001b[0;34m(self, req, data)\u001b[0m\n\u001b[1;32m    542\u001b[0m         \u001b[0mprotocol\u001b[0m \u001b[0;34m=\u001b[0m \u001b[0mreq\u001b[0m\u001b[0;34m.\u001b[0m\u001b[0mtype\u001b[0m\u001b[0;34m\u001b[0m\u001b[0;34m\u001b[0m\u001b[0m\n\u001b[1;32m    543\u001b[0m         result = self._call_chain(self.handle_open, protocol, protocol +\n\u001b[0;32m--> 544\u001b[0;31m                                   '_open', req)\n\u001b[0m\u001b[1;32m    545\u001b[0m         \u001b[0;32mif\u001b[0m \u001b[0mresult\u001b[0m\u001b[0;34m:\u001b[0m\u001b[0;34m\u001b[0m\u001b[0;34m\u001b[0m\u001b[0m\n\u001b[1;32m    546\u001b[0m             \u001b[0;32mreturn\u001b[0m \u001b[0mresult\u001b[0m\u001b[0;34m\u001b[0m\u001b[0;34m\u001b[0m\u001b[0m\n",
            "\u001b[0;32m/usr/lib/python3.6/urllib/request.py\u001b[0m in \u001b[0;36m_call_chain\u001b[0;34m(self, chain, kind, meth_name, *args)\u001b[0m\n\u001b[1;32m    502\u001b[0m         \u001b[0;32mfor\u001b[0m \u001b[0mhandler\u001b[0m \u001b[0;32min\u001b[0m \u001b[0mhandlers\u001b[0m\u001b[0;34m:\u001b[0m\u001b[0;34m\u001b[0m\u001b[0;34m\u001b[0m\u001b[0m\n\u001b[1;32m    503\u001b[0m             \u001b[0mfunc\u001b[0m \u001b[0;34m=\u001b[0m \u001b[0mgetattr\u001b[0m\u001b[0;34m(\u001b[0m\u001b[0mhandler\u001b[0m\u001b[0;34m,\u001b[0m \u001b[0mmeth_name\u001b[0m\u001b[0;34m)\u001b[0m\u001b[0;34m\u001b[0m\u001b[0;34m\u001b[0m\u001b[0m\n\u001b[0;32m--> 504\u001b[0;31m             \u001b[0mresult\u001b[0m \u001b[0;34m=\u001b[0m \u001b[0mfunc\u001b[0m\u001b[0;34m(\u001b[0m\u001b[0;34m*\u001b[0m\u001b[0margs\u001b[0m\u001b[0;34m)\u001b[0m\u001b[0;34m\u001b[0m\u001b[0;34m\u001b[0m\u001b[0m\n\u001b[0m\u001b[1;32m    505\u001b[0m             \u001b[0;32mif\u001b[0m \u001b[0mresult\u001b[0m \u001b[0;32mis\u001b[0m \u001b[0;32mnot\u001b[0m \u001b[0;32mNone\u001b[0m\u001b[0;34m:\u001b[0m\u001b[0;34m\u001b[0m\u001b[0;34m\u001b[0m\u001b[0m\n\u001b[1;32m    506\u001b[0m                 \u001b[0;32mreturn\u001b[0m \u001b[0mresult\u001b[0m\u001b[0;34m\u001b[0m\u001b[0;34m\u001b[0m\u001b[0m\n",
            "\u001b[0;32m/usr/lib/python3.6/urllib/request.py\u001b[0m in \u001b[0;36mhttps_open\u001b[0;34m(self, req)\u001b[0m\n\u001b[1;32m   1359\u001b[0m         \u001b[0;32mdef\u001b[0m \u001b[0mhttps_open\u001b[0m\u001b[0;34m(\u001b[0m\u001b[0mself\u001b[0m\u001b[0;34m,\u001b[0m \u001b[0mreq\u001b[0m\u001b[0;34m)\u001b[0m\u001b[0;34m:\u001b[0m\u001b[0;34m\u001b[0m\u001b[0;34m\u001b[0m\u001b[0m\n\u001b[1;32m   1360\u001b[0m             return self.do_open(http.client.HTTPSConnection, req,\n\u001b[0;32m-> 1361\u001b[0;31m                 context=self._context, check_hostname=self._check_hostname)\n\u001b[0m\u001b[1;32m   1362\u001b[0m \u001b[0;34m\u001b[0m\u001b[0m\n\u001b[1;32m   1363\u001b[0m         \u001b[0mhttps_request\u001b[0m \u001b[0;34m=\u001b[0m \u001b[0mAbstractHTTPHandler\u001b[0m\u001b[0;34m.\u001b[0m\u001b[0mdo_request_\u001b[0m\u001b[0;34m\u001b[0m\u001b[0;34m\u001b[0m\u001b[0m\n",
            "\u001b[0;32m/usr/lib/python3.6/urllib/request.py\u001b[0m in \u001b[0;36mdo_open\u001b[0;34m(self, http_class, req, **http_conn_args)\u001b[0m\n\u001b[1;32m   1319\u001b[0m             \u001b[0;32mexcept\u001b[0m \u001b[0mOSError\u001b[0m \u001b[0;32mas\u001b[0m \u001b[0merr\u001b[0m\u001b[0;34m:\u001b[0m \u001b[0;31m# timeout error\u001b[0m\u001b[0;34m\u001b[0m\u001b[0;34m\u001b[0m\u001b[0m\n\u001b[1;32m   1320\u001b[0m                 \u001b[0;32mraise\u001b[0m \u001b[0mURLError\u001b[0m\u001b[0;34m(\u001b[0m\u001b[0merr\u001b[0m\u001b[0;34m)\u001b[0m\u001b[0;34m\u001b[0m\u001b[0;34m\u001b[0m\u001b[0m\n\u001b[0;32m-> 1321\u001b[0;31m             \u001b[0mr\u001b[0m \u001b[0;34m=\u001b[0m \u001b[0mh\u001b[0m\u001b[0;34m.\u001b[0m\u001b[0mgetresponse\u001b[0m\u001b[0;34m(\u001b[0m\u001b[0;34m)\u001b[0m\u001b[0;34m\u001b[0m\u001b[0;34m\u001b[0m\u001b[0m\n\u001b[0m\u001b[1;32m   1322\u001b[0m         \u001b[0;32mexcept\u001b[0m\u001b[0;34m:\u001b[0m\u001b[0;34m\u001b[0m\u001b[0;34m\u001b[0m\u001b[0m\n\u001b[1;32m   1323\u001b[0m             \u001b[0mh\u001b[0m\u001b[0;34m.\u001b[0m\u001b[0mclose\u001b[0m\u001b[0;34m(\u001b[0m\u001b[0;34m)\u001b[0m\u001b[0;34m\u001b[0m\u001b[0;34m\u001b[0m\u001b[0m\n",
            "\u001b[0;32m/usr/lib/python3.6/http/client.py\u001b[0m in \u001b[0;36mgetresponse\u001b[0;34m(self)\u001b[0m\n\u001b[1;32m   1329\u001b[0m         \u001b[0;32mtry\u001b[0m\u001b[0;34m:\u001b[0m\u001b[0;34m\u001b[0m\u001b[0;34m\u001b[0m\u001b[0m\n\u001b[1;32m   1330\u001b[0m             \u001b[0;32mtry\u001b[0m\u001b[0;34m:\u001b[0m\u001b[0;34m\u001b[0m\u001b[0;34m\u001b[0m\u001b[0m\n\u001b[0;32m-> 1331\u001b[0;31m                 \u001b[0mresponse\u001b[0m\u001b[0;34m.\u001b[0m\u001b[0mbegin\u001b[0m\u001b[0;34m(\u001b[0m\u001b[0;34m)\u001b[0m\u001b[0;34m\u001b[0m\u001b[0;34m\u001b[0m\u001b[0m\n\u001b[0m\u001b[1;32m   1332\u001b[0m             \u001b[0;32mexcept\u001b[0m \u001b[0mConnectionError\u001b[0m\u001b[0;34m:\u001b[0m\u001b[0;34m\u001b[0m\u001b[0;34m\u001b[0m\u001b[0m\n\u001b[1;32m   1333\u001b[0m                 \u001b[0mself\u001b[0m\u001b[0;34m.\u001b[0m\u001b[0mclose\u001b[0m\u001b[0;34m(\u001b[0m\u001b[0;34m)\u001b[0m\u001b[0;34m\u001b[0m\u001b[0;34m\u001b[0m\u001b[0m\n",
            "\u001b[0;32m/usr/lib/python3.6/http/client.py\u001b[0m in \u001b[0;36mbegin\u001b[0;34m(self)\u001b[0m\n\u001b[1;32m    295\u001b[0m         \u001b[0;31m# read until we get a non-100 response\u001b[0m\u001b[0;34m\u001b[0m\u001b[0;34m\u001b[0m\u001b[0;34m\u001b[0m\u001b[0m\n\u001b[1;32m    296\u001b[0m         \u001b[0;32mwhile\u001b[0m \u001b[0;32mTrue\u001b[0m\u001b[0;34m:\u001b[0m\u001b[0;34m\u001b[0m\u001b[0;34m\u001b[0m\u001b[0m\n\u001b[0;32m--> 297\u001b[0;31m             \u001b[0mversion\u001b[0m\u001b[0;34m,\u001b[0m \u001b[0mstatus\u001b[0m\u001b[0;34m,\u001b[0m \u001b[0mreason\u001b[0m \u001b[0;34m=\u001b[0m \u001b[0mself\u001b[0m\u001b[0;34m.\u001b[0m\u001b[0m_read_status\u001b[0m\u001b[0;34m(\u001b[0m\u001b[0;34m)\u001b[0m\u001b[0;34m\u001b[0m\u001b[0;34m\u001b[0m\u001b[0m\n\u001b[0m\u001b[1;32m    298\u001b[0m             \u001b[0;32mif\u001b[0m \u001b[0mstatus\u001b[0m \u001b[0;34m!=\u001b[0m \u001b[0mCONTINUE\u001b[0m\u001b[0;34m:\u001b[0m\u001b[0;34m\u001b[0m\u001b[0;34m\u001b[0m\u001b[0m\n\u001b[1;32m    299\u001b[0m                 \u001b[0;32mbreak\u001b[0m\u001b[0;34m\u001b[0m\u001b[0;34m\u001b[0m\u001b[0m\n",
            "\u001b[0;32m/usr/lib/python3.6/http/client.py\u001b[0m in \u001b[0;36m_read_status\u001b[0;34m(self)\u001b[0m\n\u001b[1;32m    256\u001b[0m \u001b[0;34m\u001b[0m\u001b[0m\n\u001b[1;32m    257\u001b[0m     \u001b[0;32mdef\u001b[0m \u001b[0m_read_status\u001b[0m\u001b[0;34m(\u001b[0m\u001b[0mself\u001b[0m\u001b[0;34m)\u001b[0m\u001b[0;34m:\u001b[0m\u001b[0;34m\u001b[0m\u001b[0;34m\u001b[0m\u001b[0m\n\u001b[0;32m--> 258\u001b[0;31m         \u001b[0mline\u001b[0m \u001b[0;34m=\u001b[0m \u001b[0mstr\u001b[0m\u001b[0;34m(\u001b[0m\u001b[0mself\u001b[0m\u001b[0;34m.\u001b[0m\u001b[0mfp\u001b[0m\u001b[0;34m.\u001b[0m\u001b[0mreadline\u001b[0m\u001b[0;34m(\u001b[0m\u001b[0m_MAXLINE\u001b[0m \u001b[0;34m+\u001b[0m \u001b[0;36m1\u001b[0m\u001b[0;34m)\u001b[0m\u001b[0;34m,\u001b[0m \u001b[0;34m\"iso-8859-1\"\u001b[0m\u001b[0;34m)\u001b[0m\u001b[0;34m\u001b[0m\u001b[0;34m\u001b[0m\u001b[0m\n\u001b[0m\u001b[1;32m    259\u001b[0m         \u001b[0;32mif\u001b[0m \u001b[0mlen\u001b[0m\u001b[0;34m(\u001b[0m\u001b[0mline\u001b[0m\u001b[0;34m)\u001b[0m \u001b[0;34m>\u001b[0m \u001b[0m_MAXLINE\u001b[0m\u001b[0;34m:\u001b[0m\u001b[0;34m\u001b[0m\u001b[0;34m\u001b[0m\u001b[0m\n\u001b[1;32m    260\u001b[0m             \u001b[0;32mraise\u001b[0m \u001b[0mLineTooLong\u001b[0m\u001b[0;34m(\u001b[0m\u001b[0;34m\"status line\"\u001b[0m\u001b[0;34m)\u001b[0m\u001b[0;34m\u001b[0m\u001b[0;34m\u001b[0m\u001b[0m\n",
            "\u001b[0;32m/usr/lib/python3.6/socket.py\u001b[0m in \u001b[0;36mreadinto\u001b[0;34m(self, b)\u001b[0m\n\u001b[1;32m    584\u001b[0m         \u001b[0;32mwhile\u001b[0m \u001b[0;32mTrue\u001b[0m\u001b[0;34m:\u001b[0m\u001b[0;34m\u001b[0m\u001b[0;34m\u001b[0m\u001b[0m\n\u001b[1;32m    585\u001b[0m             \u001b[0;32mtry\u001b[0m\u001b[0;34m:\u001b[0m\u001b[0;34m\u001b[0m\u001b[0;34m\u001b[0m\u001b[0m\n\u001b[0;32m--> 586\u001b[0;31m                 \u001b[0;32mreturn\u001b[0m \u001b[0mself\u001b[0m\u001b[0;34m.\u001b[0m\u001b[0m_sock\u001b[0m\u001b[0;34m.\u001b[0m\u001b[0mrecv_into\u001b[0m\u001b[0;34m(\u001b[0m\u001b[0mb\u001b[0m\u001b[0;34m)\u001b[0m\u001b[0;34m\u001b[0m\u001b[0;34m\u001b[0m\u001b[0m\n\u001b[0m\u001b[1;32m    587\u001b[0m             \u001b[0;32mexcept\u001b[0m \u001b[0mtimeout\u001b[0m\u001b[0;34m:\u001b[0m\u001b[0;34m\u001b[0m\u001b[0;34m\u001b[0m\u001b[0m\n\u001b[1;32m    588\u001b[0m                 \u001b[0mself\u001b[0m\u001b[0;34m.\u001b[0m\u001b[0m_timeout_occurred\u001b[0m \u001b[0;34m=\u001b[0m \u001b[0;32mTrue\u001b[0m\u001b[0;34m\u001b[0m\u001b[0;34m\u001b[0m\u001b[0m\n",
            "\u001b[0;32m/usr/lib/python3.6/ssl.py\u001b[0m in \u001b[0;36mrecv_into\u001b[0;34m(self, buffer, nbytes, flags)\u001b[0m\n\u001b[1;32m   1010\u001b[0m                   \u001b[0;34m\"non-zero flags not allowed in calls to recv_into() on %s\"\u001b[0m \u001b[0;34m%\u001b[0m\u001b[0;34m\u001b[0m\u001b[0;34m\u001b[0m\u001b[0m\n\u001b[1;32m   1011\u001b[0m                   self.__class__)\n\u001b[0;32m-> 1012\u001b[0;31m             \u001b[0;32mreturn\u001b[0m \u001b[0mself\u001b[0m\u001b[0;34m.\u001b[0m\u001b[0mread\u001b[0m\u001b[0;34m(\u001b[0m\u001b[0mnbytes\u001b[0m\u001b[0;34m,\u001b[0m \u001b[0mbuffer\u001b[0m\u001b[0;34m)\u001b[0m\u001b[0;34m\u001b[0m\u001b[0;34m\u001b[0m\u001b[0m\n\u001b[0m\u001b[1;32m   1013\u001b[0m         \u001b[0;32melse\u001b[0m\u001b[0;34m:\u001b[0m\u001b[0;34m\u001b[0m\u001b[0;34m\u001b[0m\u001b[0m\n\u001b[1;32m   1014\u001b[0m             \u001b[0;32mreturn\u001b[0m \u001b[0msocket\u001b[0m\u001b[0;34m.\u001b[0m\u001b[0mrecv_into\u001b[0m\u001b[0;34m(\u001b[0m\u001b[0mself\u001b[0m\u001b[0;34m,\u001b[0m \u001b[0mbuffer\u001b[0m\u001b[0;34m,\u001b[0m \u001b[0mnbytes\u001b[0m\u001b[0;34m,\u001b[0m \u001b[0mflags\u001b[0m\u001b[0;34m)\u001b[0m\u001b[0;34m\u001b[0m\u001b[0;34m\u001b[0m\u001b[0m\n",
            "\u001b[0;32m/usr/lib/python3.6/ssl.py\u001b[0m in \u001b[0;36mread\u001b[0;34m(self, len, buffer)\u001b[0m\n\u001b[1;32m    872\u001b[0m             \u001b[0;32mraise\u001b[0m \u001b[0mValueError\u001b[0m\u001b[0;34m(\u001b[0m\u001b[0;34m\"Read on closed or unwrapped SSL socket.\"\u001b[0m\u001b[0;34m)\u001b[0m\u001b[0;34m\u001b[0m\u001b[0;34m\u001b[0m\u001b[0m\n\u001b[1;32m    873\u001b[0m         \u001b[0;32mtry\u001b[0m\u001b[0;34m:\u001b[0m\u001b[0;34m\u001b[0m\u001b[0;34m\u001b[0m\u001b[0m\n\u001b[0;32m--> 874\u001b[0;31m             \u001b[0;32mreturn\u001b[0m \u001b[0mself\u001b[0m\u001b[0;34m.\u001b[0m\u001b[0m_sslobj\u001b[0m\u001b[0;34m.\u001b[0m\u001b[0mread\u001b[0m\u001b[0;34m(\u001b[0m\u001b[0mlen\u001b[0m\u001b[0;34m,\u001b[0m \u001b[0mbuffer\u001b[0m\u001b[0;34m)\u001b[0m\u001b[0;34m\u001b[0m\u001b[0;34m\u001b[0m\u001b[0m\n\u001b[0m\u001b[1;32m    875\u001b[0m         \u001b[0;32mexcept\u001b[0m \u001b[0mSSLError\u001b[0m \u001b[0;32mas\u001b[0m \u001b[0mx\u001b[0m\u001b[0;34m:\u001b[0m\u001b[0;34m\u001b[0m\u001b[0;34m\u001b[0m\u001b[0m\n\u001b[1;32m    876\u001b[0m             \u001b[0;32mif\u001b[0m \u001b[0mx\u001b[0m\u001b[0;34m.\u001b[0m\u001b[0margs\u001b[0m\u001b[0;34m[\u001b[0m\u001b[0;36m0\u001b[0m\u001b[0;34m]\u001b[0m \u001b[0;34m==\u001b[0m \u001b[0mSSL_ERROR_EOF\u001b[0m \u001b[0;32mand\u001b[0m \u001b[0mself\u001b[0m\u001b[0;34m.\u001b[0m\u001b[0msuppress_ragged_eofs\u001b[0m\u001b[0;34m:\u001b[0m\u001b[0;34m\u001b[0m\u001b[0;34m\u001b[0m\u001b[0m\n",
            "\u001b[0;32m/usr/lib/python3.6/ssl.py\u001b[0m in \u001b[0;36mread\u001b[0;34m(self, len, buffer)\u001b[0m\n\u001b[1;32m    629\u001b[0m         \"\"\"\n\u001b[1;32m    630\u001b[0m         \u001b[0;32mif\u001b[0m \u001b[0mbuffer\u001b[0m \u001b[0;32mis\u001b[0m \u001b[0;32mnot\u001b[0m \u001b[0;32mNone\u001b[0m\u001b[0;34m:\u001b[0m\u001b[0;34m\u001b[0m\u001b[0;34m\u001b[0m\u001b[0m\n\u001b[0;32m--> 631\u001b[0;31m             \u001b[0mv\u001b[0m \u001b[0;34m=\u001b[0m \u001b[0mself\u001b[0m\u001b[0;34m.\u001b[0m\u001b[0m_sslobj\u001b[0m\u001b[0;34m.\u001b[0m\u001b[0mread\u001b[0m\u001b[0;34m(\u001b[0m\u001b[0mlen\u001b[0m\u001b[0;34m,\u001b[0m \u001b[0mbuffer\u001b[0m\u001b[0;34m)\u001b[0m\u001b[0;34m\u001b[0m\u001b[0;34m\u001b[0m\u001b[0m\n\u001b[0m\u001b[1;32m    632\u001b[0m         \u001b[0;32melse\u001b[0m\u001b[0;34m:\u001b[0m\u001b[0;34m\u001b[0m\u001b[0;34m\u001b[0m\u001b[0m\n\u001b[1;32m    633\u001b[0m             \u001b[0mv\u001b[0m \u001b[0;34m=\u001b[0m \u001b[0mself\u001b[0m\u001b[0;34m.\u001b[0m\u001b[0m_sslobj\u001b[0m\u001b[0;34m.\u001b[0m\u001b[0mread\u001b[0m\u001b[0;34m(\u001b[0m\u001b[0mlen\u001b[0m\u001b[0;34m)\u001b[0m\u001b[0;34m\u001b[0m\u001b[0;34m\u001b[0m\u001b[0m\n",
            "\u001b[0;31mKeyboardInterrupt\u001b[0m: "
          ]
        }
      ]
    },
    {
      "cell_type": "markdown",
      "metadata": {
        "id": "NU78YJgruxMB",
        "colab_type": "text"
      },
      "source": [
        "## 1. Постановка задачи"
      ]
    },
    {
      "cell_type": "markdown",
      "metadata": {
        "id": "sgP5tGnKu0_B",
        "colab_type": "text"
      },
      "source": [
        "Есть выгрузка текста заявок из \"Журнала обходов\" и присвоенный этим заявкам класс. Задача - построить модель нейронной сети, которая сама будет классифицировать новые заявки по их тексту.\n",
        "\n"
      ]
    },
    {
      "cell_type": "markdown",
      "metadata": {
        "id": "e0mrlD3FWanv",
        "colab_type": "text"
      },
      "source": [
        "## 2. Загрузка данных"
      ]
    },
    {
      "cell_type": "markdown",
      "metadata": {
        "id": "0zJ-WU7hWg06",
        "colab_type": "text"
      },
      "source": [
        "Нам понадобится несколько вспомогательных библиотек. Объявим их импорт."
      ]
    },
    {
      "cell_type": "code",
      "metadata": {
        "id": "2HobwUfmWffV",
        "colab_type": "code",
        "outputId": "add5dcf8-6721-45a8-fbb7-764a13b19df0",
        "colab": {
          "base_uri": "https://localhost:8080/",
          "height": 34
        }
      },
      "source": [
        "import pandas as pd   # высокоуровневая библиотека для анализа данных\n",
        "import numpy as np    # работа с многомерными массивовами\n",
        "import scipy as sp    # расширяет функционал numpy функциями линейной алгебры\n",
        "import re             # работа с регулярными выражениями\n",
        "from keras.preprocessing.text import Tokenizer         # обработка слов\n",
        "from keras.preprocessing.sequence import pad_sequences # дополнение последовательностей\n",
        "from sklearn.preprocessing import OneHotEncoder        # унитарное кодирование\n",
        "from keras.models import Sequential                    # многослойная модель\n",
        "from keras.layers import Embedding, SpatialDropout1D, Dense, LSTM # используемые модели в слоях\n",
        "from sklearn.model_selection import train_test_split   # разбиение данных на обучающий и проверочный наборы\n",
        "from matplotlib import pyplot # построение графиков\n",
        "from keras.callbacks import EarlyStopping # ранняя остановка при обучении"
      ],
      "execution_count": 0,
      "outputs": [
        {
          "output_type": "stream",
          "text": [
            "Using TensorFlow backend.\n"
          ],
          "name": "stderr"
        }
      ]
    },
    {
      "cell_type": "markdown",
      "metadata": {
        "id": "aiEO049-u65j",
        "colab_type": "text"
      },
      "source": [
        "Выгрузка текста заявок и их классы хранятся в файле \"journals.txt\". Загрузим данные и посмотрим, что там за данные."
      ]
    },
    {
      "cell_type": "code",
      "metadata": {
        "id": "4Mn1_8UpV1w5",
        "colab_type": "code",
        "outputId": "e3209f88-62a4-4ea6-f6c9-89b8244a858c",
        "colab": {
          "base_uri": "https://localhost:8080/",
          "height": 252
        }
      },
      "source": [
        "texts = pd.read_csv(\"journals.txt\", sep = \"\\t\")\n",
        "texts.dropna()\n",
        "print(\"Размер массива данных = \", texts.shape)\n",
        "\n",
        "print(\"\\nПример данных =\")\n",
        "print(texts.head(10))"
      ],
      "execution_count": 0,
      "outputs": [
        {
          "output_type": "stream",
          "text": [
            "Размер массива данных =  (123966, 2)\n",
            "\n",
            "Пример данных =\n",
            "                                                Text  Code\n",
            "0  От переходной галереи диагностического центра ...     1\n",
            "1                   Нет допуска ЗГИэ в здание ДГСАЭ.     1\n",
            "2           Подклинивает наружную дверь шлюза БЩУ-4.     1\n",
            "3  Розетки, к которым подключена досмотровая уста...     1\n",
            "4  Выполнен обход по маршрутам № 4; 7. Ответная п...     1\n",
            "5  Слетели крышки с нескольких коробов на ограждении     1\n",
            "6  Выполнен обход по маршруту № 5. Обход БНС-2 не...     1\n",
            "7  Выполнен обход по маршрутам № 15. На БЩУ-1 на ...     1\n",
            "8  АЛК, КПП, рентгенустановка, разобраться с \"пил...     1\n",
            "9  Выполнен обход по маршруту № 5. На БНС-2 обход...     1\n"
          ],
          "name": "stdout"
        }
      ]
    },
    {
      "cell_type": "markdown",
      "metadata": {
        "id": "2qZJO0YJapf7",
        "colab_type": "text"
      },
      "source": [
        "Массив содержит 123966 записей и 2 столбца. Название этих столбцов носят соответствующие содержанию названия - \"Text\" и \"Code\".\n",
        "Посмотрим, какого рода там текст, возможно ли его использовать для обучения модели и какого распределние данных по классам заявок."
      ]
    },
    {
      "cell_type": "code",
      "metadata": {
        "id": "1yy-PipzbLML",
        "colab_type": "code",
        "outputId": "1adb40bf-b65c-48a2-f919-bb6bfe811b00",
        "colab": {
          "base_uri": "https://localhost:8080/",
          "height": 688
        }
      },
      "source": [
        "print(\"\\nПример текста заявок =\")\n",
        "print(texts['Text'].tail(20))\n",
        "\n",
        "print(\"\\nКоличество классов =\")\n",
        "# print(texts['Code'].value_counts())\n",
        "\n",
        "df = pd.Series(texts['Code'].value_counts())\n",
        "pyplot.bar(range(len(df)), df.values, align='center')\n",
        "pyplot.xticks(range(len(df)), df.index.values, size='small')\n",
        "pyplot.show()"
      ],
      "execution_count": 0,
      "outputs": [
        {
          "output_type": "stream",
          "text": [
            "\n",
            "Пример текста заявок =\n",
            "123946    (Для ЦТАИ) БЩУ-1. СВРК. Периодически отбраковы...\n",
            "123947    Выполнен обход по маршрутам № 35; 44. Замечани...\n",
            "123948    Выполнен обход по маршрутам № 35; 41. Записано...\n",
            "123949    Второй абзац п. 4.3.1 \"Производственной инстру...\n",
            "123950    Выполнен обход по маршрутам № 35; 40.Замечания...\n",
            "123951    На постаменте реактора блока 2 не работает тел...\n",
            "123952    Выполнен обход по маршрутам № 35; 42. Записоно...\n",
            "123953    Выполнен обход по маршрутам № 35; 39. Замечани...\n",
            "123954    (Для ОИКТ) Не работоспособна прямая громкая св...\n",
            "123955    Для ЦЦРВыполнен обход по маршрутам № 35; 41. З...\n",
            "123956    Выполнен обход по маршрутам № 35; 47. Записано...\n",
            "123957    Выполнен обход по маршрутам № 35; 43. Записано...\n",
            "123958    Выполнен обход по маршрутам № 35; 40. Записано...\n",
            "123959    Для ОРБ. Записано замечание ОРБ. № 2019-00358 ...\n",
            "123960    В инструментальном ящике \"GEDORE\" лабораторног...\n",
            "123961    В Технологическом регламенте эксплуатации бл. ...\n",
            "123962    Выполнен обход по маршрутам № 35; 44. Записаны...\n",
            "123963    Блок 3. Перегрузочная машина. Периодически про...\n",
            "123964    В ЛК-2 ЛСС на знаках \"Работать здесь\" и \"Внима...\n",
            "123965    Для ОРБ. На Блоке 2 наблюдаются периодические ...\n",
            "Name: Text, dtype: object\n",
            "\n",
            "Количество классов =\n"
          ],
          "name": "stdout"
        },
        {
          "output_type": "display_data",
          "data": {
            "image/png": "[encoded data removed]",
            "text/plain": [
              "<Figure size 432x288 with 1 Axes>"
            ]
          },
          "metadata": {
            "tags": []
          }
        }
      ]
    },
    {
      "cell_type": "markdown",
      "metadata": {
        "id": "rhoYRCjibcuS",
        "colab_type": "text"
      },
      "source": [
        "Видно, что текст заявок содержит массу лишней информации, типа знаков препинаний, спецсимволов и регистра символов. Также текст содержит слова в различных его формах (склонение, лицо, множественное число). Текст необходимо дополнительно обработать перед обучением нейронной сети.\n",
        "\n",
        "Коды заявок в данных распределены неравномерно, записей с кодом 24, 28, 25, 21, 26, 34, 23, 31, 22, 27 по 10 000 штук, остальных меньше, половина классов представлена в маленьком количестве."
      ]
    },
    {
      "cell_type": "markdown",
      "metadata": {
        "id": "UajQ3exfJWuF",
        "colab_type": "text"
      },
      "source": [
        "## 3. Предварительная обработка данных"
      ]
    },
    {
      "cell_type": "markdown",
      "metadata": {
        "id": "X4zx-jHWJZob",
        "colab_type": "text"
      },
      "source": [
        "Обработаем текст заявок так, чтобы его можно было использовать для обучения модели.\n",
        "\n",
        "\n",
        "1.   Уберём все лишние спецсимволы\n",
        "2.   Преобразуем все слова в их основыне формы - леммы.\n",
        "\n"
      ]
    },
    {
      "cell_type": "markdown",
      "metadata": {
        "id": "0or8EnKjJ5tW",
        "colab_type": "text"
      },
      "source": [
        "### Очистка текста от спецсимволов"
      ]
    },
    {
      "cell_type": "markdown",
      "metadata": {
        "id": "H4UJ6BqWKEWM",
        "colab_type": "text"
      },
      "source": [
        "Для очистки символов используем библиотеку для работы с регулярными выражениями **re**."
      ]
    },
    {
      "cell_type": "code",
      "metadata": {
        "id": "1q4B9ir-J4nE",
        "colab_type": "code",
        "outputId": "1d491344-00b2-435d-8972-52110986cf29",
        "colab": {
          "base_uri": "https://localhost:8080/",
          "height": 34
        }
      },
      "source": [
        "line = \"Разболтан электромеханический замок двери между пом.: Э-102/2 (секции: 11БН, 15БНН...) и Э004/2. Отв.: ЭЦ, СБ.\".lower()\n",
        "line = re.sub(\"[1234567890]\", ' ', line)\n",
        "line = re.sub(\"[\\n\\t_']\", ' ', line)  # \\n\\t_'\n",
        "line = re.sub('[!?@$%^&*+.,(){}#№;:~`<>|]', ' ', line)  # !?@$%^&*+.,(){}#№;:~`<>|\n",
        "line = re.sub('[-+\"«»±]', ' ', line)  # -+\"\n",
        "line = re.sub('[/\\\\\\]', ' ', line)  # /\\\n",
        "line = re.sub('[/[/]]', ' ', line)    # []\n",
        "print(line)"
      ],
      "execution_count": 0,
      "outputs": [
        {
          "output_type": "stream",
          "text": [
            "разболтан электромеханический замок двери между пом   э 102 2  секции  11бн  15бнн     и э004 2  отв   эц  сб \n"
          ],
          "name": "stdout"
        }
      ]
    },
    {
      "cell_type": "markdown",
      "metadata": {
        "id": "UPW5k7adM8H7",
        "colab_type": "text"
      },
      "source": [
        "### Преобразование слов в леммы"
      ]
    },
    {
      "cell_type": "markdown",
      "metadata": {
        "id": "Jkfo2O51NCny",
        "colab_type": "text"
      },
      "source": [
        "Для преобразования русского слов в их основную форму используем библиотеку **pymystem3**, обёртку для Python 3 программы Mystem, выполняющей морфологический анализ слов русского языка. [Программа Mystem](https://yandex.ru/dev/mystem/) была разработана в Яндексе тем самым Ильёй Сегаловичем.\n",
        "\n",
        "*Нижеприведённый код почему-то не работает в Google Colab. Запустите его в обычном IDE.*"
      ]
    },
    {
      "cell_type": "code",
      "metadata": {
        "id": "hnysJfKbvJzg",
        "colab_type": "code",
        "outputId": "4da796c6-732a-42b6-892b-18dc9b7a73df",
        "colab": {
          "base_uri": "https://localhost:8080/",
          "height": 390
        }
      },
      "source": [
        "# https://github.com/nlpub/pymystem3\n",
        "#!pip install pymystem3\n",
        "from pymystem3 import Mystem\n",
        "\n",
        "m = Mystem()\n",
        "lemmas = m.lemmatize(\"Розетки, к которым подключена досмотровая установка, не отмаркированы\")\n",
        "print(lemmas)"
      ],
      "execution_count": 0,
      "outputs": [
        {
          "output_type": "stream",
          "text": [
            "Installing mystem to /root/.local/bin/mystem from http://download.cdn.yandex.net/mystem/mystem-3.1-linux-64bit.tar.gz\n"
          ],
          "name": "stderr"
        },
        {
          "output_type": "error",
          "ename": "KeyboardInterrupt",
          "evalue": "ignored",
          "traceback": [
            "\u001b[0;31m---------------------------------------------------------------------------\u001b[0m",
            "\u001b[0;31mKeyboardInterrupt\u001b[0m                         Traceback (most recent call last)",
            "\u001b[0;32m<ipython-input-1-30d1a7a547f7>\u001b[0m in \u001b[0;36m<module>\u001b[0;34m()\u001b[0m\n\u001b[1;32m      2\u001b[0m \u001b[0;34m\u001b[0m\u001b[0m\n\u001b[1;32m      3\u001b[0m \u001b[0mm\u001b[0m \u001b[0;34m=\u001b[0m \u001b[0mMystem\u001b[0m\u001b[0;34m(\u001b[0m\u001b[0;34m)\u001b[0m\u001b[0;34m\u001b[0m\u001b[0;34m\u001b[0m\u001b[0m\n\u001b[0;32m----> 4\u001b[0;31m \u001b[0mlemmas\u001b[0m \u001b[0;34m=\u001b[0m \u001b[0mm\u001b[0m\u001b[0;34m.\u001b[0m\u001b[0mlemmatize\u001b[0m\u001b[0;34m(\u001b[0m\u001b[0;34m\"Розетки, к которым подключена досмотровая установка, не отмаркированы\"\u001b[0m\u001b[0;34m)\u001b[0m\u001b[0;34m\u001b[0m\u001b[0;34m\u001b[0m\u001b[0m\n\u001b[0m\u001b[1;32m      5\u001b[0m \u001b[0mprint\u001b[0m\u001b[0;34m(\u001b[0m\u001b[0mlemmas\u001b[0m\u001b[0;34m)\u001b[0m\u001b[0;34m\u001b[0m\u001b[0;34m\u001b[0m\u001b[0m\n",
            "\u001b[0;32m/usr/local/lib/python3.6/dist-packages/pymystem3/mystem.py\u001b[0m in \u001b[0;36mlemmatize\u001b[0;34m(self, text)\u001b[0m\n\u001b[1;32m    263\u001b[0m         \u001b[0mneed_encode\u001b[0m \u001b[0;34m=\u001b[0m \u001b[0;34m(\u001b[0m\u001b[0msys\u001b[0m\u001b[0;34m.\u001b[0m\u001b[0mversion_info\u001b[0m\u001b[0;34m[\u001b[0m\u001b[0;36m0\u001b[0m\u001b[0;34m]\u001b[0m \u001b[0;34m<\u001b[0m \u001b[0;36m3\u001b[0m \u001b[0;32mand\u001b[0m \u001b[0misinstance\u001b[0m\u001b[0;34m(\u001b[0m\u001b[0mtext\u001b[0m\u001b[0;34m,\u001b[0m \u001b[0mstr\u001b[0m\u001b[0;34m)\u001b[0m\u001b[0;34m)\u001b[0m\u001b[0;34m\u001b[0m\u001b[0;34m\u001b[0m\u001b[0m\n\u001b[1;32m    264\u001b[0m \u001b[0;34m\u001b[0m\u001b[0m\n\u001b[0;32m--> 265\u001b[0;31m         \u001b[0minfos\u001b[0m \u001b[0;34m=\u001b[0m \u001b[0mself\u001b[0m\u001b[0;34m.\u001b[0m\u001b[0manalyze\u001b[0m\u001b[0;34m(\u001b[0m\u001b[0mtext\u001b[0m\u001b[0;34m)\u001b[0m\u001b[0;34m\u001b[0m\u001b[0;34m\u001b[0m\u001b[0m\n\u001b[0m\u001b[1;32m    266\u001b[0m         \u001b[0mlemmas\u001b[0m \u001b[0;34m=\u001b[0m \u001b[0mlist\u001b[0m\u001b[0;34m(\u001b[0m\u001b[0mfilter\u001b[0m\u001b[0;34m(\u001b[0m\u001b[0;32mNone\u001b[0m\u001b[0;34m,\u001b[0m \u001b[0mmap\u001b[0m\u001b[0;34m(\u001b[0m\u001b[0mself\u001b[0m\u001b[0;34m.\u001b[0m\u001b[0m_get_lemma\u001b[0m\u001b[0;34m,\u001b[0m \u001b[0minfos\u001b[0m\u001b[0;34m)\u001b[0m\u001b[0;34m)\u001b[0m\u001b[0;34m)\u001b[0m\u001b[0;34m\u001b[0m\u001b[0;34m\u001b[0m\u001b[0m\n\u001b[1;32m    267\u001b[0m \u001b[0;34m\u001b[0m\u001b[0m\n",
            "\u001b[0;32m/usr/local/lib/python3.6/dist-packages/pymystem3/mystem.py\u001b[0m in \u001b[0;36manalyze\u001b[0;34m(self, text)\u001b[0m\n\u001b[1;32m    248\u001b[0m         \u001b[0mresult\u001b[0m \u001b[0;34m=\u001b[0m \u001b[0;34m[\u001b[0m\u001b[0;34m]\u001b[0m\u001b[0;34m\u001b[0m\u001b[0;34m\u001b[0m\u001b[0m\n\u001b[1;32m    249\u001b[0m         \u001b[0;32mfor\u001b[0m \u001b[0mline\u001b[0m \u001b[0;32min\u001b[0m \u001b[0mtext\u001b[0m\u001b[0;34m.\u001b[0m\u001b[0msplitlines\u001b[0m\u001b[0;34m(\u001b[0m\u001b[0;34m)\u001b[0m\u001b[0;34m:\u001b[0m\u001b[0;34m\u001b[0m\u001b[0;34m\u001b[0m\u001b[0m\n\u001b[0;32m--> 250\u001b[0;31m             \u001b[0mresult\u001b[0m\u001b[0;34m.\u001b[0m\u001b[0mextend\u001b[0m\u001b[0;34m(\u001b[0m\u001b[0mself\u001b[0m\u001b[0;34m.\u001b[0m\u001b[0m_analyze_impl\u001b[0m\u001b[0;34m(\u001b[0m\u001b[0mline\u001b[0m\u001b[0;34m)\u001b[0m\u001b[0;34m)\u001b[0m\u001b[0;34m\u001b[0m\u001b[0;34m\u001b[0m\u001b[0m\n\u001b[0m\u001b[1;32m    251\u001b[0m         \u001b[0;32mreturn\u001b[0m \u001b[0mresult\u001b[0m\u001b[0;34m\u001b[0m\u001b[0;34m\u001b[0m\u001b[0m\n\u001b[1;32m    252\u001b[0m \u001b[0;34m\u001b[0m\u001b[0m\n",
            "\u001b[0;32m/usr/local/lib/python3.6/dist-packages/pymystem3/mystem.py\u001b[0m in \u001b[0;36m_analyze_impl\u001b[0;34m(self, text)\u001b[0m\n\u001b[1;32m    289\u001b[0m             \u001b[0;32mwhile\u001b[0m \u001b[0;32mTrue\u001b[0m\u001b[0;34m:\u001b[0m\u001b[0;34m\u001b[0m\u001b[0;34m\u001b[0m\u001b[0m\n\u001b[1;32m    290\u001b[0m                 \u001b[0;32mtry\u001b[0m\u001b[0;34m:\u001b[0m\u001b[0;34m\u001b[0m\u001b[0;34m\u001b[0m\u001b[0m\n\u001b[0;32m--> 291\u001b[0;31m                     \u001b[0mout\u001b[0m \u001b[0;34m=\u001b[0m \u001b[0mself\u001b[0m\u001b[0;34m.\u001b[0m\u001b[0m_procout\u001b[0m\u001b[0;34m.\u001b[0m\u001b[0mread\u001b[0m\u001b[0;34m(\u001b[0m\u001b[0;34m)\u001b[0m\u001b[0;34m\u001b[0m\u001b[0;34m\u001b[0m\u001b[0m\n\u001b[0m\u001b[1;32m    292\u001b[0m                     \u001b[0msio\u001b[0m\u001b[0;34m.\u001b[0m\u001b[0mwrite\u001b[0m\u001b[0;34m(\u001b[0m\u001b[0mout\u001b[0m\u001b[0;34m)\u001b[0m\u001b[0;34m\u001b[0m\u001b[0;34m\u001b[0m\u001b[0m\n\u001b[1;32m    293\u001b[0m                     \u001b[0mobj\u001b[0m \u001b[0;34m=\u001b[0m \u001b[0mjson\u001b[0m\u001b[0;34m.\u001b[0m\u001b[0mloads\u001b[0m\u001b[0;34m(\u001b[0m\u001b[0msio\u001b[0m\u001b[0;34m.\u001b[0m\u001b[0mgetvalue\u001b[0m\u001b[0;34m(\u001b[0m\u001b[0;34m)\u001b[0m\u001b[0;34m.\u001b[0m\u001b[0mdecode\u001b[0m\u001b[0;34m(\u001b[0m\u001b[0;34m'utf-8'\u001b[0m\u001b[0;34m)\u001b[0m\u001b[0;34m)\u001b[0m\u001b[0;34m\u001b[0m\u001b[0;34m\u001b[0m\u001b[0m\n",
            "\u001b[0;31mKeyboardInterrupt\u001b[0m: "
          ]
        }
      ]
    },
    {
      "cell_type": "markdown",
      "metadata": {
        "id": "SLQGJNtWVYhi",
        "colab_type": "text"
      },
      "source": [
        "Чтобы не делать преобразование слов в леммы каждый раз, обработаем сразу весь массив данных и результат сохраним. Перед этим не забудем убрать из записей все ненужные нам символы."
      ]
    },
    {
      "cell_type": "code",
      "metadata": {
        "id": "SFc9DjwPV8_J",
        "colab_type": "code",
        "colab": {}
      },
      "source": [
        "def get_lemma(original_text):\n",
        "    m = Mystem()\n",
        "    line = original_text.lower()\n",
        "    # уберём все плохие символы\n",
        "    line = re.sub(\"[1234567890]\", ' ', line)\n",
        "    line = re.sub(\"[\\n\\t_']\", ' ', line)  # \\n\\t_'\n",
        "    line = re.sub('[!?@$%^&*+.,(){}#№;:~`<>|]', ' ', line)  # !?@$%^&*+.,(){}#№;:~`<>|\n",
        "    line = re.sub('[-+\"«»±]', ' ', line)  # -+\"\n",
        "    line = re.sub('[/\\\\\\]', ' ', line)  # /\\\n",
        "    line = re.sub('[/[/]]', ' ', line)    # []\n",
        "\n",
        "    # получим леммы\n",
        "    lemmas = m.lemmatize(line)\n",
        "    lemmas = [a.strip() for a in lemmas]\n",
        "    lemmas = list(filter(lambda a: a != \"\", lemmas))    # удалим все пробелы\n",
        "    result = \" \".join(lemmas)\n",
        "    return result\n",
        "\n",
        "\n",
        "# преобразование данных, замена текста списком лемм\n",
        "def data_word_to_lemma():\n",
        "    d = pd.read_csv(\"journals.txt\", sep = \"\\t\")\n",
        "    # d = d[:100] # для скорости используем только часть строк\n",
        "    d.dropna()\n",
        "    print(\"размер массива данных = \", d.shape)\n",
        "    col = list(d)\n",
        "    if col[0] != \"Text\":\n",
        "        print(\"У данных должно быть два столбцы, разделённых табулятором с заголовками Text и Code\")\n",
        "\n",
        "    # заменим оригинальный тест на перечень лемм слов текста\n",
        "    for i in range(d.shape[0]):\n",
        "        print(\">%d/%d\" % (i + 1, d.shape[0]))\n",
        "\n",
        "        caption = d[col[0]][i]\n",
        "        # print(caption)\n",
        "        caption = get_lemma(caption)\n",
        "        # print(caption)\n",
        "        d[col[0]][i] = caption\n",
        "\n",
        "    d.to_csv(\"journals-lemma.txt\", sep = \"\\t\", index = False, header = col)\n",
        "    return d, col\n",
        "\n",
        "\n",
        "data_word_to_lemma()"
      ],
      "execution_count": 0,
      "outputs": []
    },
    {
      "cell_type": "markdown",
      "metadata": {
        "id": "YBZgdY0xWssv",
        "colab_type": "text"
      },
      "source": [
        "Таким образом у нас получился файл *journals-lemma.txt*, с которым мы и будем в дальнейшем работать."
      ]
    },
    {
      "cell_type": "code",
      "metadata": {
        "id": "QtipnzNQYP_y",
        "colab_type": "code",
        "outputId": "71aad7ba-c58f-48d6-b688-1882ad5bdc5e",
        "colab": {
          "base_uri": "https://localhost:8080/",
          "height": 252
        }
      },
      "source": [
        "data = pd.read_csv(\"journals-lemma.txt\", sep = \"\\t\")\n",
        "data.dropna()\n",
        "print(\"Размер массива данных = \", data.shape)\n",
        "\n",
        "print(\"\\nПример данных =\")\n",
        "print(data.head(10))"
      ],
      "execution_count": 0,
      "outputs": [
        {
          "output_type": "stream",
          "text": [
            "Размер массива данных =  (123966, 2)\n",
            "\n",
            "Пример данных =\n",
            "                                                Text  Code\n",
            "0  от переходный галерея диагностический центр к ...     1\n",
            "1                     нет допуск згиэ в здание дгсаэ     1\n",
            "2             подклинивать наружный дверь шлюз бщу 4     1\n",
            "3  розетка к который подключать досмотровый устан...     1\n",
            "4  выполнять обход по маршрут 4 7 ответный планка...     1\n",
            "5     слетать крышка с несколько короб на ограждение     1\n",
            "6  выполнять обход по маршрут 5 обход бнс 2 не пр...     1\n",
            "7  выполнять обход по маршрут 15 на бщу 1 на пуль...     1\n",
            "8  алк кпп рентгенустановка разбираться с пилот е...     1\n",
            "9  выполнять обход по маршрут 5 на бнс 2 обход не...     1\n"
          ],
          "name": "stdout"
        }
      ]
    },
    {
      "cell_type": "markdown",
      "metadata": {
        "id": "b_wsROZ_Yx3x",
        "colab_type": "text"
      },
      "source": [
        "Видно, что текст записей изменился"
      ]
    },
    {
      "cell_type": "code",
      "metadata": {
        "id": "iqGB1svvY3iI",
        "colab_type": "code",
        "outputId": "5c838c37-01e5-4a41-9266-88d848441bca",
        "colab": {
          "base_uri": "https://localhost:8080/",
          "height": 403
        }
      },
      "source": [
        "print(\"\\nПример текста заявок =\")\n",
        "print(data['Text'].tail(20))"
      ],
      "execution_count": 0,
      "outputs": [
        {
          "output_type": "stream",
          "text": [
            "\n",
            "Пример текста заявок =\n",
            "123946    для цтаи бщу 1 сврк периодически отбраковывать...\n",
            "123947    выполнять обход по маршрут 35 44 замечание пом...\n",
            "123948    выполнять обход по маршрут 35 41 записывать за...\n",
            "123949    второй абзац п 4 3 1 производственный инструкц...\n",
            "123950    выполнять обход по маршрут 35 40 замечание не ...\n",
            "123951    на постамент реактор блок 2 не работать телефо...\n",
            "123952    выполнять обход по маршрут 35 42 записоно заме...\n",
            "123953    выполнять обход по маршрут 35 39 замечание пом...\n",
            "123954    для оикт не работоспособный прямой громкий свя...\n",
            "123955    для ццрвыполнять обход по маршрут 35 41 замеча...\n",
            "123956    выполнять обход по маршрут 35 47 записывать за...\n",
            "123957    выполнять обход по маршрут 35 43 записывать за...\n",
            "123958    выполнять обход по маршрут 35 40 записывать за...\n",
            "123959    для орб записывать замечание орб 2019 00358 в ...\n",
            "123960    в инструментальный ящик gedore лабораторный ко...\n",
            "123961    в технологический регламент эксплуатация бл 3 ...\n",
            "123962    выполнять обход по маршрут 35 44 записывать за...\n",
            "123963    блок 3 перегрузочный машина периодически проис...\n",
            "123964    в лк 2 лсс на знак работать здесь и внимание в...\n",
            "123965    для орб на блок 2 наблюдаться периодический на...\n",
            "Name: Text, dtype: object\n"
          ],
          "name": "stdout"
        }
      ]
    },
    {
      "cell_type": "markdown",
      "metadata": {
        "id": "JmwL7JNM2FE-",
        "colab_type": "text"
      },
      "source": [
        "## 4. Подготовка данных для обучения сети"
      ]
    },
    {
      "cell_type": "markdown",
      "metadata": {
        "id": "Gumpr9Ja2O38",
        "colab_type": "text"
      },
      "source": [
        "Для того, чтобы обучить сеть, нужно подготовить пару массивов - массив входных данных **X** и массив выходных данных **y**. Чем качественней вы приготовите данные для обучения, тем качественней вы получите модель."
      ]
    },
    {
      "cell_type": "markdown",
      "metadata": {
        "id": "DMTUsWXHXDin",
        "colab_type": "text"
      },
      "source": [
        "### Кодирование текста (подготовка массива X)"
      ]
    },
    {
      "cell_type": "markdown",
      "metadata": {
        "id": "BbwE-kfJXduv",
        "colab_type": "text"
      },
      "source": [
        "Чтобы обучить нейронную сеть, ей нужно передать данные в том виде, который ей понятен, на основе которой она сможет подобрать хорошие весовые коэффициенты и потом сделать эффективные прогнозы.\n",
        "\n",
        "Такой понятной формой для сети является числовая матрица. Преобразуем слова из предложений в последовательность чисел.\n",
        "\n",
        "Для этого используем модуль Tokenizer из библиотеки Keras. Tokenizer позволяет преобразовать слова в индексы этих слов из словаря всех слов, которые используются в конкретной обработке."
      ]
    },
    {
      "cell_type": "code",
      "metadata": {
        "id": "uYwsfpz2YKvN",
        "colab_type": "code",
        "outputId": "2fc68d31-8789-4c40-b576-7a895246d65e",
        "colab": {
          "base_uri": "https://localhost:8080/",
          "height": 101
        }
      },
      "source": [
        "tokenizer = Tokenizer()\n",
        "# готовим словарь всех используемых слов\n",
        "tokenizer.fit_on_texts([\"мамы разные нужны мамы разные важны дело было вечером делать было нечего\"]) \n",
        "# преобразуем текст в последовательность\n",
        "text = [\"мамы разные нужны мамы разные важны\"]\n",
        "sequences = tokenizer.texts_to_sequences(text)\n",
        "\n",
        "print(\"Весь словарь = \")\n",
        "print(tokenizer.word_index)\n",
        "vocab_size = len(tokenizer.word_index)\n",
        "print('Словарь состоит из %d слов' % vocab_size)\n",
        "print(\"Оригинальное предложение - \", text)\n",
        "print(\"Преобразованное предложение - \", sequences)"
      ],
      "execution_count": 0,
      "outputs": [
        {
          "output_type": "stream",
          "text": [
            "Весь словарь = \n",
            "{'мамы': 1, 'разные': 2, 'было': 3, 'нужны': 4, 'важны': 5, 'дело': 6, 'вечером': 7, 'делать': 8, 'нечего': 9}\n",
            "Словарь состоит из 9 слов\n",
            "Оригинальное предложение -  ['мамы разные нужны мамы разные важны']\n",
            "Преобразованное предложение -  [[1, 2, 4, 1, 2, 5]]\n"
          ],
          "name": "stdout"
        }
      ]
    },
    {
      "cell_type": "markdown",
      "metadata": {
        "id": "f8wk1tiWnzWD",
        "colab_type": "text"
      },
      "source": [
        "Но в массиве заявок все заявки имеют разную длину в словах, а наша будущая модель может принимать массивы только одинаковой длины.\n",
        "\n",
        "Воспользуемся функцией from **pad_sequences**, которая может обрезать или дополнять последовательность, чтобы она была заданной длины. В нашем случае, мы заранее найдём максимальную длину в словах текста заявки и дополним все преобразованные в последовательности заявки до этой максимальной длины.\n",
        "\n",
        "Это работает так - "
      ]
    },
    {
      "cell_type": "code",
      "metadata": {
        "id": "lFhlNo-oTrRX",
        "colab_type": "code",
        "outputId": "affe8a80-bd9b-4d23-a3a8-35bf34eb1c22",
        "colab": {
          "base_uri": "https://localhost:8080/",
          "height": 34
        }
      },
      "source": [
        "max_len = 10\n",
        "X = pad_sequences(sequences, maxlen=max_len)\n",
        "print (X)"
      ],
      "execution_count": 0,
      "outputs": [
        {
          "output_type": "stream",
          "text": [
            "[[0 0 0 0 1 2 4 1 2 5]]\n"
          ],
          "name": "stdout"
        }
      ]
    },
    {
      "cell_type": "markdown",
      "metadata": {
        "id": "2dX0zM4zT-ej",
        "colab_type": "text"
      },
      "source": [
        "Как мы подготовим массив входных данных X понятно, теперь разберёмся, как мы подготовим массив выходных данных y, на котором мы будем обучать нашу нейронную сеть."
      ]
    },
    {
      "cell_type": "markdown",
      "metadata": {
        "id": "8fUqwiPLUVHj",
        "colab_type": "text"
      },
      "source": [
        "### Кодирование меток (подготовка массива y)"
      ]
    },
    {
      "cell_type": "markdown",
      "metadata": {
        "id": "ZDdsive2Ujjb",
        "colab_type": "text"
      },
      "source": [
        "Как вы помните, у нас каждому тексту заявки поставлен в соответствие класс этой заявки. В основном, это следующие классы:\n",
        "\n",
        "\n",
        "```\n",
        "ID\tNAME\n",
        "1\t Режим и физическая защита\n",
        "21\tМаркировка\n",
        "22\tЭксплуатационный порядок\n",
        "23\tДокументация\n",
        "24\tСостояние электротехнического оборудования\n",
        "25\tСостояние тепломеханического оборудования\n",
        "26\tСостояние помещений, зданий и сооружений\n",
        "27\tСостояние КИПиА\n",
        "28\tОхрана труда\n",
        "29\tОперативные переговоры\n",
        "30\tОперативные переключения\n",
        "31\tВскрытое оборудование\n",
        "32\tПрограммное обеспечение АСУП\n",
        "33\tРемонтная площадка\n",
        "34\tПожарная безопасность\n",
        "35\tСостояние территории\n",
        "50\tСистема 5С на рабочем месте\n",
        "51\tОбращение с химической продукцией\n",
        "52\tПерсонал\n",
        "53\tПредложения по улучшению эксплуатации\n",
        "54\tЯдерная безопасность\n",
        "```\n",
        "\n"
      ]
    },
    {
      "cell_type": "markdown",
      "metadata": {
        "id": "ZuB1PfxpcWkb",
        "colab_type": "text"
      },
      "source": [
        "Номера классов идут не попорядку, значит в соответсвии с принципами нормализации, нам нужно эти коды классов изменить на нормализованные. В нашем случае, изменим их на идущие по порядку целые числа.\n",
        "\n",
        "Но нейронная сеть при обучении будет искать в этих идущих по порядку целых числах какую-то связь, какой-то порядок. Поэтому, следует дополнительно номера этих классов подвергнуть унитарному кодированию.\n",
        "\n",
        "Унитарное кодирование - это преобразование целочисленных меток в их бинарные аналоги (на самом деле, не совсем). А точнее, в случае кодирования целых чисел от 1 до 4, мы получим четыре бинарные метки каждая из четырёх бит, в котором все биты будут нулями, кроме одного, который стоит в позиции, соответствующей этому коду класса. То есть - \n",
        "\n",
        "\n",
        "```\n",
        "Метка   Код\n",
        "1       1000\n",
        "2       0100\n",
        "3       0010\n",
        "4       0001\n",
        "```\n",
        "\n",
        "\n"
      ]
    },
    {
      "cell_type": "markdown",
      "metadata": {
        "id": "cSQR7JYscRO-",
        "colab_type": "text"
      },
      "source": [
        "Унитарное кодирование можно выполнить с помощью функции **OneHotEncoder**.  Например, так"
      ]
    },
    {
      "cell_type": "code",
      "metadata": {
        "id": "5_ru_OUvcunO",
        "colab_type": "code",
        "outputId": "cd015a5d-bfe8-4c5a-fd01-520a808b0570",
        "colab": {
          "base_uri": "https://localhost:8080/",
          "height": 185
        }
      },
      "source": [
        "codes = np.array([2, 1, 4, 3])\n",
        "oh_coder = OneHotEncoder(categories='auto', sparse = False)\n",
        "codes = codes.reshape(len(codes), 1)\n",
        "print(\"Категории - \\n\", codes)\n",
        "y = oh_coder.fit_transform(codes)\n",
        "print(\"Кодированные категории - \\n\", y)"
      ],
      "execution_count": 0,
      "outputs": [
        {
          "output_type": "stream",
          "text": [
            "Категории - \n",
            " [[2]\n",
            " [1]\n",
            " [4]\n",
            " [3]]\n",
            "Кодированные категории - \n",
            " [[0. 1. 0. 0.]\n",
            " [1. 0. 0. 0.]\n",
            " [0. 0. 0. 1.]\n",
            " [0. 0. 1. 0.]]\n"
          ],
          "name": "stdout"
        }
      ]
    },
    {
      "cell_type": "markdown",
      "metadata": {
        "id": "ht2b8rplo64k",
        "colab_type": "text"
      },
      "source": [
        "### Функция подготовки данных"
      ]
    },
    {
      "cell_type": "markdown",
      "metadata": {
        "id": "nqjJPm2BtpcM",
        "colab_type": "text"
      },
      "source": [
        "Теперь соберём вышеприведнный код в функцию, которая будет готовить нашей модели массивы входных и выходных данных X и y. \n",
        "\n",
        "Функция получает перечень классов, которые нужно включить в обучающую выборку (вы же помните, что некоторые классы у нас хорошо представлены, по 10 тысяч строк на класс, а некоторые - очень слабо).\n",
        "\n",
        "Обратно функция возвращает массив X, состоящий из одинаковых по размеру последовательностей индексов слов из каждого описания заявки, и массив y, состоящий из соответствующего этой заявке классу, закодированному в бинарную последовательность."
      ]
    },
    {
      "cell_type": "code",
      "metadata": {
        "id": "O8pdeAHbt8HU",
        "colab_type": "code",
        "colab": {}
      },
      "source": [
        "def get_X_y(classes_array, num_rec_for_class=100000):\n",
        "    # загрузим весь массив\n",
        "    data = pd.read_csv('journals-lemma.txt', sep = \"\\t\")\n",
        "    data = data.dropna()\n",
        "    # классы\n",
        "    #print(\"Класс Кол-во записей\")\n",
        "    #print(data['Code'].value_counts())\n",
        "    \n",
        "    # количество классов в конечной выборке\n",
        "    num_classes = len(classes_array)\n",
        "    # возьмём из массива только нужные нам классы\n",
        "    shuffled = data.reindex(np.random.permutation(data.index))\n",
        "    concated = data.head(0)\n",
        "    \n",
        "    i = 0\n",
        "    labels = []\n",
        "    for good_class in classes_array:\n",
        "        labels.append(good_class)\n",
        "        a = shuffled[shuffled['Code'] == good_class][:num_rec_for_class]\n",
        "        a['Code'] = i\n",
        "        concated = pd.concat([concated, a], ignore_index = True)\n",
        "        i += 1\n",
        "\n",
        "    # массив только с нужными классами\n",
        "    data = concated.reindex(np.random.permutation(concated.index))\n",
        "    # print(\"Кол-во записей по классам:\")\n",
        "    # print(data['Code'].value_counts())\n",
        "    \n",
        "    # длина максимального текста в словах\n",
        "    max_len = 0\n",
        "    words_count = []\n",
        "    for i in range(data.shape[0]):\n",
        "        text = data['Text'][i]\n",
        "        l = len(text.split())\n",
        "        words_count.append(l)         \n",
        "        if max_len < l: max_len = l\n",
        "\n",
        "    print('Самое длинное предложение - из %d слов' % max_len)\n",
        "    l = round(np.mean(words_count) + (np.max(words_count) - np.mean(words_count))/4)\n",
        "    max_len = int(l)\n",
        "    print('Сократим до разумной длины в %d слов' % max_len)\n",
        "            \n",
        "    # унитарное кодирование\n",
        "    oh_coder = OneHotEncoder(categories='auto', sparse = False)\n",
        "    yy = data['Code'].values\n",
        "    yy = yy.reshape(len(yy), 1)\n",
        "    yy = oh_coder.fit_transform(yy)\n",
        "    \n",
        "    # последовательности индексов слов\n",
        "    tokenizer = Tokenizer()\n",
        "    tokenizer.fit_on_texts(data['Text'].values)\n",
        "    vocab_size = len(tokenizer.word_index)\n",
        "    print('Словарь состоит из %d слов' % vocab_size)\n",
        "    sequences = tokenizer.texts_to_sequences(data['Text'].values)\n",
        "    XX = pad_sequences(sequences, maxlen=max_len, padding = \"post\")\n",
        "    \n",
        "    return XX, yy, max_len, vocab_size, num_classes, tokenizer, oh_coder, labels"
      ],
      "execution_count": 0,
      "outputs": []
    },
    {
      "cell_type": "markdown",
      "metadata": {
        "id": "93FgB-l4zQg8",
        "colab_type": "text"
      },
      "source": [
        "Проверим работу функции, получив небольшую выборку (из 100 записей) для трёх случайных классов - 21, 28 и 31."
      ]
    },
    {
      "cell_type": "code",
      "metadata": {
        "id": "Ot3Il-LCzUyo",
        "colab_type": "code",
        "outputId": "992e7041-6a44-4da8-9ac4-4558a9bb765e",
        "colab": {
          "base_uri": "https://localhost:8080/",
          "height": 319
        }
      },
      "source": [
        "X, y, max_len, vocab_size, num_classes, tokenizer, oh_coder, labels = get_X_y([21, 28, 31], 100)\n",
        "print(\"Размерность массива входных данных - \", X.shape)\n",
        "print(\"Входные данные массива X (первые два) - \\n\", X[:2])\n",
        "print(\"Размерность массива выходных данных - \", y.shape)\n",
        "print(\"Выходные данные массива y (первые два) - \\n\",y[:2])\n",
        "print(\"Метки классов записей - \", labels)"
      ],
      "execution_count": 0,
      "outputs": [
        {
          "output_type": "stream",
          "text": [
            "Самое длинное предложение - из 189 слов\n",
            "Сократим до разумной длины в 64 слов\n",
            "Словарь состоит из 1753 слов\n",
            "Размерность массива входных данных -  (300, 64)\n",
            "Входные данные X (первые два) - \n",
            " [[  5   3   1   6   7  10  22 160 422   4 423  11 424 679 199 161   4 680\n",
            "  681  71 682 683  45  76   0   0   0   0   0   0   0   0   0   0   0   0\n",
            "    0   0   0   0   0   0   0   0   0   0   0   0   0   0   0   0   0   0\n",
            "    0   0   0   0   0   0   0   0   0   0]\n",
            " [  5   3   1   6  52   9  12   0   0   0   0   0   0   0   0   0   0   0\n",
            "    0   0   0   0   0   0   0   0   0   0   0   0   0   0   0   0   0   0\n",
            "    0   0   0   0   0   0   0   0   0   0   0   0   0   0   0   0   0   0\n",
            "    0   0   0   0   0   0   0   0   0   0]]\n",
            "Размерность массива выходных данных -  (300, 3)\n",
            "Выходные данные y (первые два) - \n",
            " [[0. 1. 0.]\n",
            " [0. 0. 1.]]\n",
            "Метки классов записей -  [21, 28, 31]\n"
          ],
          "name": "stdout"
        }
      ]
    },
    {
      "cell_type": "markdown",
      "metadata": {
        "id": "07QmME8z0qj_",
        "colab_type": "text"
      },
      "source": [
        "Полученный массив для обучения этим трём классам имеет 629 строк с максимальной длинной текста в 282 слова. Так как мы взяли только три класса, массив меток имеет размерность 3.\n",
        "\n",
        "Данные подготовлены, займёмся моделью сети."
      ]
    },
    {
      "cell_type": "markdown",
      "metadata": {
        "id": "480C0vm-1jQg",
        "colab_type": "text"
      },
      "source": [
        "## 5. Строим модель нейронной сети"
      ]
    },
    {
      "cell_type": "markdown",
      "metadata": {
        "id": "KTJ6EbTh3Kum",
        "colab_type": "text"
      },
      "source": [
        "Модель нейронной сети, которую мы будем строить, будет многослойной, её ядром будет слой LSTM (Long short-term memory, Долгая краткосрочная память) - вариант реккурентной нейронной сети (RNN), которая показывает хорошие результаты на подобных задачах.\n",
        "\n",
        "Кроме LSTM наша модель будет содержать и другие слои."
      ]
    },
    {
      "cell_type": "markdown",
      "metadata": {
        "id": "QK0RwoV0WEWb",
        "colab_type": "text"
      },
      "source": [
        "Рассмотрим чуть подробнее, что это за слои.\n",
        "\n",
        "*   **Embedding** - специальный слой, предназначенный для обработки естественного языка, выполняет предварительную подготовку данных для слоя LSTM. Имеет следующие входные параметры: *input_dim* - размерность входного массива, это размер нашего словаря. *output_dim* - размерность выходного массива, который будет передан на следующий слой. *input_length* - длина наших входных последовательностей, т.е. максимальная длина наших заявок в словах;\n",
        "*  **SpatialDropout1D** - это усовершенствованный слой Dropout, предназначенный для борьбы с переобучением сети. Но если слой Dropout случайным образом исключает один нейрон из сети, то в слое SpatialDropout1D происходит исключение группы нейронов. Параметры: *rate* - вероятность исключения группы нейронов из сети;\n",
        "*  **LSTM** - ядро нашей модели, слой, который сделает основную работу. Параметры: *units* - количество ячеек памяти модели LTSM, это же число задаёт размерность данных на выходе из слоя;\n",
        "* **Dense** - полносвязный слой, просто объединяющий все данные из предыдущего слоя. Параметры: *units* - размерность выходных данных, *activation* - способ объединения данных с предыдущего слоя, а так как у нас задача на многоклассовую классификацию, то для таки задачь необходимо использовать активацию типа softmax;\n",
        "\n",
        "Запустим код, компилирующий модель.\n"
      ]
    },
    {
      "cell_type": "code",
      "metadata": {
        "id": "3H-pJ0mZ5IGA",
        "colab_type": "code",
        "outputId": "feb1432d-c605-433f-a284-81bd44e4f5e4",
        "colab": {
          "base_uri": "https://localhost:8080/",
          "height": 574
        }
      },
      "source": [
        "mem_cells = 150\n",
        "model = Sequential()\n",
        "model.add(Embedding(input_dim=vocab_size+1, output_dim=mem_cells, input_length=max_len))\n",
        "# model.add(SpatialDropout1D(rate=0.2))\n",
        "model.add(LSTM(units=mem_cells, dropout=0.1, recurrent_dropout=0.1, return_sequences = True))\n",
        "model.add(LSTM(units=mem_cells, dropout=0.1, recurrent_dropout=0.1))\n",
        "model.add(Dense(units=num_classes, activation='softmax'))\n",
        "model.compile(optimizer='adam', loss='categorical_crossentropy', metrics=['acc'])\n",
        "print(model.summary())"
      ],
      "execution_count": 0,
      "outputs": [
        {
          "output_type": "stream",
          "text": [
            "WARNING: Logging before flag parsing goes to stderr.\n",
            "W0723 06:36:29.151169 140709683365760 deprecation_wrapper.py:119] From /usr/local/lib/python3.6/dist-packages/keras/backend/tensorflow_backend.py:74: The name tf.get_default_graph is deprecated. Please use tf.compat.v1.get_default_graph instead.\n",
            "\n",
            "W0723 06:36:29.200317 140709683365760 deprecation_wrapper.py:119] From /usr/local/lib/python3.6/dist-packages/keras/backend/tensorflow_backend.py:517: The name tf.placeholder is deprecated. Please use tf.compat.v1.placeholder instead.\n",
            "\n",
            "W0723 06:36:29.207787 140709683365760 deprecation_wrapper.py:119] From /usr/local/lib/python3.6/dist-packages/keras/backend/tensorflow_backend.py:4138: The name tf.random_uniform is deprecated. Please use tf.random.uniform instead.\n",
            "\n",
            "W0723 06:36:29.393424 140709683365760 deprecation_wrapper.py:119] From /usr/local/lib/python3.6/dist-packages/keras/backend/tensorflow_backend.py:133: The name tf.placeholder_with_default is deprecated. Please use tf.compat.v1.placeholder_with_default instead.\n",
            "\n",
            "W0723 06:36:29.406786 140709683365760 deprecation.py:506] From /usr/local/lib/python3.6/dist-packages/keras/backend/tensorflow_backend.py:3445: calling dropout (from tensorflow.python.ops.nn_ops) with keep_prob is deprecated and will be removed in a future version.\n",
            "Instructions for updating:\n",
            "Please use `rate` instead of `keep_prob`. Rate should be set to `rate = 1 - keep_prob`.\n",
            "W0723 06:36:30.154169 140709683365760 deprecation_wrapper.py:119] From /usr/local/lib/python3.6/dist-packages/keras/optimizers.py:790: The name tf.train.Optimizer is deprecated. Please use tf.compat.v1.train.Optimizer instead.\n",
            "\n",
            "W0723 06:36:30.180876 140709683365760 deprecation_wrapper.py:119] From /usr/local/lib/python3.6/dist-packages/keras/backend/tensorflow_backend.py:3295: The name tf.log is deprecated. Please use tf.math.log instead.\n",
            "\n"
          ],
          "name": "stderr"
        },
        {
          "output_type": "stream",
          "text": [
            "_________________________________________________________________\n",
            "Layer (type)                 Output Shape              Param #   \n",
            "=================================================================\n",
            "embedding_1 (Embedding)      (None, 64, 150)           263100    \n",
            "_________________________________________________________________\n",
            "lstm_1 (LSTM)                (None, 64, 150)           180600    \n",
            "_________________________________________________________________\n",
            "lstm_2 (LSTM)                (None, 150)               180600    \n",
            "_________________________________________________________________\n",
            "dense_1 (Dense)              (None, 3)                 453       \n",
            "=================================================================\n",
            "Total params: 624,753\n",
            "Trainable params: 624,753\n",
            "Non-trainable params: 0\n",
            "_________________________________________________________________\n",
            "None\n"
          ],
          "name": "stdout"
        }
      ]
    },
    {
      "cell_type": "markdown",
      "metadata": {
        "id": "cGeZyrot5KKG",
        "colab_type": "text"
      },
      "source": [
        "При компиляции функцией **compile()** дополнительно указываются следующие параметры -\n",
        "\n",
        "\n",
        "*   optimizer - это оптимизационный алгоритм, который использует сеть при подборе весов сети, мы использовали популярный алгоритм *adam*;\n",
        "*   loss - функция подсчёта потерь, используемый сетью для оптимизации весов, так как у нас задача многоклассововй классификации, то нужно использовать функцию* categorical crossentropy*;\n",
        "*   metrics - тут можно указать метрики, значения которых сохраняются по мере обучения сети, чтобы потом можно было проанализировать их изменение, мы хотим смотреть на изменение точности сети (метрика *acc* - accuracy);\n",
        "\n",
        "Модель успешно скомпилирована, можно посмотреть список содержащихся в ней слоёв, размерность данных в этих слоях и итоговое количество параметров, подлежащих обучению."
      ]
    },
    {
      "cell_type": "markdown",
      "metadata": {
        "id": "8Xn_8hEYXCWy",
        "colab_type": "text"
      },
      "source": [
        "## 6. Обучение сети"
      ]
    },
    {
      "cell_type": "markdown",
      "metadata": {
        "id": "GJZqACaFX9Q5",
        "colab_type": "text"
      },
      "source": [
        "Обучение сети проводиться на наборах входных и выходных данных (X и y), которые мы предварительно подготовили. \n",
        "\n",
        "Для обучения принято использовать только часть данных, а часть - спрятать и не показывать пока сети, чтобы потом на этих спрятанных данных проверить качество обученной сети.\n",
        "\n",
        "Для этого нужно наши данные разбить на два набора - обучающие данные и тестовые данные. Оба эти набора будут содержать пару X и y. \n",
        "\n",
        "Разобъём данные с помощью функции **train_test_split()**. В параметрах функции указываем наборы данных для разбиения, относительный размер проверочного набора и следует ли перемешать разбиваемый набор данных перед разделением."
      ]
    },
    {
      "cell_type": "code",
      "metadata": {
        "id": "yyeIs_5Rxt1a",
        "colab_type": "code",
        "outputId": "379dc612-4670-4d8e-8acb-f17ae181c7ea",
        "colab": {
          "base_uri": "https://localhost:8080/",
          "height": 50
        }
      },
      "source": [
        "X_train, X_test, y_train, y_test = train_test_split(X, y, test_size=0.10, shuffle=True)\n",
        "print(X_train.shape, y_train.shape)\n",
        "print(X_test.shape, y_test.shape)"
      ],
      "execution_count": 0,
      "outputs": [
        {
          "output_type": "stream",
          "text": [
            "(270, 64) (270, 3)\n",
            "(30, 64) (30, 3)\n"
          ],
          "name": "stdout"
        }
      ]
    },
    {
      "cell_type": "markdown",
      "metadata": {
        "id": "pu-jrMuLXFiy",
        "colab_type": "text"
      },
      "source": [
        "Обучение нейронной сети проходит в несколько заходов, они называются эпохи. Одна эпоха - это один проход по всем обучающим данным. Количество эпох (*epochs*), используемые при обучении - это один из параметров обучения. \n",
        "\n",
        "Так как данных много и их все сразу не прогнать через сеть, сеть обучается только на части данных, так называемом пакете данных. Размер этого пакета (*batch_size*) - один из параметров, указываемый при обучении."
      ]
    },
    {
      "cell_type": "code",
      "metadata": {
        "id": "z503CBXizYnH",
        "colab_type": "code",
        "outputId": "69c477bc-18ae-4ff9-ced0-9d5d1babde18",
        "colab": {
          "base_uri": "https://localhost:8080/",
          "height": 706
        }
      },
      "source": [
        "# n_cells=32, n_epochs=5, batch_size=10\n",
        "model.fit(X_train, y_train, epochs=20, batch_size=32)"
      ],
      "execution_count": 0,
      "outputs": [
        {
          "output_type": "stream",
          "text": [
            "Epoch 1/20\n",
            "270/270 [==============================] - 4s 16ms/step - loss: 0.6457 - acc: 0.6185\n",
            "Epoch 2/20\n",
            "270/270 [==============================] - 4s 15ms/step - loss: 0.7562 - acc: 0.6296\n",
            "Epoch 3/20\n",
            "270/270 [==============================] - 4s 15ms/step - loss: 0.6768 - acc: 0.6370\n",
            "Epoch 4/20\n",
            "270/270 [==============================] - 4s 15ms/step - loss: 0.6776 - acc: 0.6111\n",
            "Epoch 5/20\n",
            "270/270 [==============================] - 4s 15ms/step - loss: 0.6505 - acc: 0.6815\n",
            "Epoch 6/20\n",
            "270/270 [==============================] - 4s 16ms/step - loss: 0.6408 - acc: 0.6889\n",
            "Epoch 7/20\n",
            "270/270 [==============================] - 4s 16ms/step - loss: 0.6592 - acc: 0.6778\n",
            "Epoch 8/20\n",
            "270/270 [==============================] - 4s 16ms/step - loss: 0.7121 - acc: 0.6741\n",
            "Epoch 9/20\n",
            "270/270 [==============================] - 4s 16ms/step - loss: 0.7206 - acc: 0.6481\n",
            "Epoch 10/20\n",
            "270/270 [==============================] - 4s 16ms/step - loss: 0.7126 - acc: 0.6741\n",
            "Epoch 11/20\n",
            "270/270 [==============================] - 4s 16ms/step - loss: 0.6445 - acc: 0.6815\n",
            "Epoch 12/20\n",
            "270/270 [==============================] - 4s 16ms/step - loss: 0.7095 - acc: 0.6556\n",
            "Epoch 13/20\n",
            "270/270 [==============================] - 4s 16ms/step - loss: 0.7067 - acc: 0.7222\n",
            "Epoch 14/20\n",
            "270/270 [==============================] - 4s 16ms/step - loss: 0.7232 - acc: 0.7037\n",
            "Epoch 15/20\n",
            "270/270 [==============================] - 4s 16ms/step - loss: 0.7457 - acc: 0.7037\n",
            "Epoch 16/20\n",
            "270/270 [==============================] - 4s 16ms/step - loss: 0.6960 - acc: 0.7111\n",
            "Epoch 17/20\n",
            "270/270 [==============================] - 4s 16ms/step - loss: 0.7130 - acc: 0.7000\n",
            "Epoch 18/20\n",
            "270/270 [==============================] - 4s 16ms/step - loss: 0.7019 - acc: 0.6926\n",
            "Epoch 19/20\n",
            "270/270 [==============================] - 4s 17ms/step - loss: 0.6730 - acc: 0.7111\n",
            "Epoch 20/20\n",
            "270/270 [==============================] - 5s 17ms/step - loss: 0.6556 - acc: 0.7222\n"
          ],
          "name": "stdout"
        },
        {
          "output_type": "execute_result",
          "data": {
            "text/plain": [
              "<keras.callbacks.History at 0x7ff9204f0fd0>"
            ]
          },
          "metadata": {
            "tags": []
          },
          "execution_count": 17
        }
      ]
    },
    {
      "cell_type": "markdown",
      "metadata": {
        "id": "84gHc2AuzmrC",
        "colab_type": "text"
      },
      "source": [
        "После обучения на очередной эпохе, показатель функции потерь (loss) должен падать, в идеале до 0, а показатель точности сети (acc, accuracy) должен расти, в идеале до 1."
      ]
    },
    {
      "cell_type": "markdown",
      "metadata": {
        "id": "Q_rYEgLt-iAn",
        "colab_type": "text"
      },
      "source": [
        "## 7. Прогноз на основе обученной сети"
      ]
    },
    {
      "cell_type": "markdown",
      "metadata": {
        "id": "tjICJmpa-o9B",
        "colab_type": "text"
      },
      "source": [
        "Чтобы сделать прогноз на обученной сети, нужно вызвать функцию **predict()**. Функция в качестве входных параметров принимает массив X.\n",
        "\n",
        "Попробуем сделать прогноз для одной из заявок, которая оказалась у нас в тестовом наборе и наша сеть её ещё не видела."
      ]
    },
    {
      "cell_type": "code",
      "metadata": {
        "id": "OCip5FWR_pfX",
        "colab_type": "code",
        "outputId": "a1e07760-d136-4bb8-ca56-d8f740d2a01d",
        "colab": {
          "base_uri": "https://localhost:8080/",
          "height": 238
        }
      },
      "source": [
        "print(\"Закодированный текст заявки -\\n\", X_test[0])\n",
        "reverse_word_map = dict(map(reversed, tokenizer.word_index.items()))\n",
        "# print(reverse_word_map)\n",
        "original_text = [reverse_word_map.get(letter) for letter in X_test[0]]\n",
        "print(\"Оригинальный текст заявки -\\n\", original_text)\n",
        "\n",
        "# получим прогноз для всех тестовых данных\n",
        "y_pred = model.predict(X_test, batch_size=32)\n",
        "\n",
        "print(\"Прогнозные вероятности принадлежности к классам заявки -\", y_pred[0])\n",
        "print(\"Классы заявок в массиве данных - \", labels)\n",
        "c_pred = oh_coder.inverse_transform([y_pred[0]])[0][0]\n",
        "print(\"Прогноз класса для этой заявки - \", labels[c_pred])\n",
        "c_test = oh_coder.inverse_transform([y_test[0]])[0][0]\n",
        "print(\"Реальный класс этой заявки - \", labels[c_test])"
      ],
      "execution_count": 0,
      "outputs": [
        {
          "output_type": "stream",
          "text": [
            "Закодированный текст заявки -\n",
            " [   5    3    1    6    7   10  261  456   81 1351 1352  638  108   20\n",
            "   20   32   14   27   10   22  142  639    4   62    2 1353 1354   97\n",
            "    0    0    0    0    0    0    0    0    0    0    0    0    0    0\n",
            "    0    0    0    0    0    0    0    0    0    0    0    0    0    0\n",
            "    0    0    0    0    0    0    0    0]\n",
            "Оригинальный текст заявки -\n",
            " ['выполнять', 'обход', 'по', 'маршрут', '1', '2', 'территория', 'каэс', 'здание', 'станция', 'зарядка', 'огнетушитель', 'отметка', '0', '0', 'ряд', 'а', 'ось', '2', 'отсутствовать', 'маркировочный', 'таблица', 'на', 'дверь', 'в', 'тамбур', 'сзо', '11', None, None, None, None, None, None, None, None, None, None, None, None, None, None, None, None, None, None, None, None, None, None, None, None, None, None, None, None, None, None, None, None, None, None, None, None]\n",
            "Прогнозные вероятности принадлежности к классам заявки - [0.3320846  0.08089004 0.5870254 ]\n",
            "Классы заявок в массиве данных -  [21, 28, 31]\n",
            "Прогноз класса для этой заявки -  31\n",
            "Реальный класс этой заявки -  21\n"
          ],
          "name": "stdout"
        }
      ]
    },
    {
      "cell_type": "markdown",
      "metadata": {
        "id": "FdH35757mYb3",
        "colab_type": "text"
      },
      "source": [
        "В результате прогноза мы получим массив вероятностей того, что переданный нейронной сети текст принадлежит к определённым классам.\n",
        "\n",
        "С помощью функции **inverse_transform** нашего унитарного кодировщика мы получим номер класса, спрогнозированного сетью."
      ]
    },
    {
      "cell_type": "markdown",
      "metadata": {
        "id": "PqMSlIFD3mB2",
        "colab_type": "text"
      },
      "source": [
        "## 8. Оценка сети"
      ]
    },
    {
      "cell_type": "markdown",
      "metadata": {
        "id": "43QlCEuU3pe_",
        "colab_type": "text"
      },
      "source": [
        "После обучения нужно убедиться в качестве обученной сети. Это можно сделать несколькими способами. Простой способ получить значение точности сети - сделать прогноз и сравнить его с реальными данными."
      ]
    },
    {
      "cell_type": "code",
      "metadata": {
        "id": "rFmve6Oseg-x",
        "colab_type": "code",
        "outputId": "8d31c591-8f6e-40a0-8934-13621867b824",
        "colab": {
          "base_uri": "https://localhost:8080/",
          "height": 538
        }
      },
      "source": [
        "y_pred = model.predict(X_test, batch_size=32)\n",
        "wrong = 0\n",
        "for i in range(len(y_pred)):\n",
        "    real_val = oh_coder.inverse_transform([y_test[i]])\n",
        "    predict_val = oh_coder.inverse_transform([y_pred[i]])\n",
        "    print(\"%d/%d ждали - %d, получили - %d. Это правильно - %s\" % (i, len(y_pred), real_val, predict_val, (real_val == predict_val)[0][0]))\n",
        "    if real_val != predict_val:\n",
        "        wrong = wrong + 1\n",
        "        \n",
        "accr = (len(y_pred) - wrong) / len(y_pred)\n",
        "print('Точность: {:0.1f}%'.format(accr*100))"
      ],
      "execution_count": 0,
      "outputs": [
        {
          "output_type": "stream",
          "text": [
            "0/30 ждали - 0, получили - 2. Это правильно - False\n",
            "1/30 ждали - 2, получили - 2. Это правильно - True\n",
            "2/30 ждали - 2, получили - 2. Это правильно - True\n",
            "3/30 ждали - 2, получили - 2. Это правильно - True\n",
            "4/30 ждали - 1, получили - 2. Это правильно - False\n",
            "5/30 ждали - 0, получили - 2. Это правильно - False\n",
            "6/30 ждали - 0, получили - 0. Это правильно - True\n",
            "7/30 ждали - 2, получили - 2. Это правильно - True\n",
            "8/30 ждали - 0, получили - 1. Это правильно - False\n",
            "9/30 ждали - 0, получили - 1. Это правильно - False\n",
            "10/30 ждали - 2, получили - 2. Это правильно - True\n",
            "11/30 ждали - 0, получили - 2. Это правильно - False\n",
            "12/30 ждали - 1, получили - 1. Это правильно - True\n",
            "13/30 ждали - 0, получили - 2. Это правильно - False\n",
            "14/30 ждали - 1, получили - 1. Это правильно - True\n",
            "15/30 ждали - 2, получили - 2. Это правильно - True\n",
            "16/30 ждали - 0, получили - 1. Это правильно - False\n",
            "17/30 ждали - 1, получили - 1. Это правильно - True\n",
            "18/30 ждали - 2, получили - 2. Это правильно - True\n",
            "19/30 ждали - 1, получили - 1. Это правильно - True\n",
            "20/30 ждали - 0, получили - 2. Это правильно - False\n",
            "21/30 ждали - 2, получили - 2. Это правильно - True\n",
            "22/30 ждали - 0, получили - 1. Это правильно - False\n",
            "23/30 ждали - 2, получили - 2. Это правильно - True\n",
            "24/30 ждали - 2, получили - 2. Это правильно - True\n",
            "25/30 ждали - 1, получили - 1. Это правильно - True\n",
            "26/30 ждали - 0, получили - 2. Это правильно - False\n",
            "27/30 ждали - 2, получили - 2. Это правильно - True\n",
            "28/30 ждали - 1, получили - 1. Это правильно - True\n",
            "29/30 ждали - 1, получили - 1. Это правильно - True\n",
            "Точность: 63.3%\n"
          ],
          "name": "stdout"
        }
      ]
    },
    {
      "cell_type": "markdown",
      "metadata": {
        "id": "EGlTTDOqejVQ",
        "colab_type": "text"
      },
      "source": [
        "Также узнать качество обученной сети можно с помощью специальной функции **evaluate()**. \n",
        "\n",
        "Функции нужно передать тестовый набор входных и выходных данных. Сеть по входным данным сделает прогноз, сравнит его с тестовыми выходными данными и выдаст оценку качества обученной сети."
      ]
    },
    {
      "cell_type": "code",
      "metadata": {
        "id": "4Eg0OgWw4oxv",
        "colab_type": "code",
        "outputId": "bf0d096f-cf15-4d2f-df5b-71837171c42b",
        "colab": {
          "base_uri": "https://localhost:8080/",
          "height": 84
        }
      },
      "source": [
        "accr = model.evaluate(X_test,y_test)\n",
        "print('Оценка по тестовому набору данных\\n  Потери: {:0.2f}\\n  Точность: {:0.1f}%'.format(accr[0],accr[1]*100))"
      ],
      "execution_count": 0,
      "outputs": [
        {
          "output_type": "stream",
          "text": [
            "\r30/30 [==============================] - 1s 17ms/step\n",
            "Оценка по тестовому набору данных\n",
            "  Потери: 0.81\n",
            "  Точность: 63.3%\n"
          ],
          "name": "stdout"
        }
      ]
    },
    {
      "cell_type": "markdown",
      "metadata": {
        "id": "fxYg4cTdi12c",
        "colab_type": "text"
      },
      "source": [
        "## 9. Настройка сети"
      ]
    },
    {
      "cell_type": "markdown",
      "metadata": {
        "id": "11dKrsPNi5fZ",
        "colab_type": "text"
      },
      "source": [
        "Не очень хорошие показатели качества обученной сети можно улучшить двумя способами -\n",
        "\n",
        "\n",
        "1.   Бо́льшим количеством качественных данных;\n",
        "2.   Тонкой настройкой гиперпараметров сети;\n",
        "\n"
      ]
    },
    {
      "cell_type": "markdown",
      "metadata": {
        "id": "yKWGZnZl-vi4",
        "colab_type": "text"
      },
      "source": [
        "### Увеличение количества данных"
      ]
    },
    {
      "cell_type": "markdown",
      "metadata": {
        "id": "lcwf4TsTjv1g",
        "colab_type": "text"
      },
      "source": [
        "Ранее мы учились прогнозировать три класса заявок на выборке по 100 записей на каждый класс.\n",
        "\n",
        "В этот раз обучим сеть узнавать эти же классы, но на выборке из 10 000 записей на каждый класс."
      ]
    },
    {
      "cell_type": "code",
      "metadata": {
        "id": "4bIa3dwzosR-",
        "colab_type": "code",
        "outputId": "f32df4cb-aa30-4f7a-8d59-ace85c30f138",
        "colab": {
          "base_uri": "https://localhost:8080/",
          "height": 420
        }
      },
      "source": [
        "# получим данные\n",
        "X, y, max_len, vocab_size, num_classes, tokenizer, oh_coder, labels = get_X_y([21, 28, 31], 10000)\n",
        "print(\"Размерность массива входных данных - \", X.shape)\n",
        "print(\"Входные данные массива X (первые два) - \\n\", X[:2])\n",
        "print(\"Размерность массива выходных данных - \", y.shape)\n",
        "print(\"Выходные данные массива y (первые два) - \\n\",y[:2])\n",
        "print(\"Метки классов записей - \", labels)"
      ],
      "execution_count": 0,
      "outputs": [
        {
          "output_type": "stream",
          "text": [
            "Самое длинное предложение - из 304 слов\n",
            "Сократим до разумной длины в 92 слов\n",
            "Словарь состоит из 26332 слов\n",
            "Размерность массива входных данных -  (30000, 92)\n",
            "Входные данные массива X (первые два) - \n",
            " [[ 255   19 7223 5326    8    0    0    0    0    0    0    0    0    0\n",
            "     0    0    0    0    0    0    0    0    0    0    0    0    0    0\n",
            "     0    0    0    0    0    0    0    0    0    0    0    0    0    0\n",
            "     0    0    0    0    0    0    0    0    0    0    0    0    0    0\n",
            "     0    0    0    0    0    0    0    0    0    0    0    0    0    0\n",
            "     0    0    0    0    0    0    0    0    0    0    0    0    0    0\n",
            "     0    0    0    0    0    0    0    0]\n",
            " [   5    4    1    6   70   24   16   12    0    0    0    0    0    0\n",
            "     0    0    0    0    0    0    0    0    0    0    0    0    0    0\n",
            "     0    0    0    0    0    0    0    0    0    0    0    0    0    0\n",
            "     0    0    0    0    0    0    0    0    0    0    0    0    0    0\n",
            "     0    0    0    0    0    0    0    0    0    0    0    0    0    0\n",
            "     0    0    0    0    0    0    0    0    0    0    0    0    0    0\n",
            "     0    0    0    0    0    0    0    0]]\n",
            "Размерность массива выходных данных -  (30000, 3)\n",
            "Выходные данные массива y (первые два) - \n",
            " [[1. 0. 0.]\n",
            " [0. 0. 1.]]\n",
            "Метки классов записей -  [21, 28, 31]\n"
          ],
          "name": "stdout"
        }
      ]
    },
    {
      "cell_type": "markdown",
      "metadata": {
        "id": "kKzJjaYXpcZB",
        "colab_type": "text"
      },
      "source": [
        "В этот раз массив для обучения имеет 30 тысяч строк с максимальной длинной текста в 92 слова и словарём из 26 тысяч слов.\n",
        "\n",
        "Обучим и оценим сеть на новых данных, но с теми же самыми параметрами, которые мы использовали ранее."
      ]
    },
    {
      "cell_type": "code",
      "metadata": {
        "id": "ChjK3Wf7o7Uh",
        "colab_type": "code",
        "outputId": "34682588-c86c-4228-9f81-f15c97b3f764",
        "colab": {
          "base_uri": "https://localhost:8080/",
          "height": 1000
        }
      },
      "source": [
        "# разбивка данных на обучающий и проверочный набор\n",
        "X_train, X_test, y_train, y_test = train_test_split(X, y, test_size=0.10, shuffle=True)\n",
        "print(X_train.shape, y_train.shape)\n",
        "print(X_test.shape, y_test.shape)\n",
        "# строим модель\n",
        "mem_cells = 150\n",
        "n_epochs = 20\n",
        "b_size = 32\n",
        "model = Sequential()\n",
        "model.add(Embedding(input_dim=vocab_size+1, output_dim=mem_cells, input_length=max_len))\n",
        "# model.add(SpatialDropout1D(rate=0.2))\n",
        "model.add(LSTM(units=mem_cells, dropout=0.1, recurrent_dropout=0.1, return_sequences = True))\n",
        "model.add(LSTM(units=mem_cells, dropout=0.1, recurrent_dropout=0.1))\n",
        "model.add(Dense(units=num_classes, activation='softmax'))\n",
        "model.compile(optimizer='adam', loss='categorical_crossentropy', metrics=['acc'])\n",
        "print(model.summary())\n",
        "# обучение модели\n",
        "model.fit(X_train, y_train, epochs=n_epochs, batch_size=b_size)\n",
        "# оценка модели\n",
        "accr = model.evaluate(X_test,y_test)\n",
        "print('Оценка по проверочному набору данных\\n  Потери: {:0.2f}\\n  Точность: {:0.1f}%'.format(accr[0],accr[1]*100))"
      ],
      "execution_count": 0,
      "outputs": [
        {
          "output_type": "stream",
          "text": [
            "(27000, 92) (27000, 3)\n",
            "(3000, 92) (3000, 3)\n",
            "_________________________________________________________________\n",
            "Layer (type)                 Output Shape              Param #   \n",
            "=================================================================\n",
            "embedding_2 (Embedding)      (None, 92, 150)           3950100   \n",
            "_________________________________________________________________\n",
            "lstm_3 (LSTM)                (None, 92, 150)           180600    \n",
            "_________________________________________________________________\n",
            "lstm_4 (LSTM)                (None, 150)               180600    \n",
            "_________________________________________________________________\n",
            "dense_2 (Dense)              (None, 3)                 453       \n",
            "=================================================================\n",
            "Total params: 4,311,753\n",
            "Trainable params: 4,311,753\n",
            "Non-trainable params: 0\n",
            "_________________________________________________________________\n",
            "None\n",
            "Epoch 1/20\n",
            "27000/27000 [==============================] - 611s 23ms/step - loss: 1.0992 - acc: 0.3326\n",
            "Epoch 2/20\n",
            "27000/27000 [==============================] - 626s 23ms/step - loss: 1.0857 - acc: 0.3595\n",
            "Epoch 3/20\n",
            "27000/27000 [==============================] - 622s 23ms/step - loss: 0.9998 - acc: 0.4708\n",
            "Epoch 4/20\n",
            "27000/27000 [==============================] - 608s 23ms/step - loss: 1.0002 - acc: 0.4638\n",
            "Epoch 5/20\n",
            "27000/27000 [==============================] - 599s 22ms/step - loss: 0.8529 - acc: 0.5674\n",
            "Epoch 6/20\n",
            "27000/27000 [==============================] - 608s 23ms/step - loss: 0.6214 - acc: 0.7272\n",
            "Epoch 7/20\n",
            "27000/27000 [==============================] - 609s 23ms/step - loss: 0.4288 - acc: 0.8353\n",
            "Epoch 8/20\n",
            "27000/27000 [==============================] - 618s 23ms/step - loss: 0.2760 - acc: 0.8989\n",
            "Epoch 9/20\n",
            "27000/27000 [==============================] - 603s 22ms/step - loss: 0.2132 - acc: 0.9246\n",
            "Epoch 10/20\n",
            "27000/27000 [==============================] - 596s 22ms/step - loss: 0.1771 - acc: 0.9381\n",
            "Epoch 11/20\n",
            "27000/27000 [==============================] - 599s 22ms/step - loss: 0.1471 - acc: 0.9487\n",
            "Epoch 12/20\n",
            "27000/27000 [==============================] - 597s 22ms/step - loss: 0.1283 - acc: 0.9536\n",
            "Epoch 13/20\n",
            "27000/27000 [==============================] - 588s 22ms/step - loss: 0.1132 - acc: 0.9574\n",
            "Epoch 14/20\n",
            "27000/27000 [==============================] - 591s 22ms/step - loss: 0.0996 - acc: 0.9605\n",
            "Epoch 15/20\n",
            "27000/27000 [==============================] - 572s 21ms/step - loss: 0.0895 - acc: 0.9640\n",
            "Epoch 16/20\n",
            "27000/27000 [==============================] - 593s 22ms/step - loss: 0.0834 - acc: 0.9640\n",
            "Epoch 17/20\n",
            "27000/27000 [==============================] - 588s 22ms/step - loss: 0.0779 - acc: 0.9660\n",
            "Epoch 18/20\n",
            "27000/27000 [==============================] - 591s 22ms/step - loss: 0.0751 - acc: 0.9670\n",
            "Epoch 19/20\n",
            "27000/27000 [==============================] - 595s 22ms/step - loss: 0.0689 - acc: 0.9683\n",
            "Epoch 20/20\n",
            "27000/27000 [==============================] - 583s 22ms/step - loss: 0.0649 - acc: 0.9687\n",
            "3000/3000 [==============================] - 27s 9ms/step\n",
            "Оценка по тестовому набору данных\n",
            "  Потери: 0.61\n",
            "  Точность: 86.8%\n"
          ],
          "name": "stdout"
        }
      ]
    },
    {
      "cell_type": "markdown",
      "metadata": {
        "id": "Eh4fXk-PcOCi",
        "colab_type": "text"
      },
      "source": [
        "Сравним полученные результаты с тем, что было на выборке из 100 записей на один класс.\n",
        "\n",
        "```\n",
        "Кол-во записей: 100 шт   10 000 шт\n",
        "Потери:         0.81     0.61\n",
        "Точность:       63.3%    86.8%\n",
        "```\n",
        "\n",
        "Качество сети уже достаточно выросло, попробуем повысить его дополнительно, проведя тонкую настройку гиперпараметров сети."
      ]
    },
    {
      "cell_type": "markdown",
      "metadata": {
        "id": "M-Z8ZGPx_IKu",
        "colab_type": "text"
      },
      "source": [
        "### Подбор гиперпараметров сети"
      ]
    },
    {
      "cell_type": "markdown",
      "metadata": {
        "id": "FD5HpWlq4zBB",
        "colab_type": "text"
      },
      "source": [
        "Подготовим несколько функций, с помощью которых можно настроить гиперпараметры сети."
      ]
    },
    {
      "cell_type": "code",
      "metadata": {
        "id": "TEIl-Lph4-zC",
        "colab_type": "code",
        "colab": {}
      },
      "source": [
        "# определение и компиляция модели\n",
        "def get_model(n_cells, summary=True):\n",
        "    m = Sequential()\n",
        "    m.add(Embedding(input_dim=vocab_size+1, output_dim=n_cells, input_length=max_len))\n",
        "#     m.add(SpatialDropout1D(rate=0.2))\n",
        "#     m.add(LSTM(units=n_cells, dropout=0.2, recurrent_dropout=0.2))\n",
        "    m.add(LSTM(units=n_cells, dropout=0.1, recurrent_dropout=0.1, return_sequences = True))\n",
        "    m.add(LSTM(units=n_cells, dropout=0.1, recurrent_dropout=0.1))\n",
        "    m.add(Dense(units=num_classes, activation='softmax'))\n",
        "    m.compile(optimizer='adam', loss='categorical_crossentropy', metrics=['accuracy'])\n",
        "    if summary: print(m.summary())\n",
        "    return m\n",
        "\n",
        "# настройка количества эпох\n",
        "def tune_epochs_num(n_cells, n_epochs, batch_size):\n",
        "    m = get_model(n_cells)\n",
        "    es = EarlyStopping(monitor='val_loss', mode='min', min_delta=0.0001)\n",
        "    history = m.fit(X, y, epochs=n_epochs, batch_size=batch_size, validation_split=0.1, shuffle=True)\n",
        "    \n",
        "    # график потерь на обучающих и проверочных данных\n",
        "    pyplot.plot(history.history['loss'])\n",
        "    pyplot.plot(history.history['val_loss'])\n",
        "    pyplot.title('потери сети на обучающих и на проверочных данных')\n",
        "    pyplot.ylabel('потери')\n",
        "    pyplot.xlabel('эпохи')\n",
        "    pyplot.legend(['обучающие данные', 'проверочные данные'], loc = 'upper right')\n",
        "    pyplot.show()\n",
        "    \n",
        "    # график точности\n",
        "    acc = history.history['acc']\n",
        "    acc = [x * 100. for x in acc]\n",
        "    val_acc = history.history['val_acc']\n",
        "    val_acc = [x * 100. for x in val_acc]\n",
        "    pyplot.plot(acc)\n",
        "    pyplot.plot(val_acc)\n",
        "    pyplot.title('точность сети на обучающих и на проверочных данных')\n",
        "    pyplot.ylabel('точность')\n",
        "#     pyplot.xlabel('эпохи')\n",
        "    pyplot.legend(['обучающие данные', 'проверочные данные'], loc = 'best')\n",
        "    pyplot.show()\n",
        "    \n",
        "# оценка модели и получение размера потерь\n",
        "def get_loss_acc(n_cells, n_epochs, batch_size, summary=False, early_stop=False):\n",
        "    m = get_model(n_cells, summary)\n",
        "    es = EarlyStopping(monitor='val_loss', min_delta=0.0001)\n",
        "    if early_stop:\n",
        "        history = m.fit(X, y, epochs=n_epochs, batch_size=batch_size, validation_split=0.1, shuffle=True, callbacks=[es])\n",
        "    else:\n",
        "        history = m.fit(X, y, epochs=n_epochs, batch_size=batch_size, validation_split=0.1, shuffle=True)\n",
        "\n",
        "    loss = history.history['val_loss'][len(history.history['val_loss'])-1]\n",
        "    acc =  history.history['val_acc'][len(history.history['val_acc'])-1]\n",
        "    return loss, acc\n",
        "\n",
        "# настройка количества ячеек памяти    \n",
        "def tune_memory_cells(mem_cells, n_epochs, batch_size):\n",
        "    n_repeats = 3\n",
        "    # массив для результатов подбора\n",
        "    scores_loss = pd.DataFrame()\n",
        "    scores_acc = pd.DataFrame()\n",
        "\n",
        "    iteratio = 0\n",
        "    for value in mem_cells:\n",
        "        # повторяем каждый эксперимент несколько раз\n",
        "        loss_values = list()\n",
        "        acc_values = list()\n",
        "        for i in range(n_repeats):\n",
        "            print(\">%d/%d (%d ячеек), проход %d из %d, тестируем....\" % \n",
        "                  (iteratio*n_repeats + i + 1, len(mem_cells)*n_repeats, value, i + 1, n_repeats))\n",
        "            loss, acc = get_loss_acc(n_cells=value, n_epochs=n_epochs, batch_size=batch_size)\n",
        "            acc = acc * 100.\n",
        "            loss_values.append(loss)\n",
        "            acc_values.append(acc)\n",
        "            print('>>%d/%d (%d ячеек), проход %d из %d, потери = %f, точность = %f' %\n",
        "                  (iteratio*n_repeats + i + 1, len(mem_cells)*n_repeats, value, i + 1, n_repeats, loss, acc))\n",
        "\n",
        "        # сохраним результаты для этого кол-ва ячеек\n",
        "        scores_loss[str(value)] = loss_values\n",
        "        scores_acc[str(value)] = acc_values\n",
        "        iteratio += 1\n",
        "\n",
        "    # итоговая статистика\n",
        "    print(\"\\nПОТЕРИ:\\n\", scores_loss.describe())\n",
        "    print(\"\\nТОЧНОСТЬ:\\n\", scores_acc.describe())\n",
        "\n",
        "    # строим диаграмму размаха\n",
        "    scores_loss.boxplot()\n",
        "    pyplot.title('потери сети при подборе кол-ва яееек памяти')\n",
        "    pyplot.ylabel('потери')\n",
        "    pyplot.xlabel('кол-во ячеек')\n",
        "    pyplot.show()\n",
        "    \n",
        "    scores_acc.boxplot()\n",
        "    pyplot.title('качество модели при подборе кол-ва яееек памяти')\n",
        "    pyplot.ylabel('точность')\n",
        "    pyplot.xlabel('кол-во ячеек')\n",
        "    pyplot.show()\n",
        "\n",
        "# настройка размера пакета\n",
        "def tune_batch_size(sizes, n_cells, n_epochs):\n",
        "    n_repeats = 3\n",
        "    # массив для результатов подбора\n",
        "    scores_loss = pd.DataFrame()\n",
        "    scores_acc = pd.DataFrame()\n",
        "\n",
        "    iteratio = 0\n",
        "    for value in sizes:\n",
        "        # повторяем каждый эксперимент несколько раз\n",
        "        loss_values = list()\n",
        "        acc_values = list()\n",
        "        for i in range(n_repeats):\n",
        "            print(\">%d/%d (размер пакета %d), проход %d из %d, тестируем....\" % \n",
        "                  (iteratio*n_repeats+i+1, len(sizes)*n_repeats, value, i + 1, n_repeats))\n",
        "            loss, acc = get_loss_acc(n_cells=n_cells, n_epochs=n_epochs, batch_size=value)\n",
        "            acc = acc * 100.\n",
        "            loss_values.append(loss)\n",
        "            acc_values.append(acc)\n",
        "            print('>>%d/%d (размер пакета %d), проход %d из %d, потери = %f, точность = %f' %\n",
        "                  (iteratio*n_repeats+i+1, len(sizes)*n_repeats, value, i + 1, n_repeats, loss, acc))\n",
        "\n",
        "        # сохраним результаты для этого кол-ва ячеек\n",
        "        scores_loss[str(value)] = loss_values\n",
        "        scores_acc[str(value)] = acc_values\n",
        "        iteratio += 1\n",
        "\n",
        "    # итоговая статистика\n",
        "    print(\"\\nПОТЕРИ:\\n\", scores_loss.describe())\n",
        "    print(\"\\nТОЧНОСТЬ:\\n\", scores_acc.describe())\n",
        "\n",
        "    # строим диаграмму размаха\n",
        "    scores_loss.boxplot()\n",
        "    pyplot.title('потери сети при подборе размера пакета')\n",
        "    pyplot.ylabel('потери')\n",
        "    pyplot.xlabel('размер пакета')\n",
        "    pyplot.show()\n",
        "    \n",
        "    scores_acc.boxplot()\n",
        "    pyplot.title('качество модели при подборе размера пакета')\n",
        "    pyplot.ylabel('точность')\n",
        "#     pyplot.xlabel('размер пакета')\n",
        "    pyplot.show()"
      ],
      "execution_count": 0,
      "outputs": []
    },
    {
      "cell_type": "markdown",
      "metadata": {
        "id": "hgcVZVTFRzE3",
        "colab_type": "text"
      },
      "source": [
        "Теперь займёмся тонким подбором гиперпараметров. В нашей модели нейронной сети таких три:\n",
        "\n",
        "\n",
        "1.   Количество обучающих эпох\n",
        "2.   Количество ячеек памяти в слое LTSM\n",
        "3.   Размер пакета данных в эпохе\n"
      ]
    },
    {
      "cell_type": "markdown",
      "metadata": {
        "id": "OMB5hdJurV_A",
        "colab_type": "text"
      },
      "source": [
        "### Подбор количества эпох"
      ]
    },
    {
      "cell_type": "markdown",
      "metadata": {
        "id": "eBVUIikC8DaY",
        "colab_type": "text"
      },
      "source": [
        "Сначала определим достаточное для обучения количество эпох. Используем для начала какое-то большое количество эпох и посмотрим, как ведёт себя функция потерь во время обучения на этих эпохах.\n",
        "\n",
        "В результате выполнения функции мы получим график изменения потерь с соответствием с количеством эпох."
      ]
    },
    {
      "cell_type": "code",
      "metadata": {
        "id": "MuKl-COG8NuW",
        "colab_type": "code",
        "outputId": "e3786cee-568f-45ff-e865-acac8687e239",
        "colab": {
          "base_uri": "https://localhost:8080/",
          "height": 1000
        }
      },
      "source": [
        "# n_epochs=11, n_cells=32, n_epochs=5\n",
        "tune_epochs_num(n_epochs=20, n_cells=150, batch_size=32)"
      ],
      "execution_count": 0,
      "outputs": [
        {
          "output_type": "stream",
          "text": [
            "_________________________________________________________________\n",
            "Layer (type)                 Output Shape              Param #   \n",
            "=================================================================\n",
            "embedding_3 (Embedding)      (None, 92, 150)           3950100   \n",
            "_________________________________________________________________\n",
            "lstm_5 (LSTM)                (None, 92, 150)           180600    \n",
            "_________________________________________________________________\n",
            "lstm_6 (LSTM)                (None, 150)               180600    \n",
            "_________________________________________________________________\n",
            "dense_3 (Dense)              (None, 3)                 453       \n",
            "=================================================================\n",
            "Total params: 4,311,753\n",
            "Trainable params: 4,311,753\n",
            "Non-trainable params: 0\n",
            "_________________________________________________________________\n",
            "None\n",
            "Train on 27000 samples, validate on 3000 samples\n",
            "Epoch 1/20\n",
            "27000/27000 [==============================] - 623s 23ms/step - loss: 1.0986 - acc: 0.3393 - val_loss: 1.0988 - val_acc: 0.3270\n",
            "Epoch 2/20\n",
            "27000/27000 [==============================] - 644s 24ms/step - loss: 0.9963 - acc: 0.4763 - val_loss: 0.9456 - val_acc: 0.5133\n",
            "Epoch 3/20\n",
            "27000/27000 [==============================] - 643s 24ms/step - loss: 0.9393 - acc: 0.5196 - val_loss: 0.9247 - val_acc: 0.5223\n",
            "Epoch 4/20\n",
            "27000/27000 [==============================] - 642s 24ms/step - loss: 0.9338 - acc: 0.5226 - val_loss: 0.9308 - val_acc: 0.5200\n",
            "Epoch 5/20\n",
            "27000/27000 [==============================] - 632s 23ms/step - loss: 0.9337 - acc: 0.5225 - val_loss: 0.9269 - val_acc: 0.5237\n",
            "Epoch 6/20\n",
            "27000/27000 [==============================] - 616s 23ms/step - loss: 0.9255 - acc: 0.5527 - val_loss: 0.9156 - val_acc: 0.5560\n",
            "Epoch 7/20\n",
            "27000/27000 [==============================] - 638s 24ms/step - loss: 0.8897 - acc: 0.5601 - val_loss: 0.8657 - val_acc: 0.5293\n",
            "Epoch 8/20\n",
            "27000/27000 [==============================] - 648s 24ms/step - loss: 0.7072 - acc: 0.6705 - val_loss: 0.4534 - val_acc: 0.8383\n",
            "Epoch 9/20\n",
            "27000/27000 [==============================] - 651s 24ms/step - loss: 0.3566 - acc: 0.8784 - val_loss: 0.3239 - val_acc: 0.8770\n",
            "Epoch 10/20\n",
            "27000/27000 [==============================] - 640s 24ms/step - loss: 0.2326 - acc: 0.9211 - val_loss: 0.3044 - val_acc: 0.8870\n",
            "Epoch 11/20\n",
            "27000/27000 [==============================] - 632s 23ms/step - loss: 0.1821 - acc: 0.9374 - val_loss: 0.2917 - val_acc: 0.8917\n",
            "Epoch 12/20\n",
            "27000/27000 [==============================] - 627s 23ms/step - loss: 0.1459 - acc: 0.9489 - val_loss: 0.3150 - val_acc: 0.8893\n",
            "Epoch 13/20\n",
            "27000/27000 [==============================] - 613s 23ms/step - loss: 0.1236 - acc: 0.9524 - val_loss: 0.3614 - val_acc: 0.8880\n",
            "Epoch 14/20\n",
            "27000/27000 [==============================] - 574s 21ms/step - loss: 0.1055 - acc: 0.9591 - val_loss: 0.3511 - val_acc: 0.8870\n",
            "Epoch 15/20\n",
            "27000/27000 [==============================] - 539s 20ms/step - loss: 0.0966 - acc: 0.9619 - val_loss: 0.3614 - val_acc: 0.8873\n",
            "Epoch 16/20\n",
            "27000/27000 [==============================] - 528s 20ms/step - loss: 0.0864 - acc: 0.9642 - val_loss: 0.4179 - val_acc: 0.8830\n",
            "Epoch 17/20\n",
            "27000/27000 [==============================] - 522s 19ms/step - loss: 0.0826 - acc: 0.9653 - val_loss: 0.4393 - val_acc: 0.8847\n",
            "Epoch 18/20\n",
            "27000/27000 [==============================] - 531s 20ms/step - loss: 0.0764 - acc: 0.9665 - val_loss: 0.4234 - val_acc: 0.8780\n",
            "Epoch 19/20\n",
            "27000/27000 [==============================] - 532s 20ms/step - loss: 0.0732 - acc: 0.9664 - val_loss: 0.4333 - val_acc: 0.8737\n",
            "Epoch 20/20\n",
            "27000/27000 [==============================] - 532s 20ms/step - loss: 0.0662 - acc: 0.9687 - val_loss: 0.5207 - val_acc: 0.8777\n"
          ],
          "name": "stdout"
        },
        {
          "output_type": "display_data",
          "data": {
            "image/png": "[encoded data removed]",
            "text/plain": [
              "<Figure size 432x288 with 1 Axes>"
            ]
          },
          "metadata": {
            "tags": []
          }
        },
        {
          "output_type": "display_data",
          "data": {
            "image/png": "[encoded data removed]",
            "text/plain": [
              "<Figure size 432x288 with 1 Axes>"
            ]
          },
          "metadata": {
            "tags": []
          }
        }
      ]
    },
    {
      "cell_type": "markdown",
      "metadata": {
        "id": "Wg8FlWRf9Du0",
        "colab_type": "text"
      },
      "source": [
        "На графике видно, что на 9 эпохе размер потерь стабилизировался и перестал падать, точность перестала увеличиваться, значит, зафиксируем количество эпох на 9, как оптимальный размер обучающих эпох для данной сети."
      ]
    },
    {
      "cell_type": "markdown",
      "metadata": {
        "id": "05a9BcGZrf-F",
        "colab_type": "text"
      },
      "source": [
        "### Подбор количества ячеек памяти"
      ]
    },
    {
      "cell_type": "markdown",
      "metadata": {
        "id": "h4vi1dnhrdpl",
        "colab_type": "text"
      },
      "source": [
        "Подберём следующий параметр - количество ячеек памяти в слое LTSM. Функция подбора для разного значения количества ячеек памяти несколько раз выполняет обучение и оценку получившейся модели. Полученные значения усредняются и выводятся в виде диаграммы размаха, которая поможет выбрать лучшее значение."
      ]
    },
    {
      "cell_type": "code",
      "metadata": {
        "id": "3spy36Fr9b70",
        "colab_type": "code",
        "outputId": "59c338ef-899a-4208-d4f2-df1a590698ea",
        "colab": {
          "base_uri": "https://localhost:8080/",
          "height": 1000
        }
      },
      "source": [
        "tune_memory_cells(mem_cells=[100, 150, 200], n_epochs=9, batch_size=32)"
      ],
      "execution_count": 0,
      "outputs": [
        {
          "output_type": "stream",
          "text": [
            "WARNING: Logging before flag parsing goes to stderr.\n",
            "W0725 18:08:37.275343 140037041108864 deprecation_wrapper.py:119] From /usr/local/lib/python3.6/dist-packages/keras/backend/tensorflow_backend.py:74: The name tf.get_default_graph is deprecated. Please use tf.compat.v1.get_default_graph instead.\n",
            "\n",
            "W0725 18:08:37.314610 140037041108864 deprecation_wrapper.py:119] From /usr/local/lib/python3.6/dist-packages/keras/backend/tensorflow_backend.py:517: The name tf.placeholder is deprecated. Please use tf.compat.v1.placeholder instead.\n",
            "\n",
            "W0725 18:08:37.322241 140037041108864 deprecation_wrapper.py:119] From /usr/local/lib/python3.6/dist-packages/keras/backend/tensorflow_backend.py:4138: The name tf.random_uniform is deprecated. Please use tf.random.uniform instead.\n",
            "\n",
            "W0725 18:08:37.457630 140037041108864 deprecation_wrapper.py:119] From /usr/local/lib/python3.6/dist-packages/keras/backend/tensorflow_backend.py:133: The name tf.placeholder_with_default is deprecated. Please use tf.compat.v1.placeholder_with_default instead.\n",
            "\n",
            "W0725 18:08:37.468028 140037041108864 deprecation.py:506] From /usr/local/lib/python3.6/dist-packages/keras/backend/tensorflow_backend.py:3445: calling dropout (from tensorflow.python.ops.nn_ops) with keep_prob is deprecated and will be removed in a future version.\n",
            "Instructions for updating:\n",
            "Please use `rate` instead of `keep_prob`. Rate should be set to `rate = 1 - keep_prob`.\n"
          ],
          "name": "stderr"
        },
        {
          "output_type": "stream",
          "text": [
            ">1/6 (100 ячеек), проход 1 из 2, тестируем....\n"
          ],
          "name": "stdout"
        },
        {
          "output_type": "stream",
          "text": [
            "W0725 18:08:38.326225 140037041108864 deprecation_wrapper.py:119] From /usr/local/lib/python3.6/dist-packages/keras/optimizers.py:790: The name tf.train.Optimizer is deprecated. Please use tf.compat.v1.train.Optimizer instead.\n",
            "\n",
            "W0725 18:08:38.353738 140037041108864 deprecation_wrapper.py:119] From /usr/local/lib/python3.6/dist-packages/keras/backend/tensorflow_backend.py:3295: The name tf.log is deprecated. Please use tf.math.log instead.\n",
            "\n",
            "W0725 18:08:38.520735 140037041108864 deprecation.py:323] From /usr/local/lib/python3.6/dist-packages/tensorflow/python/ops/math_grad.py:1250: add_dispatch_support.<locals>.wrapper (from tensorflow.python.ops.array_ops) is deprecated and will be removed in a future version.\n",
            "Instructions for updating:\n",
            "Use tf.where in 2.0, which has the same broadcast rule as np.where\n"
          ],
          "name": "stderr"
        },
        {
          "output_type": "stream",
          "text": [
            "Train on 27000 samples, validate on 3000 samples\n",
            "Epoch 1/9\n",
            "27000/27000 [==============================] - 359s 13ms/step - loss: 1.0991 - acc: 0.3391 - val_loss: 1.0985 - val_acc: 0.3390\n",
            "Epoch 2/9\n",
            "27000/27000 [==============================] - 355s 13ms/step - loss: 1.0187 - acc: 0.4382 - val_loss: 1.0893 - val_acc: 0.3430\n",
            "Epoch 3/9\n",
            "27000/27000 [==============================] - 353s 13ms/step - loss: 1.0844 - acc: 0.3497 - val_loss: 1.0903 - val_acc: 0.3310\n",
            "Epoch 4/9\n",
            "27000/27000 [==============================] - 354s 13ms/step - loss: 1.0187 - acc: 0.4570 - val_loss: 0.9709 - val_acc: 0.5033\n",
            "Epoch 5/9\n",
            "27000/27000 [==============================] - 354s 13ms/step - loss: 0.9633 - acc: 0.5007 - val_loss: 0.9712 - val_acc: 0.4640\n",
            "Epoch 6/9\n",
            "27000/27000 [==============================] - 352s 13ms/step - loss: 0.9553 - acc: 0.5045 - val_loss: 0.9702 - val_acc: 0.4720\n",
            "Epoch 7/9\n",
            "27000/27000 [==============================] - 351s 13ms/step - loss: 0.8536 - acc: 0.5489 - val_loss: 0.7329 - val_acc: 0.6270\n",
            "Epoch 8/9\n",
            "27000/27000 [==============================] - 350s 13ms/step - loss: 0.6403 - acc: 0.7153 - val_loss: 0.5265 - val_acc: 0.8083\n",
            "Epoch 9/9\n",
            "27000/27000 [==============================] - 352s 13ms/step - loss: 0.3930 - acc: 0.8618 - val_loss: 0.3260 - val_acc: 0.8833\n",
            ">>1/6 (100 ячеек), проход 1 из 2, потери = 0.325994, точность = 88.333333\n",
            ">2/6 (100 ячеек), проход 2 из 2, тестируем....\n",
            "Train on 27000 samples, validate on 3000 samples\n",
            "Epoch 1/9\n",
            "27000/27000 [==============================] - 356s 13ms/step - loss: 1.0991 - acc: 0.3322 - val_loss: 1.0993 - val_acc: 0.3320\n",
            "Epoch 2/9\n",
            "27000/27000 [==============================] - 354s 13ms/step - loss: 1.1013 - acc: 0.3372 - val_loss: 1.1007 - val_acc: 0.3310\n",
            "Epoch 3/9\n",
            "27000/27000 [==============================] - 353s 13ms/step - loss: 1.1006 - acc: 0.3321 - val_loss: 1.1049 - val_acc: 0.3310\n",
            "Epoch 4/9\n",
            "27000/27000 [==============================] - 354s 13ms/step - loss: 1.1001 - acc: 0.3343 - val_loss: 1.0986 - val_acc: 0.3383\n",
            "Epoch 5/9\n",
            "27000/27000 [==============================] - 357s 13ms/step - loss: 1.1001 - acc: 0.3372 - val_loss: 1.0998 - val_acc: 0.3323\n",
            "Epoch 6/9\n",
            "27000/27000 [==============================] - 353s 13ms/step - loss: 0.9874 - acc: 0.4869 - val_loss: 0.9365 - val_acc: 0.5497\n",
            "Epoch 7/9\n",
            "27000/27000 [==============================] - 352s 13ms/step - loss: 0.8483 - acc: 0.5852 - val_loss: 0.6525 - val_acc: 0.7513\n",
            "Epoch 8/9\n",
            "27000/27000 [==============================] - 349s 13ms/step - loss: 0.4514 - acc: 0.8406 - val_loss: 0.3620 - val_acc: 0.8750\n",
            "Epoch 9/9\n",
            "27000/27000 [==============================] - 348s 13ms/step - loss: 0.2836 - acc: 0.9024 - val_loss: 0.3055 - val_acc: 0.8923\n",
            ">>2/6 (100 ячеек), проход 2 из 2, потери = 0.305543, точность = 89.233333\n",
            ">3/6 (150 ячеек), проход 1 из 2, тестируем....\n",
            "Train on 27000 samples, validate on 3000 samples\n",
            "Epoch 1/9\n",
            "27000/27000 [==============================] - 357s 13ms/step - loss: 1.0994 - acc: 0.3321 - val_loss: 1.0985 - val_acc: 0.3313\n",
            "Epoch 2/9\n",
            "27000/27000 [==============================] - 352s 13ms/step - loss: 1.0906 - acc: 0.3650 - val_loss: 1.0977 - val_acc: 0.3480\n",
            "Epoch 3/9\n",
            "27000/27000 [==============================] - 351s 13ms/step - loss: 1.0975 - acc: 0.3461 - val_loss: 1.0947 - val_acc: 0.3630\n",
            "Epoch 4/9\n",
            "27000/27000 [==============================] - 353s 13ms/step - loss: 1.0793 - acc: 0.3736 - val_loss: 1.0071 - val_acc: 0.4610\n",
            "Epoch 5/9\n",
            "27000/27000 [==============================] - 352s 13ms/step - loss: 1.0927 - acc: 0.3413 - val_loss: 1.0987 - val_acc: 0.3310\n",
            "Epoch 6/9\n",
            "27000/27000 [==============================] - 349s 13ms/step - loss: 0.7703 - acc: 0.6385 - val_loss: 0.4832 - val_acc: 0.8277\n",
            "Epoch 7/9\n",
            "27000/27000 [==============================] - 349s 13ms/step - loss: 0.3848 - acc: 0.8655 - val_loss: 0.3232 - val_acc: 0.8873\n",
            "Epoch 8/9\n",
            "27000/27000 [==============================] - 353s 13ms/step - loss: 0.2643 - acc: 0.9091 - val_loss: 0.2913 - val_acc: 0.8987\n",
            "Epoch 9/9\n",
            "27000/27000 [==============================] - 352s 13ms/step - loss: 0.2096 - acc: 0.9292 - val_loss: 0.2956 - val_acc: 0.9003\n",
            ">>3/6 (150 ячеек), проход 1 из 2, потери = 0.295646, точность = 90.033333\n",
            ">4/6 (150 ячеек), проход 2 из 2, тестируем....\n",
            "Train on 27000 samples, validate on 3000 samples\n",
            "Epoch 1/9\n",
            "27000/27000 [==============================] - 353s 13ms/step - loss: 1.0993 - acc: 0.3328 - val_loss: 1.0991 - val_acc: 0.3310\n",
            "Epoch 2/9\n",
            "27000/27000 [==============================] - 351s 13ms/step - loss: 0.9934 - acc: 0.4809 - val_loss: 0.9572 - val_acc: 0.5397\n",
            "Epoch 3/9\n",
            "27000/27000 [==============================] - 349s 13ms/step - loss: 0.9361 - acc: 0.5538 - val_loss: 1.0140 - val_acc: 0.4687\n",
            "Epoch 4/9\n",
            "27000/27000 [==============================] - 347s 13ms/step - loss: 1.0099 - acc: 0.4663 - val_loss: 1.0115 - val_acc: 0.4710\n",
            "Epoch 5/9\n",
            "27000/27000 [==============================] - 349s 13ms/step - loss: 0.9319 - acc: 0.5131 - val_loss: 0.6619 - val_acc: 0.6803\n",
            "Epoch 6/9\n",
            "27000/27000 [==============================] - 349s 13ms/step - loss: 0.4463 - acc: 0.8338 - val_loss: 0.3353 - val_acc: 0.8807\n",
            "Epoch 7/9\n",
            "27000/27000 [==============================] - 345s 13ms/step - loss: 0.2573 - acc: 0.9103 - val_loss: 0.2900 - val_acc: 0.8987\n",
            "Epoch 8/9\n",
            "27000/27000 [==============================] - 349s 13ms/step - loss: 0.1865 - acc: 0.9336 - val_loss: 0.2977 - val_acc: 0.9013\n",
            "Epoch 9/9\n",
            "27000/27000 [==============================] - 344s 13ms/step - loss: 0.1474 - acc: 0.9468 - val_loss: 0.2852 - val_acc: 0.8933\n",
            ">>4/6 (150 ячеек), проход 2 из 2, потери = 0.285221, точность = 89.333333\n",
            ">5/6 (200 ячеек), проход 1 из 2, тестируем....\n",
            "Train on 27000 samples, validate on 3000 samples\n",
            "Epoch 1/9\n",
            "27000/27000 [==============================] - 359s 13ms/step - loss: 1.0994 - acc: 0.3353 - val_loss: 1.0974 - val_acc: 0.3383\n",
            "Epoch 2/9\n",
            "27000/27000 [==============================] - 356s 13ms/step - loss: 1.0379 - acc: 0.4137 - val_loss: 1.0983 - val_acc: 0.3390\n",
            "Epoch 3/9\n",
            "27000/27000 [==============================] - 357s 13ms/step - loss: 0.9394 - acc: 0.5241 - val_loss: 0.9948 - val_acc: 0.4897\n",
            "Epoch 4/9\n",
            "27000/27000 [==============================] - 356s 13ms/step - loss: 0.6709 - acc: 0.7342 - val_loss: 0.5334 - val_acc: 0.7987\n",
            "Epoch 5/9\n",
            "27000/27000 [==============================] - 356s 13ms/step - loss: 0.3818 - acc: 0.8636 - val_loss: 0.3487 - val_acc: 0.8803\n",
            "Epoch 6/9\n",
            "27000/27000 [==============================] - 355s 13ms/step - loss: 0.2327 - acc: 0.9174 - val_loss: 0.2918 - val_acc: 0.8940\n",
            "Epoch 7/9\n",
            "27000/27000 [==============================] - 356s 13ms/step - loss: 0.1737 - acc: 0.9380 - val_loss: 0.3058 - val_acc: 0.8947\n",
            "Epoch 8/9\n",
            "27000/27000 [==============================] - 355s 13ms/step - loss: 0.1361 - acc: 0.9500 - val_loss: 0.3389 - val_acc: 0.8887\n",
            "Epoch 9/9\n",
            "27000/27000 [==============================] - 349s 13ms/step - loss: 0.1158 - acc: 0.9548 - val_loss: 0.3787 - val_acc: 0.8787\n",
            ">>5/6 (200 ячеек), проход 1 из 2, потери = 0.378654, точность = 87.866667\n",
            ">6/6 (200 ячеек), проход 2 из 2, тестируем....\n",
            "Train on 27000 samples, validate on 3000 samples\n",
            "Epoch 1/9\n",
            "27000/27000 [==============================] - 363s 13ms/step - loss: 1.1021 - acc: 0.3329 - val_loss: 1.1244 - val_acc: 0.3440\n",
            "Epoch 2/9\n",
            "27000/27000 [==============================] - 358s 13ms/step - loss: 1.1031 - acc: 0.3311 - val_loss: 1.1003 - val_acc: 0.3310\n",
            "Epoch 3/9\n",
            "27000/27000 [==============================] - 358s 13ms/step - loss: 1.1001 - acc: 0.3324 - val_loss: 1.1011 - val_acc: 0.3390\n",
            "Epoch 4/9\n",
            "27000/27000 [==============================] - 355s 13ms/step - loss: 1.0994 - acc: 0.3341 - val_loss: 1.0991 - val_acc: 0.3297\n",
            "Epoch 5/9\n",
            "27000/27000 [==============================] - 349s 13ms/step - loss: 1.0971 - acc: 0.3348 - val_loss: 1.1052 - val_acc: 0.3300\n",
            "Epoch 6/9\n",
            "27000/27000 [==============================] - 347s 13ms/step - loss: 1.0906 - acc: 0.3472 - val_loss: 0.9496 - val_acc: 0.5590\n",
            "Epoch 7/9\n",
            "27000/27000 [==============================] - 349s 13ms/step - loss: 0.5476 - acc: 0.7701 - val_loss: 0.3232 - val_acc: 0.8803\n",
            "Epoch 8/9\n",
            "27000/27000 [==============================] - 348s 13ms/step - loss: 0.2864 - acc: 0.8974 - val_loss: 0.2952 - val_acc: 0.8917\n",
            "Epoch 9/9\n",
            "27000/27000 [==============================] - 350s 13ms/step - loss: 0.2155 - acc: 0.9233 - val_loss: 0.2815 - val_acc: 0.8940\n",
            ">>6/6 (200 ячеек), проход 2 из 2, потери = 0.281516, точность = 89.400000\n",
            "\n",
            "ПОТЕРИ:             100       150       200\n",
            "count  2.000000  2.000000  2.000000\n",
            "mean   0.315768  0.290433  0.330085\n",
            "std    0.014461  0.007372  0.068687\n",
            "min    0.305543  0.285221  0.281516\n",
            "25%    0.310656  0.287827  0.305800\n",
            "50%    0.315768  0.290433  0.330085\n",
            "75%    0.320881  0.293040  0.354369\n",
            "max    0.325994  0.295646  0.378654\n",
            "\n",
            "ТОЧНОСТЬ:              100        150        200\n",
            "count   2.000000   2.000000   2.000000\n",
            "mean   88.783333  89.683333  88.633333\n",
            "std     0.636396   0.494975   1.084230\n",
            "min    88.333333  89.333333  87.866667\n",
            "25%    88.558333  89.508333  88.250000\n",
            "50%    88.783333  89.683333  88.633333\n",
            "75%    89.008333  89.858333  89.016667\n",
            "max    89.233333  90.033333  89.400000\n"
          ],
          "name": "stdout"
        },
        {
          "output_type": "display_data",
          "data": {
            "image/png": "[encoded data removed]",
            "text/plain": [
              "<Figure size 432x288 with 1 Axes>"
            ]
          },
          "metadata": {
            "tags": []
          }
        },
        {
          "output_type": "display_data",
          "data": {
            "image/png": "[encoded data removed]",
            "text/plain": [
              "<Figure size 432x288 with 1 Axes>"
            ]
          },
          "metadata": {
            "tags": []
          }
        }
      ]
    },
    {
      "cell_type": "markdown",
      "metadata": {
        "id": "SnudU7OJWwVw",
        "colab_type": "text"
      },
      "source": [
        "Видно, что потери минимальные и качество максимальное при количестве ячеек памяти равное 150."
      ]
    },
    {
      "cell_type": "markdown",
      "metadata": {
        "id": "36V4x6-wrtfb",
        "colab_type": "text"
      },
      "source": [
        "### Подбор размера пакета"
      ]
    },
    {
      "cell_type": "code",
      "metadata": {
        "id": "8V76eRgXSqDB",
        "colab_type": "code",
        "outputId": "4988dbe7-32c7-4f60-af0e-1ead16cc3c4c",
        "colab": {
          "base_uri": "https://localhost:8080/",
          "height": 1000
        }
      },
      "source": [
        "tune_batch_size(sizes=[32, 64, 100, 128], n_cells=150, n_epochs=9)"
      ],
      "execution_count": 0,
      "outputs": [
        {
          "output_type": "stream",
          "text": [
            ">1/8 (размер пакета 32), проход 1 из 2, тестируем....\n",
            "Train on 27000 samples, validate on 3000 samples\n",
            "Epoch 1/9\n",
            "27000/27000 [==============================] - 369s 14ms/step - loss: 1.0992 - acc: 0.3314 - val_loss: 1.0988 - val_acc: 0.3210\n",
            "Epoch 2/9\n",
            "27000/27000 [==============================] - 363s 13ms/step - loss: 1.0990 - acc: 0.3490 - val_loss: 1.1041 - val_acc: 0.3213\n",
            "Epoch 3/9\n",
            "27000/27000 [==============================] - 363s 13ms/step - loss: 1.0996 - acc: 0.3294 - val_loss: 1.0984 - val_acc: 0.3517\n",
            "Epoch 4/9\n",
            "27000/27000 [==============================] - 363s 13ms/step - loss: 1.0989 - acc: 0.3370 - val_loss: 1.0979 - val_acc: 0.3283\n",
            "Epoch 5/9\n",
            "27000/27000 [==============================] - 369s 14ms/step - loss: 0.9486 - acc: 0.4988 - val_loss: 0.6335 - val_acc: 0.7517\n",
            "Epoch 6/9\n",
            "27000/27000 [==============================] - 371s 14ms/step - loss: 0.5777 - acc: 0.7780 - val_loss: 0.4457 - val_acc: 0.8413\n",
            "Epoch 7/9\n",
            "27000/27000 [==============================] - 374s 14ms/step - loss: 0.3571 - acc: 0.8710 - val_loss: 0.3363 - val_acc: 0.8730\n",
            "Epoch 8/9\n",
            "27000/27000 [==============================] - 369s 14ms/step - loss: 0.2600 - acc: 0.9075 - val_loss: 0.3106 - val_acc: 0.8880\n",
            "Epoch 9/9\n",
            "27000/27000 [==============================] - 364s 13ms/step - loss: 0.2069 - acc: 0.9247 - val_loss: 0.2985 - val_acc: 0.8953\n",
            ">>1/8 (размер пакета 32), проход 1 из 2, потери = 0.298481, точность = 89.533333\n",
            ">2/8 (размер пакета 32), проход 2 из 2, тестируем....\n",
            "Train on 27000 samples, validate on 3000 samples\n",
            "Epoch 1/9\n",
            "27000/27000 [==============================] - 368s 14ms/step - loss: 1.0993 - acc: 0.3326 - val_loss: 1.0984 - val_acc: 0.3213\n",
            "Epoch 2/9\n",
            "27000/27000 [==============================] - 363s 13ms/step - loss: 1.0089 - acc: 0.4748 - val_loss: 0.8603 - val_acc: 0.5933\n",
            "Epoch 3/9\n",
            "27000/27000 [==============================] - 362s 13ms/step - loss: 0.6979 - acc: 0.7030 - val_loss: 0.5100 - val_acc: 0.8300\n",
            "Epoch 4/9\n",
            "27000/27000 [==============================] - 357s 13ms/step - loss: 0.3860 - acc: 0.8630 - val_loss: 0.3318 - val_acc: 0.8757\n",
            "Epoch 5/9\n",
            "27000/27000 [==============================] - 354s 13ms/step - loss: 0.2861 - acc: 0.8969 - val_loss: 0.3072 - val_acc: 0.8897\n",
            "Epoch 6/9\n",
            "27000/27000 [==============================] - 354s 13ms/step - loss: 0.2311 - acc: 0.9186 - val_loss: 0.3009 - val_acc: 0.8933\n",
            "Epoch 7/9\n",
            "27000/27000 [==============================] - 354s 13ms/step - loss: 0.1919 - acc: 0.9330 - val_loss: 0.3078 - val_acc: 0.8890\n",
            "Epoch 8/9\n",
            "27000/27000 [==============================] - 356s 13ms/step - loss: 0.1615 - acc: 0.9421 - val_loss: 0.3245 - val_acc: 0.8910\n",
            "Epoch 9/9\n",
            "27000/27000 [==============================] - 357s 13ms/step - loss: 0.1437 - acc: 0.9481 - val_loss: 0.3180 - val_acc: 0.8867\n",
            ">>2/8 (размер пакета 32), проход 2 из 2, потери = 0.317960, точность = 88.666667\n",
            ">3/8 (размер пакета 64), проход 1 из 2, тестируем....\n",
            "Train on 27000 samples, validate on 3000 samples\n",
            "Epoch 1/9\n",
            "27000/27000 [==============================] - 184s 7ms/step - loss: 1.0991 - acc: 0.3297 - val_loss: 1.0983 - val_acc: 0.3560\n",
            "Epoch 2/9\n",
            "27000/27000 [==============================] - 179s 7ms/step - loss: 1.0412 - acc: 0.4430 - val_loss: 0.9997 - val_acc: 0.5157\n",
            "Epoch 3/9\n",
            "27000/27000 [==============================] - 179s 7ms/step - loss: 0.9995 - acc: 0.5059 - val_loss: 0.9891 - val_acc: 0.5053\n",
            "Epoch 4/9\n",
            "27000/27000 [==============================] - 178s 7ms/step - loss: 1.0033 - acc: 0.4889 - val_loss: 0.9873 - val_acc: 0.4933\n",
            "Epoch 5/9\n",
            "27000/27000 [==============================] - 179s 7ms/step - loss: 1.0039 - acc: 0.4841 - val_loss: 0.9907 - val_acc: 0.4933\n",
            "Epoch 6/9\n",
            "27000/27000 [==============================] - 179s 7ms/step - loss: 1.0011 - acc: 0.4834 - val_loss: 0.9860 - val_acc: 0.4820\n",
            "Epoch 7/9\n",
            "27000/27000 [==============================] - 179s 7ms/step - loss: 0.9748 - acc: 0.4973 - val_loss: 0.8387 - val_acc: 0.6057\n",
            "Epoch 8/9\n",
            "27000/27000 [==============================] - 179s 7ms/step - loss: 0.8258 - acc: 0.6128 - val_loss: 0.5894 - val_acc: 0.7663\n",
            "Epoch 9/9\n",
            "27000/27000 [==============================] - 178s 7ms/step - loss: 0.4802 - acc: 0.8229 - val_loss: 0.3923 - val_acc: 0.8567\n",
            ">>3/8 (размер пакета 64), проход 1 из 2, потери = 0.392345, точность = 85.666667\n",
            ">4/8 (размер пакета 64), проход 2 из 2, тестируем....\n",
            "Train on 27000 samples, validate on 3000 samples\n",
            "Epoch 1/9\n",
            "27000/27000 [==============================] - 185s 7ms/step - loss: 1.0991 - acc: 0.3404 - val_loss: 1.0992 - val_acc: 0.3217\n",
            "Epoch 2/9\n",
            "27000/27000 [==============================] - 180s 7ms/step - loss: 1.1016 - acc: 0.3423 - val_loss: 1.0010 - val_acc: 0.5227\n",
            "Epoch 3/9\n",
            "27000/27000 [==============================] - 180s 7ms/step - loss: 0.8240 - acc: 0.5769 - val_loss: 0.7203 - val_acc: 0.6033\n",
            "Epoch 4/9\n",
            "27000/27000 [==============================] - 181s 7ms/step - loss: 0.7303 - acc: 0.5907 - val_loss: 0.7104 - val_acc: 0.5960\n",
            "Epoch 5/9\n",
            "27000/27000 [==============================] - 180s 7ms/step - loss: 0.7098 - acc: 0.6055 - val_loss: 0.6955 - val_acc: 0.6227\n",
            "Epoch 6/9\n",
            "27000/27000 [==============================] - 180s 7ms/step - loss: 0.6871 - acc: 0.6205 - val_loss: 0.6745 - val_acc: 0.6330\n",
            "Epoch 7/9\n",
            "27000/27000 [==============================] - 180s 7ms/step - loss: 0.6635 - acc: 0.6223 - val_loss: 0.6589 - val_acc: 0.5983\n",
            "Epoch 8/9\n",
            "27000/27000 [==============================] - 179s 7ms/step - loss: 0.6494 - acc: 0.6261 - val_loss: 0.6473 - val_acc: 0.6330\n",
            "Epoch 9/9\n",
            "27000/27000 [==============================] - 179s 7ms/step - loss: 0.6807 - acc: 0.6087 - val_loss: 0.6756 - val_acc: 0.6177\n",
            ">>4/8 (размер пакета 64), проход 2 из 2, потери = 0.675556, точность = 61.766667\n",
            ">5/8 (размер пакета 100), проход 1 из 2, тестируем....\n",
            "Train on 27000 samples, validate on 3000 samples\n",
            "Epoch 1/9\n",
            "27000/27000 [==============================] - 120s 4ms/step - loss: 1.0992 - acc: 0.3354 - val_loss: 1.0980 - val_acc: 0.3543\n",
            "Epoch 2/9\n",
            "27000/27000 [==============================] - 115s 4ms/step - loss: 1.0985 - acc: 0.3396 - val_loss: 1.0960 - val_acc: 0.3580\n",
            "Epoch 3/9\n",
            "27000/27000 [==============================] - 114s 4ms/step - loss: 1.0935 - acc: 0.3431 - val_loss: 1.0841 - val_acc: 0.3427\n",
            "Epoch 4/9\n",
            "27000/27000 [==============================] - 114s 4ms/step - loss: 1.0475 - acc: 0.4243 - val_loss: 0.9970 - val_acc: 0.5097\n",
            "Epoch 5/9\n",
            "27000/27000 [==============================] - 114s 4ms/step - loss: 0.9986 - acc: 0.4927 - val_loss: 0.9967 - val_acc: 0.5077\n",
            "Epoch 6/9\n",
            "27000/27000 [==============================] - 114s 4ms/step - loss: 0.9989 - acc: 0.4873 - val_loss: 0.9955 - val_acc: 0.5070\n",
            "Epoch 7/9\n",
            "27000/27000 [==============================] - 113s 4ms/step - loss: 0.9944 - acc: 0.4954 - val_loss: 0.9918 - val_acc: 0.5083\n",
            "Epoch 8/9\n",
            "27000/27000 [==============================] - 113s 4ms/step - loss: 0.9929 - acc: 0.5001 - val_loss: 0.9912 - val_acc: 0.5123\n",
            "Epoch 9/9\n",
            "27000/27000 [==============================] - 114s 4ms/step - loss: 0.9941 - acc: 0.4976 - val_loss: 0.9978 - val_acc: 0.4673\n",
            ">>5/8 (размер пакета 100), проход 1 из 2, потери = 0.997794, точность = 46.733333\n",
            ">6/8 (размер пакета 100), проход 2 из 2, тестируем....\n",
            "Train on 27000 samples, validate on 3000 samples\n",
            "Epoch 1/9\n",
            "27000/27000 [==============================] - 120s 4ms/step - loss: 1.0991 - acc: 0.3362 - val_loss: 1.0992 - val_acc: 0.3213\n",
            "Epoch 2/9\n",
            "27000/27000 [==============================] - 116s 4ms/step - loss: 1.0702 - acc: 0.3843 - val_loss: 0.9560 - val_acc: 0.5493\n",
            "Epoch 3/9\n",
            "27000/27000 [==============================] - 113s 4ms/step - loss: 0.9577 - acc: 0.5427 - val_loss: 0.9448 - val_acc: 0.5563\n",
            "Epoch 4/9\n",
            "27000/27000 [==============================] - 114s 4ms/step - loss: 0.9382 - acc: 0.5466 - val_loss: 0.8985 - val_acc: 0.5587\n",
            "Epoch 5/9\n",
            "27000/27000 [==============================] - 114s 4ms/step - loss: 0.9411 - acc: 0.5329 - val_loss: 1.0263 - val_acc: 0.4750\n",
            "Epoch 6/9\n",
            "27000/27000 [==============================] - 115s 4ms/step - loss: 1.0249 - acc: 0.4590 - val_loss: 1.0359 - val_acc: 0.4613\n",
            "Epoch 7/9\n",
            "27000/27000 [==============================] - 118s 4ms/step - loss: 1.0296 - acc: 0.4556 - val_loss: 0.9139 - val_acc: 0.5787\n",
            "Epoch 8/9\n",
            "27000/27000 [==============================] - 117s 4ms/step - loss: 0.8827 - acc: 0.5973 - val_loss: 0.8725 - val_acc: 0.6093\n",
            "Epoch 9/9\n",
            "27000/27000 [==============================] - 117s 4ms/step - loss: 0.9260 - acc: 0.5615 - val_loss: 0.9119 - val_acc: 0.5693\n",
            ">>6/8 (размер пакета 100), проход 2 из 2, потери = 0.911927, точность = 56.933333\n",
            ">7/8 (размер пакета 128), проход 1 из 2, тестируем....\n",
            "Train on 27000 samples, validate on 3000 samples\n",
            "Epoch 1/9\n",
            "27000/27000 [==============================] - 100s 4ms/step - loss: 1.0991 - acc: 0.3309 - val_loss: 1.0975 - val_acc: 0.3533\n",
            "Epoch 2/9\n",
            "27000/27000 [==============================] - 92s 3ms/step - loss: 1.0617 - acc: 0.3991 - val_loss: 0.9534 - val_acc: 0.5440\n",
            "Epoch 3/9\n",
            "27000/27000 [==============================] - 92s 3ms/step - loss: 0.9806 - acc: 0.5139 - val_loss: 0.9633 - val_acc: 0.5430\n",
            "Epoch 4/9\n",
            "27000/27000 [==============================] - 92s 3ms/step - loss: 0.9615 - acc: 0.5377 - val_loss: 0.9801 - val_acc: 0.5227\n",
            "Epoch 5/9\n",
            "27000/27000 [==============================] - 92s 3ms/step - loss: 1.0755 - acc: 0.3637 - val_loss: 1.0983 - val_acc: 0.3513\n",
            "Epoch 6/9\n",
            "27000/27000 [==============================] - 92s 3ms/step - loss: 1.0996 - acc: 0.3280 - val_loss: 1.1036 - val_acc: 0.3213\n",
            "Epoch 7/9\n",
            "27000/27000 [==============================] - 92s 3ms/step - loss: 1.0996 - acc: 0.3377 - val_loss: 1.1014 - val_acc: 0.3300\n",
            "Epoch 8/9\n",
            "27000/27000 [==============================] - 92s 3ms/step - loss: 1.0994 - acc: 0.3414 - val_loss: 1.0978 - val_acc: 0.3527\n",
            "Epoch 9/9\n",
            "27000/27000 [==============================] - 92s 3ms/step - loss: 1.0992 - acc: 0.3318 - val_loss: 1.0977 - val_acc: 0.3360\n",
            ">>7/8 (размер пакета 128), проход 1 из 2, потери = 1.097721, точность = 33.600000\n",
            ">8/8 (размер пакета 128), проход 2 из 2, тестируем....\n",
            "Train on 27000 samples, validate on 3000 samples\n",
            "Epoch 1/9\n",
            "27000/27000 [==============================] - 100s 4ms/step - loss: 1.0991 - acc: 0.3333 - val_loss: 1.0996 - val_acc: 0.3213\n",
            "Epoch 2/9\n",
            "27000/27000 [==============================] - 93s 3ms/step - loss: 1.0439 - acc: 0.4223 - val_loss: 0.9896 - val_acc: 0.5033\n",
            "Epoch 3/9\n",
            "27000/27000 [==============================] - 94s 3ms/step - loss: 0.9900 - acc: 0.4871 - val_loss: 0.9786 - val_acc: 0.4767\n",
            "Epoch 4/9\n",
            "27000/27000 [==============================] - 93s 3ms/step - loss: 0.9866 - acc: 0.4900 - val_loss: 0.9903 - val_acc: 0.4683\n",
            "Epoch 5/9\n",
            "27000/27000 [==============================] - 93s 3ms/step - loss: 0.9924 - acc: 0.4899 - val_loss: 0.9919 - val_acc: 0.5020\n",
            "Epoch 6/9\n",
            "27000/27000 [==============================] - 93s 3ms/step - loss: 1.0022 - acc: 0.4779 - val_loss: 0.9849 - val_acc: 0.4823\n",
            "Epoch 7/9\n",
            "27000/27000 [==============================] - 93s 3ms/step - loss: 1.0187 - acc: 0.4716 - val_loss: 1.0530 - val_acc: 0.4213\n",
            "Epoch 8/9\n",
            "27000/27000 [==============================] - 93s 3ms/step - loss: 1.0483 - acc: 0.4461 - val_loss: 1.0434 - val_acc: 0.4350\n",
            "Epoch 9/9\n",
            "27000/27000 [==============================] - 94s 3ms/step - loss: 1.0415 - acc: 0.4587 - val_loss: 1.0127 - val_acc: 0.4820\n",
            ">>8/8 (размер пакета 128), проход 2 из 2, потери = 1.012692, точность = 48.200000\n",
            "\n",
            "ПОТЕРИ:              32        64       100       128\n",
            "count  2.000000  2.000000  2.000000  2.000000\n",
            "mean   0.308221  0.533951  0.954861  1.055207\n",
            "std    0.013773  0.200261  0.060717  0.060125\n",
            "min    0.298481  0.392345  0.911927  1.012692\n",
            "25%    0.303351  0.463148  0.933394  1.033950\n",
            "50%    0.308221  0.533951  0.954861  1.055207\n",
            "75%    0.313090  0.604753  0.976327  1.076464\n",
            "max    0.317960  0.675556  0.997794  1.097721\n",
            "\n",
            "ТОЧНОСТЬ:               32         64        100        128\n",
            "count   2.000000   2.000000   2.000000   2.000000\n",
            "mean   89.100000  73.716667  51.833333  40.900000\n",
            "std     0.612826  16.899852   7.212490  10.323759\n",
            "min    88.666667  61.766667  46.733333  33.600000\n",
            "25%    88.883333  67.741667  49.283333  37.250000\n",
            "50%    89.100000  73.716667  51.833333  40.900000\n",
            "75%    89.316667  79.691667  54.383333  44.550000\n",
            "max    89.533333  85.666667  56.933333  48.200000\n"
          ],
          "name": "stdout"
        },
        {
          "output_type": "display_data",
          "data": {
            "image/png": "[encoded data removed]",
            "text/plain": [
              "<Figure size 432x288 with 1 Axes>"
            ]
          },
          "metadata": {
            "tags": []
          }
        },
        {
          "output_type": "display_data",
          "data": {
            "image/png": "[encoded data removed]",
            "text/plain": [
              "<Figure size 432x288 with 1 Axes>"
            ]
          },
          "metadata": {
            "tags": []
          }
        }
      ]
    },
    {
      "cell_type": "markdown",
      "metadata": {
        "id": "HZrkJjCa2W96",
        "colab_type": "text"
      },
      "source": [
        "Видно, что при размере пакета в 32 выборки самые малые потери и самая большая точность сети."
      ]
    },
    {
      "cell_type": "markdown",
      "metadata": {
        "id": "sJo056sBxZAT",
        "colab_type": "text"
      },
      "source": [
        "Посмотрим, что получилось в результате подбора гиперпараметров."
      ]
    },
    {
      "cell_type": "code",
      "metadata": {
        "id": "7-TH0WfVuie6",
        "colab_type": "code",
        "outputId": "38a4bc85-623c-4e60-ccab-12227e736764",
        "colab": {
          "base_uri": "https://localhost:8080/",
          "height": 457
        }
      },
      "source": [
        "loss, acc = get_loss_acc(n_cells=150, n_epochs=9, batch_size=32)\n",
        "print('Оценка по тестовому набору данных\\n  Потери: {:0.2f}\\n  Точность: {:0.1f}%'.format(loss,acc*100.))"
      ],
      "execution_count": 0,
      "outputs": [
        {
          "output_type": "stream",
          "text": [
            "W0729 08:08:31.421320 140546966931328 deprecation.py:323] From /usr/local/lib/python3.6/dist-packages/tensorflow/python/ops/math_grad.py:1250: add_dispatch_support.<locals>.wrapper (from tensorflow.python.ops.array_ops) is deprecated and will be removed in a future version.\n",
            "Instructions for updating:\n",
            "Use tf.where in 2.0, which has the same broadcast rule as np.where\n"
          ],
          "name": "stderr"
        },
        {
          "output_type": "stream",
          "text": [
            "Train on 27000 samples, validate on 3000 samples\n",
            "Epoch 1/9\n",
            "27000/27000 [==============================] - 370s 14ms/step - loss: 1.0990 - acc: 0.3434 - val_loss: 1.0985 - val_acc: 0.3350\n",
            "Epoch 2/9\n",
            "27000/27000 [==============================] - 364s 13ms/step - loss: 1.0680 - acc: 0.3879 - val_loss: 1.0989 - val_acc: 0.3297\n",
            "Epoch 3/9\n",
            "27000/27000 [==============================] - 363s 13ms/step - loss: 1.1006 - acc: 0.3389 - val_loss: 1.0974 - val_acc: 0.3437\n",
            "Epoch 4/9\n",
            "27000/27000 [==============================] - 366s 14ms/step - loss: 0.7765 - acc: 0.6146 - val_loss: 0.4522 - val_acc: 0.8350\n",
            "Epoch 5/9\n",
            "27000/27000 [==============================] - 369s 14ms/step - loss: 0.3470 - acc: 0.8781 - val_loss: 0.3453 - val_acc: 0.8667\n",
            "Epoch 6/9\n",
            "27000/27000 [==============================] - 369s 14ms/step - loss: 0.2472 - acc: 0.9122 - val_loss: 0.3377 - val_acc: 0.8643\n",
            "Epoch 7/9\n",
            "27000/27000 [==============================] - 368s 14ms/step - loss: 0.1988 - acc: 0.9276 - val_loss: 0.3229 - val_acc: 0.8850\n",
            "Epoch 8/9\n",
            "27000/27000 [==============================] - 370s 14ms/step - loss: 0.1642 - acc: 0.9399 - val_loss: 0.3471 - val_acc: 0.8770\n",
            "Epoch 9/9\n",
            "27000/27000 [==============================] - 372s 14ms/step - loss: 0.1376 - acc: 0.9506 - val_loss: 0.3521 - val_acc: 0.8793\n",
            "Оценка по тестовому набору данных\n",
            "  Потери: 0.35\n",
            "  Точность: 87.9%\n"
          ],
          "name": "stdout"
        }
      ]
    },
    {
      "cell_type": "markdown",
      "metadata": {
        "id": "bowPOQ5IC84W",
        "colab_type": "text"
      },
      "source": [
        "Сравним с предудущими значениями качества сети:\n",
        "\n",
        "\n",
        "```\n",
        "Кол-во записей: 100 шт   10 000 шт  Подбор\n",
        "Потери:         0.81     0.61       0.35\n",
        "Точность:       63.3%    86.8%      87.9%\n",
        "```\n",
        "\n",
        "Видно, что сильно упали потери и немного подросла точность сети."
      ]
    },
    {
      "cell_type": "markdown",
      "metadata": {
        "id": "MFJNjYQpkj3X",
        "colab_type": "text"
      },
      "source": [
        "## 10. Полная модель"
      ]
    },
    {
      "cell_type": "markdown",
      "metadata": {
        "id": "Fp38xnl5kuR9",
        "colab_type": "text"
      },
      "source": [
        "Теперь, когда выбранная архитектура нейронной сети показала свою эффективность и мы отработали модель на части классов заявок, сделаем модель полноценной, работающей со всеми существующими классами заявок.\n",
        "\n",
        "Параметры используемых данных -\n",
        "\n",
        "```\n",
        "Самое длинное предложение - из 429 слов\n",
        "Сократим до разумной длины в 125 слов\n",
        "Словарь состоит из 60882 слов\n",
        "```\n",
        "\n"
      ]
    },
    {
      "cell_type": "code",
      "metadata": {
        "id": "ZXtho8N1rqK2",
        "colab_type": "code",
        "outputId": "c3667cef-b45e-43bf-a4cc-041b5a8052ec",
        "colab": {
          "base_uri": "https://localhost:8080/",
          "height": 474
        }
      },
      "source": [
        "# получим данные\n",
        "X, y, max_len, vocab_size, num_classes, tokenizer, oh_coder, labels = get_X_y(\n",
        "    [24, 28, 25, 21, 26, 34, 23, 31, 22, 27, 33, 35, 32, 30, 29, 52, 50, 1, 51, 53, 54])\n",
        "print(\"Размерность массива входных данных - \", X.shape)\n",
        "print(\"Входные данные массива X (первые два) - \\n\", X[:2])\n",
        "print(\"Размерность массива выходных данных - \", y.shape)\n",
        "print(\"Выходные данные массива y (первые два) - \\n\",y[:2])\n",
        "print(\"Метки классов записей - \", labels)"
      ],
      "execution_count": 0,
      "outputs": [
        {
          "output_type": "stream",
          "text": [
            "Самое длинное предложение - из 323 слов\n",
            "Сократим до разумной длины в 96 слов\n",
            "Словарь состоит из 31622 слов\n",
            "Размерность массива входных данных -  (123964, 96)\n",
            "Входные данные массива X (первые два) - \n",
            " [[    5     3     1     6    36     8    44     2     1   504    30    95\n",
            "     59   741  2886   197    49   581   833 10623    87 10623    50   741\n",
            "   2886   197    49   581    65   131     1   581     8    12     0     0\n",
            "      0     0     0     0     0     0     0     0     0     0     0     0\n",
            "      0     0     0     0     0     0     0     0     0     0     0     0\n",
            "      0     0     0     0     0     0     0     0     0     0     0     0\n",
            "      0     0     0     0     0     0     0     0     0     0     0     0\n",
            "      0     0     0     0     0     0     0     0     0     0     0     0]\n",
            " [   10    41    88    28   254    33  1079    38   632  6553  2110    43\n",
            "   3512   345     0     0     0     0     0     0     0     0     0     0\n",
            "      0     0     0     0     0     0     0     0     0     0     0     0\n",
            "      0     0     0     0     0     0     0     0     0     0     0     0\n",
            "      0     0     0     0     0     0     0     0     0     0     0     0\n",
            "      0     0     0     0     0     0     0     0     0     0     0     0\n",
            "      0     0     0     0     0     0     0     0     0     0     0     0\n",
            "      0     0     0     0     0     0     0     0     0     0     0     0]]\n",
            "Размерность массива выходных данных -  (123964, 21)\n",
            "Выходные данные массива y (первые два) - \n",
            " [[1. 0. 0. 0. 0. 0. 0. 0. 0. 0. 0. 0. 0. 0. 0. 0. 0. 0. 0. 0. 0.]\n",
            " [0. 0. 0. 0. 0. 0. 0. 0. 1. 0. 0. 0. 0. 0. 0. 0. 0. 0. 0. 0. 0.]]\n",
            "Метки классов записей -  [24, 28, 25, 21, 26, 34, 23, 31, 22, 27, 33, 35, 32, 30, 29, 52, 50, 1, 51, 53, 54]\n"
          ],
          "name": "stdout"
        }
      ]
    },
    {
      "cell_type": "markdown",
      "metadata": {
        "id": "6r0QwpNsDriQ",
        "colab_type": "text"
      },
      "source": [
        "Построим сеть, используя подобранные ранее параметры"
      ]
    },
    {
      "cell_type": "code",
      "metadata": {
        "id": "za_afFk1DyBC",
        "colab_type": "code",
        "outputId": "838c9e7c-0c38-4896-ce63-cd19e494a9e8",
        "colab": {
          "base_uri": "https://localhost:8080/",
          "height": 406
        }
      },
      "source": [
        "loss, acc = get_loss_acc(n_cells=150, n_epochs=9, batch_size=32)\n",
        "print('Оценка\\n  Потери: {:0.2f}\\n  Точность: {:0.1f}%'.format(loss,acc*100.))"
      ],
      "execution_count": 0,
      "outputs": [
        {
          "output_type": "stream",
          "text": [
            "Train on 111569 samples, validate on 12397 samples\n",
            "Epoch 1/9\n",
            "111569/111569 [==============================] - 2052s 18ms/step - loss: 2.7351 - acc: 0.0879 - val_loss: 2.7253 - val_acc: 0.0887\n",
            "Epoch 2/9\n",
            "111569/111569 [==============================] - 2060s 18ms/step - loss: 2.7341 - acc: 0.0858 - val_loss: 2.7397 - val_acc: 0.0778\n",
            "Epoch 3/9\n",
            "111569/111569 [==============================] - 2058s 18ms/step - loss: 2.7408 - acc: 0.0819 - val_loss: 2.7381 - val_acc: 0.0795\n",
            "Epoch 4/9\n",
            "111569/111569 [==============================] - 2072s 19ms/step - loss: 2.7413 - acc: 0.0798 - val_loss: 2.7425 - val_acc: 0.0795\n",
            "Epoch 5/9\n",
            "111569/111569 [==============================] - 2070s 19ms/step - loss: 2.7364 - acc: 0.0838 - val_loss: 2.7086 - val_acc: 0.1046\n",
            "Epoch 6/9\n",
            "111569/111569 [==============================] - 2065s 19ms/step - loss: 2.0575 - acc: 0.3496 - val_loss: 1.6033 - val_acc: 0.4998\n",
            "Epoch 7/9\n",
            "111569/111569 [==============================] - 2047s 18ms/step - loss: 1.4163 - acc: 0.5624 - val_loss: 1.3165 - val_acc: 0.5915\n",
            "Epoch 8/9\n",
            "111569/111569 [==============================] - 2051s 18ms/step - loss: 1.1598 - acc: 0.6328 - val_loss: 1.2456 - val_acc: 0.6018\n",
            "Epoch 9/9\n",
            "111569/111569 [==============================] - 2058s 18ms/step - loss: 0.9967 - acc: 0.6750 - val_loss: 1.2463 - val_acc: 0.5974\n",
            "Оценка по тестовому набору данных\n",
            "  Потери: 1.25\n",
            "  Точность: 59.7%\n"
          ],
          "name": "stdout"
        }
      ]
    },
    {
      "cell_type": "code",
      "metadata": {
        "id": "SMu5PyOQaY-1",
        "colab_type": "code",
        "outputId": "a963fe2f-646a-449a-88da-bd76f33da13c",
        "colab": {
          "base_uri": "https://localhost:8080/",
          "height": 1000
        }
      },
      "source": [
        "tune_epochs_num(n_epochs=18, n_cells=250, batch_size=320)"
      ],
      "execution_count": 0,
      "outputs": [
        {
          "output_type": "stream",
          "text": [
            "WARNING: Logging before flag parsing goes to stderr.\n",
            "W0812 08:34:14.632028 139896238724992 deprecation_wrapper.py:119] From /usr/local/lib/python3.6/dist-packages/keras/backend/tensorflow_backend.py:74: The name tf.get_default_graph is deprecated. Please use tf.compat.v1.get_default_graph instead.\n",
            "\n",
            "W0812 08:34:14.678043 139896238724992 deprecation_wrapper.py:119] From /usr/local/lib/python3.6/dist-packages/keras/backend/tensorflow_backend.py:517: The name tf.placeholder is deprecated. Please use tf.compat.v1.placeholder instead.\n",
            "\n",
            "W0812 08:34:14.684692 139896238724992 deprecation_wrapper.py:119] From /usr/local/lib/python3.6/dist-packages/keras/backend/tensorflow_backend.py:4138: The name tf.random_uniform is deprecated. Please use tf.random.uniform instead.\n",
            "\n",
            "W0812 08:34:14.920049 139896238724992 deprecation_wrapper.py:119] From /usr/local/lib/python3.6/dist-packages/keras/backend/tensorflow_backend.py:133: The name tf.placeholder_with_default is deprecated. Please use tf.compat.v1.placeholder_with_default instead.\n",
            "\n",
            "W0812 08:34:14.934517 139896238724992 deprecation.py:506] From /usr/local/lib/python3.6/dist-packages/keras/backend/tensorflow_backend.py:3445: calling dropout (from tensorflow.python.ops.nn_ops) with keep_prob is deprecated and will be removed in a future version.\n",
            "Instructions for updating:\n",
            "Please use `rate` instead of `keep_prob`. Rate should be set to `rate = 1 - keep_prob`.\n",
            "W0812 08:34:15.861514 139896238724992 deprecation_wrapper.py:119] From /usr/local/lib/python3.6/dist-packages/keras/optimizers.py:790: The name tf.train.Optimizer is deprecated. Please use tf.compat.v1.train.Optimizer instead.\n",
            "\n",
            "W0812 08:34:15.888371 139896238724992 deprecation_wrapper.py:119] From /usr/local/lib/python3.6/dist-packages/keras/backend/tensorflow_backend.py:3295: The name tf.log is deprecated. Please use tf.math.log instead.\n",
            "\n",
            "W0812 08:34:16.073822 139896238724992 deprecation.py:323] From /usr/local/lib/python3.6/dist-packages/tensorflow/python/ops/math_grad.py:1250: add_dispatch_support.<locals>.wrapper (from tensorflow.python.ops.array_ops) is deprecated and will be removed in a future version.\n",
            "Instructions for updating:\n",
            "Use tf.where in 2.0, which has the same broadcast rule as np.where\n"
          ],
          "name": "stderr"
        },
        {
          "output_type": "stream",
          "text": [
            "_________________________________________________________________\n",
            "Layer (type)                 Output Shape              Param #   \n",
            "=================================================================\n",
            "embedding_1 (Embedding)      (None, 96, 250)           7905750   \n",
            "_________________________________________________________________\n",
            "lstm_1 (LSTM)                (None, 96, 250)           501000    \n",
            "_________________________________________________________________\n",
            "lstm_2 (LSTM)                (None, 250)               501000    \n",
            "_________________________________________________________________\n",
            "dense_1 (Dense)              (None, 21)                5271      \n",
            "=================================================================\n",
            "Total params: 8,913,021\n",
            "Trainable params: 8,913,021\n",
            "Non-trainable params: 0\n",
            "_________________________________________________________________\n",
            "None\n",
            "Train on 111567 samples, validate on 12397 samples\n",
            "Epoch 1/18\n",
            "111567/111567 [==============================] - 203s 2ms/step - loss: 2.7344 - acc: 0.0868 - val_loss: 2.6669 - val_acc: 0.1224\n",
            "Epoch 2/18\n",
            "111567/111567 [==============================] - 197s 2ms/step - loss: 2.6661 - acc: 0.1176 - val_loss: 2.6743 - val_acc: 0.1149\n",
            "Epoch 3/18\n",
            "111567/111567 [==============================] - 197s 2ms/step - loss: 2.2696 - acc: 0.2477 - val_loss: 1.8051 - val_acc: 0.4286\n",
            "Epoch 4/18\n",
            "111567/111567 [==============================] - 198s 2ms/step - loss: 1.6063 - acc: 0.4989 - val_loss: 1.4928 - val_acc: 0.5451\n",
            "Epoch 5/18\n",
            "111567/111567 [==============================] - 197s 2ms/step - loss: 1.3573 - acc: 0.5797 - val_loss: 1.3849 - val_acc: 0.5685\n",
            "Epoch 6/18\n",
            "111567/111567 [==============================] - 197s 2ms/step - loss: 1.2159 - acc: 0.6185 - val_loss: 1.3524 - val_acc: 0.5797\n",
            "Epoch 7/18\n",
            "111567/111567 [==============================] - 197s 2ms/step - loss: 1.1135 - acc: 0.6489 - val_loss: 1.3389 - val_acc: 0.5836\n",
            "Epoch 8/18\n",
            "111567/111567 [==============================] - 197s 2ms/step - loss: 1.0386 - acc: 0.6688 - val_loss: 1.3526 - val_acc: 0.5839\n",
            "Epoch 9/18\n",
            "111567/111567 [==============================] - 197s 2ms/step - loss: 0.9696 - acc: 0.6869 - val_loss: 1.3564 - val_acc: 0.5800\n",
            "Epoch 10/18\n",
            "111567/111567 [==============================] - 197s 2ms/step - loss: 0.9145 - acc: 0.7008 - val_loss: 1.3959 - val_acc: 0.5817\n",
            "Epoch 11/18\n",
            "111567/111567 [==============================] - 197s 2ms/step - loss: 0.8663 - acc: 0.7127 - val_loss: 1.4071 - val_acc: 0.5839\n",
            "Epoch 12/18\n",
            "111567/111567 [==============================] - 197s 2ms/step - loss: 0.8250 - acc: 0.7234 - val_loss: 1.4216 - val_acc: 0.5811\n",
            "Epoch 13/18\n",
            "111567/111567 [==============================] - 196s 2ms/step - loss: 0.7898 - acc: 0.7312 - val_loss: 1.4726 - val_acc: 0.5768\n",
            "Epoch 14/18\n",
            "111567/111567 [==============================] - 197s 2ms/step - loss: 0.7600 - acc: 0.7391 - val_loss: 1.4902 - val_acc: 0.5780\n",
            "Epoch 15/18\n",
            "111567/111567 [==============================] - 197s 2ms/step - loss: 0.7307 - acc: 0.7467 - val_loss: 1.5181 - val_acc: 0.5713\n",
            "Epoch 16/18\n",
            "111567/111567 [==============================] - 197s 2ms/step - loss: 0.7074 - acc: 0.7524 - val_loss: 1.5445 - val_acc: 0.5712\n",
            "Epoch 17/18\n",
            "111567/111567 [==============================] - 197s 2ms/step - loss: 0.6847 - acc: 0.7573 - val_loss: 1.5845 - val_acc: 0.5700\n",
            "Epoch 18/18\n",
            "111567/111567 [==============================] - 197s 2ms/step - loss: 0.6653 - acc: 0.7625 - val_loss: 1.5675 - val_acc: 0.5709\n"
          ],
          "name": "stdout"
        },
        {
          "output_type": "display_data",
          "data": {
            "image/png": "[encoded data removed]",
            "text/plain": [
              "<Figure size 432x288 with 1 Axes>"
            ]
          },
          "metadata": {
            "tags": []
          }
        },
        {
          "output_type": "display_data",
          "data": {
            "image/png": "[encoded data removed]",
            "text/plain": [
              "<Figure size 432x288 with 1 Axes>"
            ]
          },
          "metadata": {
            "tags": []
          }
        }
      ]
    },
    {
      "cell_type": "markdown",
      "metadata": {
        "id": "0XfR-NRFbWk6",
        "colab_type": "text"
      },
      "source": [
        "Видно, что после 3 обучающей эпохи график потерь на проверочных данных снова стал расти. Это говорит о переобученной модели. Устранить проблему переобученности можно только увеличив количество обучаемых данных. А их у нас больше нет.\n"
      ]
    },
    {
      "cell_type": "code",
      "metadata": {
        "id": "l8IngSSYxwz4",
        "colab_type": "code",
        "outputId": "9a6b28be-e1aa-4bc3-f8cc-842bbf32718c",
        "colab": {
          "base_uri": "https://localhost:8080/",
          "height": 1000
        }
      },
      "source": [
        "tune_batch_size(sizes=[256, 320, 512], n_cells=250, n_epochs=12)"
      ],
      "execution_count": 0,
      "outputs": [
        {
          "output_type": "stream",
          "text": [
            "WARNING: Logging before flag parsing goes to stderr.\n",
            "W0809 11:48:01.612054 140112931002240 deprecation_wrapper.py:119] From /usr/local/lib/python3.6/dist-packages/keras/backend/tensorflow_backend.py:74: The name tf.get_default_graph is deprecated. Please use tf.compat.v1.get_default_graph instead.\n",
            "\n",
            "W0809 11:48:01.666249 140112931002240 deprecation_wrapper.py:119] From /usr/local/lib/python3.6/dist-packages/keras/backend/tensorflow_backend.py:517: The name tf.placeholder is deprecated. Please use tf.compat.v1.placeholder instead.\n",
            "\n",
            "W0809 11:48:01.675873 140112931002240 deprecation_wrapper.py:119] From /usr/local/lib/python3.6/dist-packages/keras/backend/tensorflow_backend.py:4138: The name tf.random_uniform is deprecated. Please use tf.random.uniform instead.\n",
            "\n"
          ],
          "name": "stderr"
        },
        {
          "output_type": "stream",
          "text": [
            ">1/9 (размер пакета 256), проход 1 из 3, тестируем....\n"
          ],
          "name": "stdout"
        },
        {
          "output_type": "stream",
          "text": [
            "W0809 11:48:01.929272 140112931002240 deprecation_wrapper.py:119] From /usr/local/lib/python3.6/dist-packages/keras/backend/tensorflow_backend.py:133: The name tf.placeholder_with_default is deprecated. Please use tf.compat.v1.placeholder_with_default instead.\n",
            "\n",
            "W0809 11:48:01.945590 140112931002240 deprecation.py:506] From /usr/local/lib/python3.6/dist-packages/keras/backend/tensorflow_backend.py:3445: calling dropout (from tensorflow.python.ops.nn_ops) with keep_prob is deprecated and will be removed in a future version.\n",
            "Instructions for updating:\n",
            "Please use `rate` instead of `keep_prob`. Rate should be set to `rate = 1 - keep_prob`.\n",
            "W0809 11:48:02.956106 140112931002240 deprecation_wrapper.py:119] From /usr/local/lib/python3.6/dist-packages/keras/optimizers.py:790: The name tf.train.Optimizer is deprecated. Please use tf.compat.v1.train.Optimizer instead.\n",
            "\n",
            "W0809 11:48:02.989974 140112931002240 deprecation_wrapper.py:119] From /usr/local/lib/python3.6/dist-packages/keras/backend/tensorflow_backend.py:3295: The name tf.log is deprecated. Please use tf.math.log instead.\n",
            "\n",
            "W0809 11:48:03.181730 140112931002240 deprecation.py:323] From /usr/local/lib/python3.6/dist-packages/tensorflow/python/ops/math_grad.py:1250: add_dispatch_support.<locals>.wrapper (from tensorflow.python.ops.array_ops) is deprecated and will be removed in a future version.\n",
            "Instructions for updating:\n",
            "Use tf.where in 2.0, which has the same broadcast rule as np.where\n"
          ],
          "name": "stderr"
        },
        {
          "output_type": "stream",
          "text": [
            "Train on 111567 samples, validate on 12397 samples\n",
            "Epoch 1/12\n",
            "111567/111567 [==============================] - 247s 2ms/step - loss: 2.6915 - acc: 0.1062 - val_loss: 2.7319 - val_acc: 0.0836\n",
            "Epoch 2/12\n",
            "111567/111567 [==============================] - 243s 2ms/step - loss: 2.6788 - acc: 0.1139 - val_loss: 2.5881 - val_acc: 0.1337\n",
            "Epoch 3/12\n",
            "111567/111567 [==============================] - 243s 2ms/step - loss: 2.5863 - acc: 0.1307 - val_loss: 2.5677 - val_acc: 0.1356\n",
            "Epoch 4/12\n",
            "111567/111567 [==============================] - 241s 2ms/step - loss: 2.5532 - acc: 0.1362 - val_loss: 2.4138 - val_acc: 0.2020\n",
            "Epoch 5/12\n",
            "111567/111567 [==============================] - 238s 2ms/step - loss: 2.1236 - acc: 0.2883 - val_loss: 1.8008 - val_acc: 0.4108\n",
            "Epoch 6/12\n",
            "111567/111567 [==============================] - 240s 2ms/step - loss: 1.5222 - acc: 0.5264 - val_loss: 1.4158 - val_acc: 0.5663\n",
            "Epoch 7/12\n",
            "111567/111567 [==============================] - 240s 2ms/step - loss: 1.2517 - acc: 0.6104 - val_loss: 1.3139 - val_acc: 0.5876\n",
            "Epoch 8/12\n",
            "111567/111567 [==============================] - 242s 2ms/step - loss: 1.1119 - acc: 0.6466 - val_loss: 1.2906 - val_acc: 0.5937\n",
            "Epoch 9/12\n",
            "111567/111567 [==============================] - 240s 2ms/step - loss: 1.0086 - acc: 0.6745 - val_loss: 1.2868 - val_acc: 0.5914\n",
            "Epoch 10/12\n",
            "111567/111567 [==============================] - 240s 2ms/step - loss: 0.9282 - acc: 0.6959 - val_loss: 1.3085 - val_acc: 0.5909\n",
            "Epoch 11/12\n",
            "111567/111567 [==============================] - 243s 2ms/step - loss: 0.8624 - acc: 0.7114 - val_loss: 1.3360 - val_acc: 0.5882\n",
            "Epoch 12/12\n",
            "111567/111567 [==============================] - 242s 2ms/step - loss: 0.8141 - acc: 0.7233 - val_loss: 1.3602 - val_acc: 0.5854\n",
            ">>1/9 (размер пакета 256), проход 1 из 3, потери = 1.360222, точность = 58.538356\n",
            ">2/9 (размер пакета 256), проход 2 из 3, тестируем....\n",
            "Train on 111567 samples, validate on 12397 samples\n",
            "Epoch 1/12\n",
            "111567/111567 [==============================] - 245s 2ms/step - loss: 2.7134 - acc: 0.0951 - val_loss: 2.5872 - val_acc: 0.1239\n",
            "Epoch 2/12\n",
            "111567/111567 [==============================] - 244s 2ms/step - loss: 2.6131 - acc: 0.1334 - val_loss: 2.6384 - val_acc: 0.1284\n",
            "Epoch 3/12\n",
            "111567/111567 [==============================] - 243s 2ms/step - loss: 2.5051 - acc: 0.1556 - val_loss: 2.3998 - val_acc: 0.1843\n",
            "Epoch 4/12\n",
            "111567/111567 [==============================] - 243s 2ms/step - loss: 2.2002 - acc: 0.2657 - val_loss: 1.7702 - val_acc: 0.4437\n",
            "Epoch 5/12\n",
            "111567/111567 [==============================] - 239s 2ms/step - loss: 1.5288 - acc: 0.5262 - val_loss: 1.4403 - val_acc: 0.5571\n",
            "Epoch 6/12\n",
            "111567/111567 [==============================] - 238s 2ms/step - loss: 1.2824 - acc: 0.6014 - val_loss: 1.3636 - val_acc: 0.5726\n",
            "Epoch 7/12\n",
            "111567/111567 [==============================] - 241s 2ms/step - loss: 1.1513 - acc: 0.6374 - val_loss: 1.3322 - val_acc: 0.5812\n",
            "Epoch 8/12\n",
            "111567/111567 [==============================] - 241s 2ms/step - loss: 1.0566 - acc: 0.6631 - val_loss: 1.3301 - val_acc: 0.5825\n",
            "Epoch 9/12\n",
            "111567/111567 [==============================] - 242s 2ms/step - loss: 0.9817 - acc: 0.6829 - val_loss: 1.3179 - val_acc: 0.5884\n",
            "Epoch 10/12\n",
            "111567/111567 [==============================] - 241s 2ms/step - loss: 0.9159 - acc: 0.6995 - val_loss: 1.3344 - val_acc: 0.5835\n",
            "Epoch 11/12\n",
            "111567/111567 [==============================] - 243s 2ms/step - loss: 0.8636 - acc: 0.7115 - val_loss: 1.3617 - val_acc: 0.5881\n",
            "Epoch 12/12\n",
            "111567/111567 [==============================] - 244s 2ms/step - loss: 0.8180 - acc: 0.7239 - val_loss: 1.3754 - val_acc: 0.5855\n",
            ">>2/9 (размер пакета 256), проход 2 из 3, потери = 1.375421, точность = 58.554489\n",
            ">3/9 (размер пакета 256), проход 3 из 3, тестируем....\n",
            "Train on 111567 samples, validate on 12397 samples\n",
            "Epoch 1/12\n",
            "111567/111567 [==============================] - 246s 2ms/step - loss: 2.7378 - acc: 0.0840 - val_loss: 2.6459 - val_acc: 0.1139\n",
            "Epoch 2/12\n",
            "111567/111567 [==============================] - 243s 2ms/step - loss: 2.5711 - acc: 0.1460 - val_loss: 2.3030 - val_acc: 0.2204\n",
            "Epoch 3/12\n",
            "111567/111567 [==============================] - 242s 2ms/step - loss: 2.0027 - acc: 0.3596 - val_loss: 1.7011 - val_acc: 0.4848\n",
            "Epoch 4/12\n",
            "111567/111567 [==============================] - 242s 2ms/step - loss: 1.5861 - acc: 0.5138 - val_loss: 1.5262 - val_acc: 0.5364\n",
            "Epoch 5/12\n",
            "111567/111567 [==============================] - 241s 2ms/step - loss: 1.3686 - acc: 0.5809 - val_loss: 1.4120 - val_acc: 0.5643\n",
            "Epoch 6/12\n",
            "111567/111567 [==============================] - 238s 2ms/step - loss: 1.2339 - acc: 0.6182 - val_loss: 1.3489 - val_acc: 0.5799\n",
            "Epoch 7/12\n",
            "111567/111567 [==============================] - 244s 2ms/step - loss: 1.1379 - acc: 0.6427 - val_loss: 1.3245 - val_acc: 0.5881\n",
            "Epoch 8/12\n",
            "111567/111567 [==============================] - 244s 2ms/step - loss: 1.0451 - acc: 0.6663 - val_loss: 1.3345 - val_acc: 0.5871\n",
            "Epoch 9/12\n",
            "111567/111567 [==============================] - 244s 2ms/step - loss: 0.9647 - acc: 0.6864 - val_loss: 1.3281 - val_acc: 0.5883\n",
            "Epoch 10/12\n",
            "111567/111567 [==============================] - 244s 2ms/step - loss: 0.9015 - acc: 0.7012 - val_loss: 1.3477 - val_acc: 0.5855\n",
            "Epoch 11/12\n",
            "111567/111567 [==============================] - 244s 2ms/step - loss: 0.8470 - acc: 0.7152 - val_loss: 1.3794 - val_acc: 0.5834\n",
            "Epoch 12/12\n",
            "111567/111567 [==============================] - 244s 2ms/step - loss: 0.8020 - acc: 0.7258 - val_loss: 1.4164 - val_acc: 0.5876\n",
            ">>3/9 (размер пакета 256), проход 3 из 3, потери = 1.416446, точность = 58.756151\n",
            ">4/9 (размер пакета 320), проход 1 из 3, тестируем....\n",
            "Train on 111567 samples, validate on 12397 samples\n",
            "Epoch 1/12\n",
            "111567/111567 [==============================] - 210s 2ms/step - loss: 2.7430 - acc: 0.0819 - val_loss: 2.7248 - val_acc: 0.0864\n",
            "Epoch 2/12\n",
            "111567/111567 [==============================] - 206s 2ms/step - loss: 2.6289 - acc: 0.1311 - val_loss: 2.4754 - val_acc: 0.1812\n",
            "Epoch 3/12\n",
            "111567/111567 [==============================] - 205s 2ms/step - loss: 2.1854 - acc: 0.2844 - val_loss: 1.9663 - val_acc: 0.3779\n",
            "Epoch 4/12\n",
            "111567/111567 [==============================] - 205s 2ms/step - loss: 1.7315 - acc: 0.4578 - val_loss: 1.5655 - val_acc: 0.5173\n",
            "Epoch 5/12\n",
            "111567/111567 [==============================] - 205s 2ms/step - loss: 1.4241 - acc: 0.5633 - val_loss: 1.4073 - val_acc: 0.5687\n",
            "Epoch 6/12\n",
            "111567/111567 [==============================] - 204s 2ms/step - loss: 1.2530 - acc: 0.6097 - val_loss: 1.3393 - val_acc: 0.5834\n",
            "Epoch 7/12\n",
            "111567/111567 [==============================] - 205s 2ms/step - loss: 1.1469 - acc: 0.6381 - val_loss: 1.3109 - val_acc: 0.5881\n",
            "Epoch 8/12\n",
            "111567/111567 [==============================] - 203s 2ms/step - loss: 1.0632 - acc: 0.6598 - val_loss: 1.3188 - val_acc: 0.5882\n",
            "Epoch 9/12\n",
            "111567/111567 [==============================] - 205s 2ms/step - loss: 0.9939 - acc: 0.6768 - val_loss: 1.3194 - val_acc: 0.5896\n",
            "Epoch 10/12\n",
            "111567/111567 [==============================] - 206s 2ms/step - loss: 0.9356 - acc: 0.6920 - val_loss: 1.3137 - val_acc: 0.5901\n",
            "Epoch 11/12\n",
            "111567/111567 [==============================] - 206s 2ms/step - loss: 0.8863 - acc: 0.7053 - val_loss: 1.3510 - val_acc: 0.5896\n",
            "Epoch 12/12\n",
            "111567/111567 [==============================] - 206s 2ms/step - loss: 0.8389 - acc: 0.7162 - val_loss: 1.3598 - val_acc: 0.5889\n",
            ">>4/9 (размер пакета 320), проход 1 из 3, потери = 1.359753, точность = 58.893280\n",
            ">5/9 (размер пакета 320), проход 2 из 3, тестируем....\n",
            "Train on 111567 samples, validate on 12397 samples\n",
            "Epoch 1/12\n",
            "111567/111567 [==============================] - 211s 2ms/step - loss: 2.7411 - acc: 0.0862 - val_loss: 2.7301 - val_acc: 0.0897\n",
            "Epoch 2/12\n",
            "111567/111567 [==============================] - 206s 2ms/step - loss: 2.7349 - acc: 0.0851 - val_loss: 2.7235 - val_acc: 0.0861\n",
            "Epoch 3/12\n",
            "111567/111567 [==============================] - 205s 2ms/step - loss: 2.6133 - acc: 0.1219 - val_loss: 2.3654 - val_acc: 0.2071\n",
            "Epoch 4/12\n",
            "111567/111567 [==============================] - 205s 2ms/step - loss: 2.1991 - acc: 0.2679 - val_loss: 2.0601 - val_acc: 0.3319\n",
            "Epoch 5/12\n",
            "111567/111567 [==============================] - 205s 2ms/step - loss: 1.8649 - acc: 0.3988 - val_loss: 1.6595 - val_acc: 0.4867\n",
            "Epoch 6/12\n",
            "111567/111567 [==============================] - 205s 2ms/step - loss: 1.4714 - acc: 0.5465 - val_loss: 1.4186 - val_acc: 0.5650\n",
            "Epoch 7/12\n",
            "111567/111567 [==============================] - 205s 2ms/step - loss: 1.2594 - acc: 0.6091 - val_loss: 1.3439 - val_acc: 0.5771\n",
            "Epoch 8/12\n",
            "111567/111567 [==============================] - 205s 2ms/step - loss: 1.1416 - acc: 0.6392 - val_loss: 1.3229 - val_acc: 0.5837\n",
            "Epoch 9/12\n",
            "111567/111567 [==============================] - 205s 2ms/step - loss: 1.0553 - acc: 0.6621 - val_loss: 1.3227 - val_acc: 0.5901\n",
            "Epoch 10/12\n",
            "111567/111567 [==============================] - 205s 2ms/step - loss: 0.9835 - acc: 0.6813 - val_loss: 1.3352 - val_acc: 0.5834\n",
            "Epoch 11/12\n",
            "111567/111567 [==============================] - 205s 2ms/step - loss: 0.9277 - acc: 0.6963 - val_loss: 1.3667 - val_acc: 0.5805\n",
            "Epoch 12/12\n",
            "111567/111567 [==============================] - 204s 2ms/step - loss: 0.8767 - acc: 0.7087 - val_loss: 1.3631 - val_acc: 0.5807\n",
            ">>5/9 (размер пакета 320), проход 2 из 3, потери = 1.363122, точность = 58.070501\n",
            ">6/9 (размер пакета 320), проход 3 из 3, тестируем....\n",
            "Train on 111567 samples, validate on 12397 samples\n",
            "Epoch 1/12\n",
            "111567/111567 [==============================] - 210s 2ms/step - loss: 2.7428 - acc: 0.0832 - val_loss: 2.7268 - val_acc: 0.0856\n",
            "Epoch 2/12\n",
            "111567/111567 [==============================] - 205s 2ms/step - loss: 2.7290 - acc: 0.0882 - val_loss: 2.7238 - val_acc: 0.0851\n",
            "Epoch 3/12\n",
            "111567/111567 [==============================] - 205s 2ms/step - loss: 2.6260 - acc: 0.1300 - val_loss: 2.5355 - val_acc: 0.1771\n",
            "Epoch 4/12\n",
            "111567/111567 [==============================] - 205s 2ms/step - loss: 2.4023 - acc: 0.2085 - val_loss: 2.1021 - val_acc: 0.3136\n",
            "Epoch 5/12\n",
            "111567/111567 [==============================] - 204s 2ms/step - loss: 1.8260 - acc: 0.4190 - val_loss: 1.6355 - val_acc: 0.4971\n",
            "Epoch 6/12\n",
            "111567/111567 [==============================] - 205s 2ms/step - loss: 1.4478 - acc: 0.5501 - val_loss: 1.4312 - val_acc: 0.5564\n",
            "Epoch 7/12\n",
            "111567/111567 [==============================] - 201s 2ms/step - loss: 1.2549 - acc: 0.6113 - val_loss: 1.3624 - val_acc: 0.5763\n",
            "Epoch 8/12\n",
            "111567/111567 [==============================] - 205s 2ms/step - loss: 1.1402 - acc: 0.6423 - val_loss: 1.3329 - val_acc: 0.5854\n",
            "Epoch 9/12\n",
            "111567/111567 [==============================] - 204s 2ms/step - loss: 1.0497 - acc: 0.6650 - val_loss: 1.3319 - val_acc: 0.5841\n",
            "Epoch 10/12\n",
            "111567/111567 [==============================] - 205s 2ms/step - loss: 0.9737 - acc: 0.6852 - val_loss: 1.3504 - val_acc: 0.5838\n",
            "Epoch 11/12\n",
            "111567/111567 [==============================] - 204s 2ms/step - loss: 0.9131 - acc: 0.7005 - val_loss: 1.3711 - val_acc: 0.5797\n",
            "Epoch 12/12\n",
            "111567/111567 [==============================] - 201s 2ms/step - loss: 0.8584 - acc: 0.7153 - val_loss: 1.3791 - val_acc: 0.5805\n",
            ">>6/9 (размер пакета 320), проход 3 из 3, потери = 1.379131, точность = 58.054368\n",
            ">7/9 (размер пакета 512), проход 1 из 3, тестируем....\n",
            "Train on 111567 samples, validate on 12397 samples\n",
            "Epoch 1/12\n",
            "111567/111567 [==============================] - 154s 1ms/step - loss: 2.7434 - acc: 0.0851 - val_loss: 2.6859 - val_acc: 0.1349\n",
            "Epoch 2/12\n",
            "111567/111567 [==============================] - 148s 1ms/step - loss: 2.5289 - acc: 0.1486 - val_loss: 2.4604 - val_acc: 0.1618\n",
            "Epoch 3/12\n",
            "111567/111567 [==============================] - 148s 1ms/step - loss: 2.3539 - acc: 0.2081 - val_loss: 2.1841 - val_acc: 0.2738\n",
            "Epoch 4/12\n",
            "111567/111567 [==============================] - 148s 1ms/step - loss: 1.9641 - acc: 0.3583 - val_loss: 1.7515 - val_acc: 0.4625\n",
            "Epoch 5/12\n",
            "111567/111567 [==============================] - 148s 1ms/step - loss: 1.5871 - acc: 0.5164 - val_loss: 1.5166 - val_acc: 0.5446\n",
            "Epoch 6/12\n",
            "111567/111567 [==============================] - 148s 1ms/step - loss: 1.3707 - acc: 0.5846 - val_loss: 1.4202 - val_acc: 0.5703\n",
            "Epoch 7/12\n",
            "111567/111567 [==============================] - 149s 1ms/step - loss: 1.2485 - acc: 0.6160 - val_loss: 1.3690 - val_acc: 0.5793\n",
            "Epoch 8/12\n",
            "111567/111567 [==============================] - 148s 1ms/step - loss: 1.1422 - acc: 0.6427 - val_loss: 1.3455 - val_acc: 0.5810\n",
            "Epoch 9/12\n",
            "111567/111567 [==============================] - 148s 1ms/step - loss: 1.0642 - acc: 0.6630 - val_loss: 1.3467 - val_acc: 0.5885\n",
            "Epoch 10/12\n",
            "111567/111567 [==============================] - 148s 1ms/step - loss: 0.9968 - acc: 0.6810 - val_loss: 1.3442 - val_acc: 0.5827\n",
            "Epoch 11/12\n",
            "111567/111567 [==============================] - 147s 1ms/step - loss: 0.9399 - acc: 0.6947 - val_loss: 1.3682 - val_acc: 0.5863\n",
            "Epoch 12/12\n",
            "111567/111567 [==============================] - 148s 1ms/step - loss: 0.8923 - acc: 0.7059 - val_loss: 1.3700 - val_acc: 0.5876\n",
            ">>7/9 (размер пакета 512), проход 1 из 3, потери = 1.369958, точность = 58.764217\n",
            ">8/9 (размер пакета 512), проход 2 из 3, тестируем....\n",
            "Train on 111567 samples, validate on 12397 samples\n",
            "Epoch 1/12\n",
            "111567/111567 [==============================] - 155s 1ms/step - loss: 2.7414 - acc: 0.0848 - val_loss: 2.6431 - val_acc: 0.1334\n",
            "Epoch 2/12\n",
            "111567/111567 [==============================] - 149s 1ms/step - loss: 2.6712 - acc: 0.1230 - val_loss: 2.6669 - val_acc: 0.1174\n",
            "Epoch 3/12\n",
            "111567/111567 [==============================] - 148s 1ms/step - loss: 2.6987 - acc: 0.1000 - val_loss: 2.6666 - val_acc: 0.1158\n",
            "Epoch 4/12\n",
            "111567/111567 [==============================] - 148s 1ms/step - loss: 2.6704 - acc: 0.1188 - val_loss: 2.6569 - val_acc: 0.1207\n",
            "Epoch 5/12\n",
            "111567/111567 [==============================] - 148s 1ms/step - loss: 2.6600 - acc: 0.1189 - val_loss: 2.6534 - val_acc: 0.1226\n",
            "Epoch 6/12\n",
            "111567/111567 [==============================] - 148s 1ms/step - loss: 2.6600 - acc: 0.1200 - val_loss: 2.6552 - val_acc: 0.1205\n",
            "Epoch 7/12\n",
            "111567/111567 [==============================] - 147s 1ms/step - loss: 2.6581 - acc: 0.1186 - val_loss: 2.6539 - val_acc: 0.1155\n",
            "Epoch 8/12\n",
            "111567/111567 [==============================] - 147s 1ms/step - loss: 2.6574 - acc: 0.1195 - val_loss: 2.6533 - val_acc: 0.1107\n",
            "Epoch 9/12\n",
            "111567/111567 [==============================] - 148s 1ms/step - loss: 2.6586 - acc: 0.1188 - val_loss: 2.6547 - val_acc: 0.1260\n",
            "Epoch 10/12\n",
            "111567/111567 [==============================] - 147s 1ms/step - loss: 2.6547 - acc: 0.1206 - val_loss: 2.6454 - val_acc: 0.1155\n",
            "Epoch 11/12\n",
            "111567/111567 [==============================] - 147s 1ms/step - loss: 2.6603 - acc: 0.1182 - val_loss: 2.6593 - val_acc: 0.1114\n",
            "Epoch 12/12\n",
            "111567/111567 [==============================] - 146s 1ms/step - loss: 2.6618 - acc: 0.1176 - val_loss: 2.6582 - val_acc: 0.1161\n",
            ">>8/9 (размер пакета 512), проход 2 из 3, потери = 2.658210, точность = 11.607647\n",
            ">9/9 (размер пакета 512), проход 3 из 3, тестируем....\n",
            "Train on 111567 samples, validate on 12397 samples\n",
            "Epoch 1/12\n",
            "111567/111567 [==============================] - 154s 1ms/step - loss: 2.7285 - acc: 0.0903 - val_loss: 2.5732 - val_acc: 0.1496\n",
            "Epoch 2/12\n",
            "111567/111567 [==============================] - 146s 1ms/step - loss: 2.5877 - acc: 0.1356 - val_loss: 2.5823 - val_acc: 0.1449\n",
            "Epoch 3/12\n",
            "111567/111567 [==============================] - 146s 1ms/step - loss: 2.4487 - acc: 0.1825 - val_loss: 2.3308 - val_acc: 0.2543\n",
            "Epoch 4/12\n",
            "111567/111567 [==============================] - 146s 1ms/step - loss: 2.2279 - acc: 0.2715 - val_loss: 2.1921 - val_acc: 0.2734\n",
            "Epoch 5/12\n",
            "111567/111567 [==============================] - 146s 1ms/step - loss: 2.0130 - acc: 0.3471 - val_loss: 1.8591 - val_acc: 0.4170\n",
            "Epoch 6/12\n",
            "111567/111567 [==============================] - 146s 1ms/step - loss: 1.7229 - acc: 0.4624 - val_loss: 1.6645 - val_acc: 0.4875\n",
            "Epoch 7/12\n",
            "111567/111567 [==============================] - 146s 1ms/step - loss: 1.5299 - acc: 0.5283 - val_loss: 1.5316 - val_acc: 0.5299\n",
            "Epoch 8/12\n",
            "111567/111567 [==============================] - 146s 1ms/step - loss: 1.3763 - acc: 0.5760 - val_loss: 1.4490 - val_acc: 0.5558\n",
            "Epoch 9/12\n",
            "111567/111567 [==============================] - 147s 1ms/step - loss: 1.2680 - acc: 0.6076 - val_loss: 1.3862 - val_acc: 0.5693\n",
            "Epoch 10/12\n",
            "111567/111567 [==============================] - 146s 1ms/step - loss: 1.1714 - acc: 0.6330 - val_loss: 1.3674 - val_acc: 0.5773\n",
            "Epoch 11/12\n",
            "111567/111567 [==============================] - 148s 1ms/step - loss: 1.0949 - acc: 0.6534 - val_loss: 1.3350 - val_acc: 0.5830\n",
            "Epoch 12/12\n",
            "111567/111567 [==============================] - 148s 1ms/step - loss: 1.0298 - acc: 0.6707 - val_loss: 1.3279 - val_acc: 0.5867\n",
            ">>9/9 (размер пакета 512), проход 3 из 3, потери = 1.327914, точность = 58.667420\n",
            "\n",
            "ПОТЕРИ:\n",
            "             256       320       512\n",
            "count  3.000000  3.000000  3.000000\n",
            "mean   1.384030  1.367335  1.785361\n",
            "std    0.029084  0.010353  0.756202\n",
            "min    1.360222  1.359753  1.327914\n",
            "25%    1.367821  1.361437  1.348936\n",
            "50%    1.375421  1.363122  1.369958\n",
            "75%    1.395934  1.371126  2.014084\n",
            "max    1.416446  1.379131  2.658210\n",
            "\n",
            "ТОЧНОСТЬ:\n",
            "              256        320        512\n",
            "count   3.000000   3.000000   3.000000\n",
            "mean   58.616332  58.339383  43.013095\n",
            "std     0.121355   0.479757  27.197958\n",
            "min    58.538356  58.054368  11.607647\n",
            "25%    58.546423  58.062434  35.137533\n",
            "50%    58.554489  58.070501  58.667420\n",
            "75%    58.655320  58.481890  58.715818\n",
            "max    58.756151  58.893280  58.764217\n"
          ],
          "name": "stdout"
        },
        {
          "output_type": "display_data",
          "data": {
            "image/png": "[encoded data removed]",
            "text/plain": [
              "<Figure size 432x288 with 1 Axes>"
            ]
          },
          "metadata": {
            "tags": []
          }
        },
        {
          "output_type": "display_data",
          "data": {
            "image/png": "[encoded data removed]",
            "text/plain": [
              "<Figure size 432x288 with 1 Axes>"
            ]
          },
          "metadata": {
            "tags": []
          }
        }
      ]
    },
    {
      "cell_type": "code",
      "metadata": {
        "id": "r-SWTWmZZD6d",
        "colab_type": "code",
        "outputId": "17734c74-d540-40d3-885c-dbb2d839cb39",
        "colab": {
          "base_uri": "https://localhost:8080/",
          "height": 776
        }
      },
      "source": [
        "tune_memory_cells(mem_cells=[128, 254, 320], n_epochs=3, batch_size=320)"
      ],
      "execution_count": 0,
      "outputs": [
        {
          "output_type": "stream",
          "text": [
            ">1/9 (128 ячеек), проход 1 из 3, тестируем....\n",
            "Train on 111567 samples, validate on 12397 samples\n",
            "Epoch 1/3\n",
            "111567/111567 [==============================] - 173s 2ms/step - loss: 2.7122 - acc: 0.0933 - val_loss: 2.4893 - val_acc: 0.1837\n",
            "Epoch 2/3\n",
            "111567/111567 [==============================] - 166s 1ms/step - loss: 2.2185 - acc: 0.2590 - val_loss: 1.9558 - val_acc: 0.3812\n",
            "Epoch 3/3\n",
            "111567/111567 [==============================] - 167s 2ms/step - loss: 1.6992 - acc: 0.4695 - val_loss: 1.5610 - val_acc: 0.5213\n",
            ">>1/9 (128 ячеек), проход 1 из 3, потери = 1.561040, точность = 52.133581\n",
            ">2/9 (128 ячеек), проход 2 из 3, тестируем....\n",
            "Train on 111567 samples, validate on 12397 samples\n",
            "Epoch 1/3\n",
            "111567/111567 [==============================] - 175s 2ms/step - loss: 2.7088 - acc: 0.0922 - val_loss: 2.6577 - val_acc: 0.1057\n",
            "Epoch 2/3\n",
            "111567/111567 [==============================] - 165s 1ms/step - loss: 2.6566 - acc: 0.1033 - val_loss: 2.6565 - val_acc: 0.1045\n",
            "Epoch 3/3\n",
            "111567/111567 [==============================] - 164s 1ms/step - loss: 2.6551 - acc: 0.1039 - val_loss: 2.6553 - val_acc: 0.1089\n",
            ">>2/9 (128 ячеек), проход 2 из 3, потери = 2.655271, точность = 10.889731\n",
            ">3/9 (128 ячеек), проход 3 из 3, тестируем....\n",
            "Train on 111567 samples, validate on 12397 samples\n",
            "Epoch 1/3\n",
            "111567/111567 [==============================] - 174s 2ms/step - loss: 2.7194 - acc: 0.0908 - val_loss: 2.6090 - val_acc: 0.1333\n",
            "Epoch 2/3\n",
            "111567/111567 [==============================] - 167s 2ms/step - loss: 2.5820 - acc: 0.1447 - val_loss: 2.4810 - val_acc: 0.1879\n",
            "Epoch 3/3\n",
            "111567/111567 [==============================] - 168s 2ms/step - loss: 2.4155 - acc: 0.2159 - val_loss: 2.2830 - val_acc: 0.2851\n",
            ">>3/9 (128 ячеек), проход 3 из 3, потери = 2.282956, точность = 28.514963\n",
            ">4/9 (254 ячеек), проход 1 из 3, тестируем....\n",
            "Train on 111567 samples, validate on 12397 samples\n",
            "Epoch 1/3\n",
            "111567/111567 [==============================] - 210s 2ms/step - loss: 2.6624 - acc: 0.1070 - val_loss: 2.4718 - val_acc: 0.1625\n",
            "Epoch 2/3\n",
            "111567/111567 [==============================] - 201s 2ms/step - loss: 2.3540 - acc: 0.1978 - val_loss: 2.1430 - val_acc: 0.2837\n",
            "Epoch 3/3\n",
            "111567/111567 [==============================] - 201s 2ms/step - loss: 1.8329 - acc: 0.4209 - val_loss: 1.5833 - val_acc: 0.5249\n",
            ">>4/9 (254 ячеек), проход 1 из 3, потери = 1.583314, точность = 52.488505\n",
            ">5/9 (254 ячеек), проход 2 из 3, тестируем....\n",
            "Train on 111567 samples, validate on 12397 samples\n",
            "Epoch 1/3\n",
            "111567/111567 [==============================] - 212s 2ms/step - loss: 2.7218 - acc: 0.0925 - val_loss: 2.6626 - val_acc: 0.1210\n",
            "Epoch 2/3\n",
            "111567/111567 [==============================] - 202s 2ms/step - loss: 2.6593 - acc: 0.1123 - val_loss: 2.7055 - val_acc: 0.0874\n",
            "Epoch 3/3\n",
            " 23040/111567 [=====>........................] - ETA: 2:34 - loss: 2.7053 - acc: 0.0918"
          ],
          "name": "stdout"
        }
      ]
    }
  ]
}